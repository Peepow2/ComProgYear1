{
  "nbformat": 4,
  "nbformat_minor": 0,
  "metadata": {
    "colab": {
      "name": "HW9.ipynb",
      "provenance": [],
      "collapsed_sections": []
    },
    "kernelspec": {
      "name": "python3",
      "display_name": "Python 3"
    },
    "language_info": {
      "name": "python"
    }
  },
  "cells": [
    {
      "cell_type": "markdown",
      "metadata": {
        "id": "cvBsupl8osge"
      },
      "source": [
        "# HW9 Decision Tree\n",
        "\n"
      ]
    },
    {
      "cell_type": "markdown",
      "metadata": {
        "id": "SKoRB5wLqGnI"
      },
      "source": [
        "\n",
        "# **ต้นไม้ตัดสินใจ (Decision Tree)** \n",
        "เป็นโมเดลทางคณิตศาสตร์ที่มีโครงสร้างเป็นกราฟลักษณะคล้ายต้นไม้ซึ่งถูกใช้เพื่อทำนายประเภทของวัตถุหรือสร้างแนวทางในการตัดสินใจ โดยพิจารณาจากค่าคุณลักษณะ (`attributes`) ข้อมูลมาทำการจำแนกประเภท (classification) ข้อมูลออกเป็นคลาสต่างๆเพื่อให้มนุษย์นำไปแปลผลเพื่อช่วยในการตัดสินใจได้ดียิ่งขึ้น Decision tree ได้รับความนิยมในการเอาไปใช้ในศาสตร์การเรียนรู้ของเครื่อง (machine learning) และการทำเหมืองข้อมูล (data mining)\n",
        "\n",
        "\n",
        "โดยสิ่งที่เอามาใช้สร้าง decision tree นั่นก็คือ กลุ่มของข้อมูลที่มี attributes ร่วมกัน ตามตารางข้างล่างนี้ โดย attributes มี 2 ประเภท คือ คุณลักษณะเฉพาะ(`feature attribute`) ซึ่งเอามาใช้สร้าง node และ คุณลักษณะเป้าหมาย (`target attribute`) ซึ่งจะเอามาใช้สร้าง leaf\n",
        "![](https://drive.google.com/uc?export=view&id=1-RARHaFS2R1FnKg8g5n0ID0m1WQ2WFgI)\n",
        "ลักษณะของ decision tree เป็นลักษณะของต้นไม้กลับหัว มีองค์ประกอบด้วย 3 ส่วน คือ\n",
        "1. ปม (`node`) ใช้ระบุ `ชื่อ feature attribute` ของข้อมูลซึ่งเมื่อข้อมูลได้ตกลงมาที่ node จะใช้ `attribute` ใน node นั้น เป็นตัวตัดสินใจว่าข้อมูลจะไปในทิศทางใด โดย `node` เริ่มต้นจะอยู่ที่จุดบนสุดของกราฟเรียกว่าปมราก (`root node`) และถ้า node นั้นแตก node อื่นๆออกมา(รวมถึงใบ) จะเรียก node นั้นว่า ปมพ่อ (`parent node`)\n",
        "2. กิ่ง (`branch`) ใช้ระบุ`ค่าของ attribute` จาก `node` ที่แตกกิ่งออกมา จำนวนกิ่งที่แตกจะเท่ากับ**จำนวน**`ค่าของ attribute` ใน `node` นั้นๆ\n",
        "3. ใบ (`leaf` หรือ `leaf node`) ใช้ระบุคลาสของปัญหา, ผลลัพธ์การตัดสินใจ หรือค่าของ `target attribute`\n",
        "\n",
        "\n",
        "แต่ละเส้นทาง (path) จาก root node ถึง leaf node สามารถแสดงให้อยู่ในรูป `condition` ได้ดังนี้\n",
        "\n",
        "\n",
        "```\n",
        "IF Outlook==\"sunny\" AND Humidity==\"high\" : PlayTennis = \"No\"\n",
        "IF Outlook==\"sunny\" AND Humidity==\"normal\" : PlayTennis = \"Yes\"\n",
        "IF Outlook==\"overcast\" : PlayTennis = \"Yes\"\n",
        "...\n",
        "```\n",
        "\n",
        "\n",
        "ในปัจจุบันมีอัลกอริทึมหลายแบบที่ถูกสร้างขึ้นมาเพื่อใช้ในการคัดเลือก `attribute` ที่เหมาะสมเพื่อที่จะนำมาสร้างต้นไม้ที่ดีที่สุด (optimal tree) โดยที่นิยมในปัจจุบันได้แก่ CART algorithm, ID3 algorithm, C4.5 algorithm ซึ่งในโจทย์ข้อนี้จะใช้ `ID3 algorithm`\n",
        "\n",
        "\n"
      ]
    },
    {
      "cell_type": "markdown",
      "metadata": {
        "id": "hvBuIQH1GCSO"
      },
      "source": [
        "##ID3 algorithm (Iterative Dichotomiser 3) \n",
        "- สำหรับผู้ต้องการอ่านฉบับภาษาอังกฤษแบบย่อ (เนื้อหาคล้ายกัน) : https://www.saedsayad.com/decision_tree.htm \n",
        "- สำหรับคนขี้เกียจอ่าน คลิปโดย Indian guy สอน (เนื้อหาคล้ายกัน) : https://youtu.be/UdTKxGQvYdc\n",
        "\n",
        "เป็นอัลกอริทึมที่ถูกเสนอขึ้นโดย J.R.Quinlan (1986) โดยใช้ค่าเกน (`Information Gain`) มาช่วยในการคัดเลือก feature attributes ที่เหมาะสมในแต่ละปม ซึ่งค่าเกณฑ์นี้คำนวณได้โดยอาศัยความรู้จากทฤษฎีสารสนเทศ (Information Theory) โดยกล่าวถึงการวัดปริมาณข้อมูล(สารสนเทศ)ด้วยค่าเอ็นโทรปี (`Entropy`)\n",
        "\n",
        "* ในเชิงนิยาม คำว่า\"ข้อมูล\"กับ\"สารสนเทศ\"มีความหมายที่ต่างกัน แต่ในที่นี้จะขอใช้คำว่า\"ข้อมูล\"แทน เพื่อความเข้าใจในการทำโจทย์\n",
        "\n",
        "## Entropy\n",
        "Entropy เป็นปริมาณที่บ่งบอกความไม่เป็นระเบียบของข้อมูล กล่าวคือหากค่าเอ็นโทรปีสูง แสดงว่าข้อมูลมีความหลากหลายมาก เอ็นโทรปีของชุดข้อมูล $S$ คำนวณได้จาก\n",
        "$$ Entropy(S) = \\sum_{c \\in t(S)}-P(c)\\log_2 P(c)\n",
        "$$ \n",
        "โดย \n",
        "- $P(c)$ คือความน่าจะเป็นที่ข้อมูลใน $S$ มี $Target$ เป็น $c$\n",
        "- $t(S)$ คือเซตของค่าที่เป็นไปได้ทั้งหมดของ $Target$ ในชุดข้อมูล $S$\n",
        "\n",
        "จากตัวอย่าง $S$ ข้างบน จะได้ \n",
        "- $S$ มีข้อมูล 14 แถว\n",
        "- $t(S)$ คือ $\\{ Yes, No \\}$ \n",
        "- มี 9 กรณีใน $S$ ที่ $Target$ เป็น $Yes$ ดังนั้น $P(Yes)$ = 9/14\n",
        "- มี 5 กรณีใน $S$ ที่ $Target$ เป็น $No$ ดังนั้น $P(No)$ = 5/14\n",
        "- เอ็นโทรปีของ $S$ มีค่า\n",
        "\\begin{align}\n",
        "Entropy(S) &= (-\\frac{9}{14}\\log_2\\frac{9}{14})+(-\\frac{5}{14}\\log_2\\frac{5}{14}) = 0.940\n",
        "\\end{align}\n",
        "\n",
        "เราสามารถตั้งเงื่อนไขให้สนใจเฉพาะข้อมูลใน $S$ ที่ $Outlook$ มีค่าเป็น $sunny$ จะได้\n",
        "- $S_{Outlook=sunny}$ มี 5 แถว\n",
        "- $t(S_{Outlook=sunny})$ คือ $\\{ Yes, No \\}$\n",
        "- มี 2 กรณีใน $S_{Outlook=sunny}$ ที่ $Target$ เป็น $Yes$ ดังนั้น $P(Yes)$ = 2/5\n",
        "- มี 3 กรณีใน $S_{Outlook=sunny}$ ที่ $Target$ เป็น $No$ ดังนั้น $P(No)$ = 3/5\n",
        "- เอ็นโทรปีของ $S_{Outlook=sunny}$ มีค่า\n",
        "\\begin{align}\n",
        "Entropy(S_{Outlook=sunny}) &= (-\\frac{2}{5}\\log_2\\frac{2}{5})+(-\\frac{3}{5}\\log_2\\frac{3}{5}) = 0.971\n",
        "\\end{align}\n",
        "- คำนวณในทำนองเดียวกันจะได้\n",
        "\\begin{align}\n",
        "Entropy(S_{Outlook=overcast}) &= (-\\frac{4}{4}\\log_2\\frac{4}{4}) = 0.0 \\\\\n",
        "Entropy(S_{Outlook=rainy}) &= (-\\frac{3}{5}\\log_2\\frac{3}{5})+(-\\frac{2}{5}\\log_2\\frac{2}{5}) = 0.971\n",
        "\\end{align}\n",
        "\n",
        "หรือจะตั้งเงื่อนไขให้ละเอียดขึ้น เช่น สนใจ $S$ ที่ $Outlook$ มีค่าเป็น $sunny$ และ $Windy$ เป็น $true$ จะได้\n",
        "- $S_{Outlook=sunny, Windy=true}$ มี 2 แถว\n",
        "- $t(S_{Outlook=sunny, Windy=true})$ คือ $\\{ Yes, No \\}$\n",
        "- มี 1 กรณีใน $S_{Outlook=sunny, Windy=true}$ ที่ $Target$ เป็น $Yes$ ดังนั้น $P(Yes)$ = 1/2\n",
        "- มี 1 กรณีใน $S_{Outlook=sunny, Windy=true}$ ที่ $Target$ เป็น $No$ ดังนั้น $P(No)$ = 1/2\n",
        "- เอ็นโทรปีของ $S_{Outlook=sunny, Windy=true}$ มีค่า\n",
        "\\begin{align}\n",
        "Entropy(S_{Outlook=sunny, Windy=true}) &= (-\\frac{1}{2}\\log_2\\frac{1}{2})+(-\\frac{1}{2}\\log_2\\frac{1}{2}) = 1.0\n",
        "\\end{align}\n",
        "\n",
        "### การใช้ ID3  มี**จุดประสงค์**เพื่อเฟ้นหา feature attribute ที่ทำให้ Entropy ของชุดข้อมูลลดลงมากที่สุด เพื่อนำ attribute ดังกล่าวมาสร้างเป็น node แบ่งข้อมูลใน decision tree นั่นเอง\n",
        "\n",
        "โดยสมการของเอ็นโทรปีภายหลังจากการเลือก attribute $X$ เพื่อแบ่งชุดข้อมูล $S$ โดยที่ \n",
        "- $X$ มีค่า $x_1, x_2, ..., x_n$\n",
        "- จะแบ่ง $S$ ออกเป็น $S_{X=x_1}$, $S_{X=x_2}$, ..., $S_{X=x_n}$\n",
        "- เอ็นโทรปีของ S ที่สนใจเฉพาะ attribute $X$ จะเป็นค่าเฉลี่ยถ่วงน้ำหนักของ $Entropy(S_{X=x_1})$, $Entropy(S_{X=x_2})$, ..., $Entropy(S_{X=x_n})$ นั่นคือ\n",
        "\n",
        "$$Entropy(S, X) = \\sum_{i=1}^{n}\\frac{|S_{X=x_i}|}{|S|}Entropy(S_{X=x_i})$$\n",
        "\n",
        "- ดังนั้น ค่าเอ็นโทรปีของข้อมูล $S$ ภายหลังจากการเลือก attribute แต่ละตัว มาเป็น node แบ่ง จะได้\n",
        "\\begin{align}\n",
        "Entropy(S, Outlook) &= \\frac{5}{14}Entropy(s_{Outlook=sunny})+\\frac{4}{14}Entropy(s_{Outlook=overcast})+\\frac{5}{14}Entropy(s_{Outlook=rainy}) \\\\\n",
        "&= \\frac{5}{14}(0.971)+\\frac{4}{14}(0)+\\frac{5}{14}(0.971) = 0.694\\\\\n",
        "Entropy(S, Temperature) &= 0.911\\\\\n",
        "Entropy(S, Humidity) &= 0.788\\\\\n",
        "Entropy(S, Windy) &= 0.892\n",
        "\\end{align}\n",
        "(ขอไม่ลงรายละเอียดในการคำนวณค่าของสามกรณีหลัง ให้นิสิตใช้เป็นข้อมูลทดสอบความถูกต้องได้)\n",
        "\n",
        "- ในกรณีนี้แทนที่จะใช้ทั้งชุดข้อมูล $S$ ก็สามารถตั้งเงื่อนไขได้ เช่น สนใจ $S$ ที่ $Windy$ มีค่าเป็น $true$ เช่น\n",
        "\\begin{align}\n",
        "Entropy(S_{Windy=true}, Outlook) &= \\frac{2}{6}Entropy(s_{Windy=true,Outlook=sunny})+\\frac{2}{6}Entropy(s_{Windy=true,Outlook=overcast})+\\frac{2}{6}Entropy(s_{Windy=true,Outlook=rainy}) \\\\\n",
        "&= \\frac{2}{6}(1.0)+\\frac{2}{6}(0)+\\frac{2}{6}(0) \\\\\n",
        "&= 0.333\n",
        "\\end{align}\n",
        "(ขอไม่ลงรายละเอียดในการคำนวณ ให้นิสิตใช้เป็นข้อมูลทดสอบความถูกต้องได้)\n",
        "\n",
        "**หมายเหตุ:** ค่าต่าง ๆ ที่แสดงในตัวอย่างข้างบนนี้ ตัดมาเลขหลังจุดทศนิยมมาแค่ 3 ตำแหน่งเพื่อความกะทัดรัด \\\\\n",
        "**หมายเหตุ2:** ถ้าสังเกตุในบางกรณี หากแทนค่าตามสูตร จะพบกับกรณี $log_2 0$ ซึ่งไม่สามารถหาค่าได้ แต่หากพิจารณาตามนิยามของ Entropy แล้ว เมื่อค่าความน่าจะเป็นมีค่าเป็น 0 หมายความว่าเหตุการณ์นั้นไม่มีทางเกิดขึ้นอย่างแน่นอน ดังนั้น ค่า Entropy จึงควรมีค่าเป็น 0"
      ]
    },
    {
      "cell_type": "markdown",
      "metadata": {
        "id": "tP2HFnSgiWMG"
      },
      "source": [
        "## Information Gain (เป็นส่วนนอกเหนือจากการบ้าน)\n",
        "ค่า Entropy ที่กล่าวมาในหัวข้อข้างต้น ถูกนำมาใช้คำนวณค่า Information Gain $IG$ โดยค่าเกนของ attribute $a$ จะคำนวณได้จากผลต่างของค่า Entropy ระหว่างก่อนและหลังจากการแบ่งด้วย attribute $a$ \n",
        "$$ Gain(S, a) = Entropy(S) - Entropy(S,a) \n",
        "$$\n",
        "โดยค่า attribute ที่จะนำมาสร้าง node ใน decision tree จะเป็นค่าที่ให้ Information Gain สูงสุด\n",
        "\n",
        "ตัวอย่างเช่น ค่า Information Gain ของ attribute Outlook จะมีค่าเป็น\n",
        "$$ Gain(S, Outlook) = Entropy(S) - Entropy(S, Outlook) = 0.940-0.694 = 0.246 $$\n",
        "และเมื่อลองคำนวณค่า Information Gain ของ feature attributes ตัวอื่นๆ จะได้ค่าดังนี้\n",
        "$$ Gain(S, Temperature) = 0.029 $$\n",
        "$$ Gain(S, Humidity) = 0.151 $$\n",
        "$$ Gain(S, Windy) = 0.048 $$\n",
        "เมื่อเปรียบเทียบแล้ว จะเห็นว่าค่าเกนของ Outlook มีค่ามากที่สุด ดังนั้น Outlook จึงถูกเลือกไปสร้าง node แรกของ decision tree (root node)\n",
        "![image.png](data:image/png;base64,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)\n",
        "\n",
        "แต่ attribute เพียงตัวเดียวไม่สามารถแยกตัวอย่างการตัดสินใจเล่นเทนนิส(PlayTennis) ออกทั้งหมดได้ จึงต้องพิจารณา attribute ตัวอื่นเพื่อสร้าง node เพิ่มต่อไป จนกว่ากิ่งทุกกิ่งจะให้ผลลัพธ์แบบเดียวกันทั้งหมด เช่น กิ่งของ overcast ซึ่งจะให้ค่า Entropy เท่ากับ 0 (เอาไปหาค่าเกนก็ได้ค่าเกนที่มากที่สุด) จึงสามารถใส่ leaf ซึ่งเป็นส่วนตัดสินใจได้"
      ]
    },
    {
      "cell_type": "markdown",
      "metadata": {
        "id": "cyTxdcAm5iNZ"
      },
      "source": [
        "# รายละเอียดการบ้าน\n",
        "ข้อมูลที่จะนำมาใช้ในการสร้าง Decision Tree จะอยู่ในรูป **List of List** โดย\n",
        "  - ค่าที่อยู่ใน index 0 ของลิสต์ภายในเป็น Dict ที่มีชื่อ feature attribute เป็น key และ ค่าของ feature attribute เป็น value \n",
        "  - ค่าที่อยู่ใน index 1 ของลิสต์ภายในเป็น ค่าของ target attribute (ในที่นี้คือ PlayTennis)\n",
        "\n",
        "\n",
        "\n",
        " **target attribute ไม่จำเป็นต้องมีแค่ Yes กับ No อาจจะมีมากกว่านั้นก็ได้ **\n",
        "```\n",
        "S = [ [{'Outlook': 'sunny', 'Temperature': 'hot', 'Humidity': 'high', 'Windy': 'false'}, 'No'],\n",
        "      [{'Outlook': 'sunny', 'Temperature': 'hot', 'Humidity': 'high', 'Windy': 'true'}, 'No'],\n",
        "      [{'Outlook': 'overcast', 'Temperature': 'hot', 'Humidity': 'high', 'Windy': 'false'}, 'Yes'],\n",
        "      [{'Outlook': 'rainy', 'Temperature': 'mild', 'Humidity': 'high', 'Windy': 'false'}, 'Yes'],\n",
        "      [{'Outlook': 'rainy', 'Temperature': 'cool', 'Humidity': 'normal', 'Windy': 'false'}, 'Yes'],\n",
        "      [{'Outlook': 'rainy', 'Temperature': 'cool', 'Humidity': 'normal', 'Windy': 'true'}, 'No'],\n",
        "      [{'Outlook': 'overcast', 'Temperature': 'cool', 'Humidity': 'normal', 'Windy': 'true'}, 'Yes'],\n",
        "      [{'Outlook': 'sunny', 'Temperature': 'mild', 'Humidity': 'high', 'Windy': 'false'}, 'No'],\n",
        "      [{'Outlook': 'sunny', 'Temperature': 'cool', 'Humidity': 'normal', 'Windy': 'false'}, 'Yes'],\n",
        "      [{'Outlook': 'rainy', 'Temperature': 'mild', 'Humidity': 'normal', 'Windy': 'false'}, 'Yes'],\n",
        "      [{'Outlook': 'sunny', 'Temperature': 'mild', 'Humidity': 'normal', 'Windy': 'true'}, 'Yes'],\n",
        "      [{'Outlook': 'overcast', 'Temperature': 'mild', 'Humidity': 'high', 'Windy': 'true'}, 'Yes'],\n",
        "      [{'Outlook': 'overcast', 'Temperature': 'hot', 'Humidity': 'normal', 'Windy': 'false'}, 'Yes'],\n",
        "      [{'Outlook': 'rainy', 'Temperature': 'mild', 'Humidity': 'high', 'Windy': 'true'}, 'No']    \n",
        "] \n",
        "```\n",
        "หากต้อง test บางฟังก์ชั่นที่เขียนไว้ สามารถใช้ข้อมูลนี้ในการทดสอบใน thonny,vscode, pycharm ได้ (การันตีว่าเป็นข้อมูลชุดเดียวกัน) \n",
        "\n",
        "### สำหรับผู้ที่ทำใน colab ให้โหลดไฟล์สำหรับงานนี้ได้[ที่นี่](https://drive.google.com/uc?export=view&id=1hHWIJnOQJLhTPy15mp83_BLumfGXOgV6)\n",
        "- แล้วให้อัพโหลดขึ้น colab ตามขั้นตอนที่กำหนด\n",
        "\n",
        "![](https://drive.google.com/uc?export=view&id=1hrTsk7AV7pLIpZefZnY-dEJhTlgZjrJq)\n",
        "\n",
        "# สิ่งที่ต้องทำ\n",
        "นิสิตเขียน 3 ฟังก์ชั่นดังนี้\n",
        "\n",
        "**ทั้ง 3 ฟังก์ชั่น ห้ามแก้ไข Parameter ที่รับเข้ามา ไม่งั้นจะทำให้โค้ดส่วนที่พี่ ๆ เขียน พังครับ**\n",
        "\n",
        "## งานที่ 1 ฟังก์ชั่นคืนค่าของ $S_{conditions}$\n",
        "```\n",
        "def get_rows(S, conditions):\n",
        "``` \n",
        "- รับ `S` เก็บข้อมูลของเหตุการณ์ทั้งหมด อยู่ในรูป List of List ตามตัวอย่างข้างบน\n",
        "- รับ `condition` (dict: `{feature_name: feature_value, ...}` ) เป็นเงื่อนไขของข้อมูลที่จะเอามาใช้คำนวณ Entropy (ถ้าเป็น Dict ว่าง {} หมายความว่าไม่มีเงื่อนไข)\n",
        "- คืน `S` เป็นข้อมูลที่เป็นไปตาม `conditions` ที่กำหนด หากไม่มีเงื่อนไข (เป็น Dict ว่าง {}) ให้คืนค่าทุกตัว\n",
        "\n",
        "ยกตัวอย่างเช่น หากเรียกใช้ฟังก์ชั่นนี้ โดยคำสั่ง \\\\\n",
        "```get_rows(S, {'Outlook':'sunny'})```\n",
        "จะคืนค่า\n",
        "```\n",
        "[[{'Outlook': 'sunny', 'Temperature': 'hot', 'Humidity': 'high', 'Windy': 'false'}, 'No'],\n",
        "[{'Outlook': 'sunny', 'Temperature': 'hot', 'Humidity': 'high', 'Windy': 'true'}, 'No'], \n",
        "[{'Outlook': 'sunny', 'Temperature': 'mild', 'Humidity': 'high', 'Windy': 'false'}, 'No'], \n",
        "[{'Outlook': 'sunny', 'Temperature': 'cool', 'Humidity': 'normal', 'Windy': 'false'}, 'Yes'], \n",
        "[{'Outlook': 'sunny', 'Temperature': 'mild', 'Humidity': 'normal', 'Windy': 'true'}, 'Yes']]\n",
        "``` \n",
        "\n",
        "ใช้คำสั่ง\n",
        "```get_rows(S, {'Outlook':'sunny', 'Windy':'true'}) ``` จะคืนค่า\n",
        "```\n",
        "[[{'Outlook': 'sunny', 'Temperature': 'hot', 'Humidity': 'high', 'Windy': 'true'}, 'No'], \n",
        "[{'Outlook': 'sunny', 'Temperature': 'mild', 'Humidity': 'normal', 'Windy': 'true'}, 'Yes']]\n",
        "```\n",
        "ใช้คำสั่ง ```get_rows(S, {})``` จะคืนค่าข้อมูลทั้งหมด\n",
        "\n",
        "## งานที่ 2 ฟังก์ชั่นคืนค่าของ $Entropy(S_{conditions})$\n",
        "```\n",
        "def Entropy(S, conditions):\n",
        "```\n",
        "- รับ `S` เก็บข้อมูลของเหตุการณ์ทั้งหมด อยู่ในรูป List of List ตามตัวอย่างข้างบน\n",
        "- รับ `conditions` (dict: `{feature_name: feature_value, ...}` ) เป็นเงื่อนไขของข้อมูลที่จะเอามาใช้คำนวณ Entropy (ถ้าเป็น Dict ว่าง {} หมายความว่าไม่มีเงื่อนไข)\n",
        "- คืนค่า `entropy` (float) ตามสมการข้างต้น\n",
        "\n",
        "ยกตัวอย่างเช่น หากเรียกใช้ฟังก์ชั่นนี้ โดยคำสั่ง \\\\\n",
        "```Entropy(S, {'Outlook':'sunny'})```\n",
        "\n",
        "จะคืนค่า ```0.9709505944546686``` (อันนี้ก็คือ $Entropy(S_{Outlook=sunny})$)\n",
        "\n",
        "ใช้คำสั่ง ```Entropy(S, {'Outlook':'sunny', 'Windy':'true'})``` \n",
        "\n",
        "จะคืนค่า ```1.0``` (อันนี้ก็คือ $Entropy(S_{Windy=true,Outlook=sunny})$)\n",
        "\n",
        "ใช้คำสั่ง ```Entropy(S, {})``` \n",
        "\n",
        "จะคืนค่า ```0.9402859586706309``` (อันนี้ก็คือ $Entropy(S)$)\n",
        "\n",
        "## งานที่ 3 ฟังก์ชั่นคืนค่าของ $Entropy(S_{conditions},X)$\n",
        "```\n",
        "def Entropy_with_feature(S, conditions, feature_name):\n",
        "```\n",
        "- รับ `S` เก็บข้อมูลของเหตุการณ์ทั้งหมด อยู่ในรูป List of List ตามตัวอย่างข้างบน\n",
        "- รับ `conditions` (dict: `{feature_name: feature_value, ...}` ) เป็นเงื่อนไขของข้อมูลที่จะเอามาใช้คำนวณ Entropy (ถ้าเป็น Dict ว่าง {} หมายความว่าไม่มีเงื่อนไข) \n",
        "- รับ `feature_name` (string) เป็นชื่อของ feature attribute ที่ถูกเลือกมาสร้าง node\n",
        "- คืนค่า `entropy` (float) ตามสมการข้างต้น\n",
        "\n",
        "ยกตัวอย่างเช่น หากเรียกใช้ฟังก์ชั่นนี้ โดยคำสั่ง \\\\\n",
        "```Entropy_with_feature(S, {'Windy':'true'}, 'Outlook' )``` \n",
        "\n",
        "จะคืนค่า ```0.3333333333333333``` (อันนี้ก็คือ $Entropy(S_{Windy=true}, Outlook)$)\n",
        "\n",
        "ใช้คำสั่ง```Entropy_with_feature(S, {}, 'Outlook')``` \n",
        "\n",
        "จะคืนค่า ```0.6935361388961918``` (อันนี้ก็คือ $Entropy(S, Outlook)$) \n"
      ]
    },
    {
      "cell_type": "markdown",
      "metadata": {
        "id": "Wu4ZKUhrjnId"
      },
      "source": [
        "## ข้อกำหนดการบ้าน\n",
        "- ห้าม import library อื่นๆเข้ามาใช้ในการบ้านนี้\n",
        "- อนุญาตให้สร้างฟังก์ชันเพิ่มเติมได้ (ต้องเขียนลงใน code cell เดียวกันเท่านั้น)\n",
        "- ไม่อนุญาตให้แก้โค้ดส่วนอื่นของการบ้าน\n",
        "- ทั้ง 3 ฟังก์ชั่น ห้ามแก้ไข Parameter ที่รับเข้ามา ไม่งั้นจะทำให้โค้ดส่วนที่พี่ ๆ เขียน พังครับ (หากแก้ไขค่า รบกวนแก้กลับมาเป็นเหมือนเดิมด้วย)\n",
        "- วิธีการส่งการบ้าน\n",
        "  - ส่งเฉพาะฟังก์ชันที่ให้เขียนในโจทย์เท่านั้น\n",
        "  - ตั้งชื่อแฟ้มโปรแกรม python ที่จะส่ง ให้เป็น \n",
        "hw9_เลขประจำตัวนิสิต.py  เช่น hw9_6430000021.py\n",
        "  - ส่งแฟ้มใน attachment box ของ assignment hw9 ของ mycourseville\n",
        "- รายละเอียดอื่นๆ\n",
        "  - รับประกันว่าข้อมูลในทุก attributes เป็น categorical value (discrete values) กล่าวคือ ไม่มีข้อมูลที่เป็นตัวเลขหลายค่า (numerical)\n",
        "  - รับประกันว่า target attribute มีแค่ตัวเดียว แต่ \"ค่า\"ของ target attribute ที่จะทดสอบอาจมีได้มากกว่า 2 ค่า\n",
        " - รับประกันว่าข้อมูลทุกตัวในลิสต์ ไม่มีข้อมูลค่าสูญหาย (Missing values)\n",
        "\n",
        " \n"
      ]
    },
    {
      "cell_type": "code",
      "metadata": {
        "colab": {
          "base_uri": "https://localhost:8080/"
        },
        "id": "w5zj5ZfEpJe5",
        "outputId": "793ffadc-79b9-4aa8-c14f-db3aac49bba2"
      },
      "source": [
        "! pip install python-igraph==0.9.6\n",
        "! pip install cairocffi"
      ],
      "execution_count": null,
      "outputs": [
        {
          "output_type": "stream",
          "name": "stdout",
          "text": [
            "Requirement already satisfied: python-igraph==0.9.6 in /usr/local/lib/python3.7/dist-packages (0.9.6)\n",
            "Requirement already satisfied: texttable>=1.6.2 in /usr/local/lib/python3.7/dist-packages (from python-igraph==0.9.6) (1.6.4)\n",
            "Requirement already satisfied: cairocffi in /usr/local/lib/python3.7/dist-packages (1.3.0)\n",
            "Requirement already satisfied: cffi>=1.1.0 in /usr/local/lib/python3.7/dist-packages (from cairocffi) (1.14.6)\n",
            "Requirement already satisfied: pycparser in /usr/local/lib/python3.7/dist-packages (from cffi>=1.1.0->cairocffi) (2.20)\n"
          ]
        }
      ]
    },
    {
      "cell_type": "code",
      "metadata": {
        "id": "JWVan-u1N58t"
      },
      "source": [
        "# Write the three required functions in this cell only.\n",
        "# Addtional functions can be added here.\n",
        "# other modules cannot be imported\n",
        "# เขียนชื่อ นามสกุล เลขประจำตัวนิสิต\n",
        "import math \n",
        "\n",
        "\n",
        "#---------------------------------------\n",
        "def get_rows(S, conditions):\n",
        "\n",
        "\n",
        "#---------------------------------------\n",
        "def Entropy(S, conditions):\n",
        "\n",
        "\n",
        "#---------------------------------------\n",
        "def Entropy_with_feature(S, conditions, feature_name):\n",
        "\n",
        "\n",
        "#---------------------------------------"
      ],
      "execution_count": null,
      "outputs": []
    },
    {
      "cell_type": "code",
      "metadata": {
        "id": "4V5QIRRq76ui",
        "colab": {
          "base_uri": "https://localhost:8080/",
          "height": 821
        },
        "outputId": "a85100cd-8526-4195-e989-4661ba9f64d5"
      },
      "source": [
        "### DON'T CHANGE THESE CODES #####\n",
        "from igraph import *\n",
        "\n",
        "def dataPrepare() :\n",
        "  file = open(\"climate_for_tennis.csv\", \"r\")\n",
        "  data = []\n",
        "  att = file.readline().strip().split(\",\")\n",
        "  feature = att[1:-1]\n",
        "  target = att[-1]\n",
        "  row_data = file.readline().strip()\n",
        "  while len(row_data)>0:\n",
        "    row_data = row_data.split(\",\")\n",
        "    lorem = []\n",
        "    temp = dict()\n",
        "    for i in range(1,len(row_data)-1) :\n",
        "      temp[att[i]] = row_data[i]\n",
        "    lorem.append(temp)\n",
        "    lorem.append(row_data[-1])\n",
        "    data.append(lorem)\n",
        "    row_data = file.readline().strip()\n",
        "  return data, feature, target\n",
        "\n",
        "def findParent(attribute, conditions) :\n",
        "  ent_target, no_interest, iaf  = targetOp(S, target_att, conditions) \n",
        "  if ent_target==0 : return target_att+\"=\\n\"+iaf \n",
        "  max_gain = 0 ; parent = \"\"\n",
        "  for feature in attribute :\n",
        "    gain = ent_target - Entropy_with_feature(S, conditions, feature) \n",
        "    if gain > max_gain :\n",
        "      max_gain = gain\n",
        "      parent = feature\n",
        "  return parent\n",
        "\n",
        "def DFS(parent, stack_used, num_node) :\n",
        "  edge_names = getName(get_rows(S,stack_used), parent)\n",
        "  unused_att = [e for e in feature_att if e not in stack_used and e != parent]\n",
        "  for name in edge_names :\n",
        "    stack_used[parent] = name \n",
        "    val = findParent(unused_att, stack_used)\n",
        "    no_graph = len(vertice)\n",
        "    vertice[no_graph] = val\n",
        "    relation.append((num_node,no_graph))\n",
        "    edge.append(name)\n",
        "\n",
        "    if val in unused_att :\n",
        "      DFS(val, stack_used, no_graph)\n",
        "    stack_used.pop(parent)\n",
        "\n",
        "def targetOp(S, target, conditions) :\n",
        "    entropy = Entropy(S, conditions)\n",
        "    count = count_features(S, conditions)\n",
        "    return entropy, count, leaf(S, conditions)\n",
        "\n",
        "def count_features(S, conditions):\n",
        "    if len(conditions) == 0:\n",
        "        return len(S)\n",
        "    return len(get_rows(S, conditions))\n",
        "\n",
        "def leaf(S, conditions):\n",
        "    if Entropy(S, conditions)==0:\n",
        "        s = get_rows(S, conditions)\n",
        "        return s[0][1]\n",
        "    else:\n",
        "        return ''\n",
        "\n",
        "def getName(S, att) :\n",
        "  if att==target_att :\n",
        "    return list({e[1] for e in S})\n",
        "  name = []\n",
        "  for row in S :\n",
        "    if row[0][att] not in name :\n",
        "      name.append(row[0][att])\n",
        "  return name\n",
        "  \n",
        "S, feature_att, target_att = dataPrepare()\n",
        "stack = {}\n",
        "root = findParent(feature_att,{})\n",
        "\n",
        "vertice = {0:root} #map(key=int, value=node&&leaf) \n",
        "edge = [] #list(value of feature_att)\n",
        "relation = [] #list of tuple of two_ints\n",
        "DFS(root,stack,0)\n",
        "\n",
        "label = [int(e) for e in range(len(vertice))]\n",
        "vs_label = [vertice[e] for e in label]  #list of node&&leaf (sorted)\n",
        "non_leaf = [e for e in vs_label if e.find(\"=\")==-1]\n",
        "\n",
        "g = Graph(n = len(vertice), directed=True)\n",
        "g.add_edges(relation) #list of tuple of two_ints\n",
        "g.vs[\"label\"] = vs_label #list of node&&leaf (sorted)\n",
        "g.es[\"label\"] = edge  #list(value of feature_att)\n",
        "\n",
        "for i in range(len(vs_label)) : #distinct color for node && leaf\n",
        "  if vs_label[i].find(\"=\")==-1 :\n",
        "     g.vs[i][\"color\"] = \"aquamarine\"\n",
        "  else :\n",
        "     g.vs[i][\"color\"] = \"orange\"\n",
        "layout = g.layout_sugiyama() #tree_form\n",
        "plot(g, layout=layout, margin=(70,70,70,70))"
      ],
      "execution_count": null,
      "outputs": [
        {
          "output_type": "execute_result",
          "data": {
            "text/plain": [
              "<igraph.drawing.Plot at 0x7f382e7b2890>"
            ],
            "image/svg+xml": "<?xml version=\"1.0\" encoding=\"UTF-8\"?>\n<svg xmlns=\"http://www.w3.org/2000/svg\" xmlns:xlink=\"http://www.w3.org/1999/xlink\" width=\"600pt\" height=\"600pt\" viewBox=\"0 0 600 600\" version=\"1.1\">\n<defs>\n<g>\n<symbol overflow=\"visible\" id=\"glyph0-0\">\n<path style=\"stroke:none;\" d=\"M 0.46875 0 L 0.46875 -9.328125 L 4.1875 -9.328125 L 4.1875 0 Z M 0.9375 -0.46875 L 3.71875 -0.46875 L 3.71875 -8.859375 L 0.9375 -8.859375 Z M 0.9375 -0.46875 \"/>\n</symbol>\n<symbol overflow=\"visible\" id=\"glyph0-1\">\n<path style=\"stroke:none;\" d=\"M 7.703125 -4.65625 C 7.703125 -3.863281 7.617188 -3.171875 7.453125 -2.578125 C 7.296875 -1.984375 7.066406 -1.484375 6.765625 -1.078125 C 6.460938 -0.671875 6.09375 -0.363281 5.65625 -0.15625 C 5.226562 0.0390625 4.738281 0.140625 4.1875 0.140625 C 3.613281 0.140625 3.109375 0.0351562 2.671875 -0.171875 C 2.234375 -0.390625 1.867188 -0.703125 1.578125 -1.109375 C 1.285156 -1.523438 1.066406 -2.03125 0.921875 -2.625 C 0.773438 -3.21875 0.703125 -3.894531 0.703125 -4.65625 C 0.703125 -5.445312 0.773438 -6.132812 0.921875 -6.71875 C 1.078125 -7.3125 1.300781 -7.800781 1.59375 -8.1875 C 1.894531 -8.582031 2.265625 -8.875 2.703125 -9.0625 C 3.140625 -9.257812 3.640625 -9.359375 4.203125 -9.359375 C 5.328125 -9.359375 6.191406 -8.960938 6.796875 -8.171875 C 7.398438 -7.390625 7.703125 -6.21875 7.703125 -4.65625 Z M 6.328125 -4.65625 C 6.328125 -5.882812 6.144531 -6.796875 5.78125 -7.390625 C 5.425781 -7.992188 4.898438 -8.296875 4.203125 -8.296875 C 3.492188 -8.296875 2.960938 -7.992188 2.609375 -7.390625 C 2.253906 -6.796875 2.078125 -5.882812 2.078125 -4.65625 C 2.078125 -3.425781 2.253906 -2.492188 2.609375 -1.859375 C 2.972656 -1.234375 3.503906 -0.921875 4.203125 -0.921875 C 4.941406 -0.921875 5.476562 -1.238281 5.8125 -1.875 C 6.15625 -2.519531 6.328125 -3.445312 6.328125 -4.65625 Z M 6.328125 -4.65625 \"/>\n</symbol>\n<symbol overflow=\"visible\" id=\"glyph0-2\">\n<path style=\"stroke:none;\" d=\"M 2.5 -7.390625 L 2.5 -2.703125 C 2.5 -2.347656 2.523438 -2.046875 2.578125 -1.796875 C 2.628906 -1.554688 2.710938 -1.363281 2.828125 -1.21875 C 2.953125 -1.070312 3.109375 -0.96875 3.296875 -0.90625 C 3.492188 -0.84375 3.738281 -0.8125 4.03125 -0.8125 C 4.320312 -0.8125 4.582031 -0.863281 4.8125 -0.96875 C 5.050781 -1.070312 5.253906 -1.21875 5.421875 -1.40625 C 5.585938 -1.601562 5.710938 -1.84375 5.796875 -2.125 C 5.890625 -2.414062 5.9375 -2.742188 5.9375 -3.109375 L 5.9375 -7.390625 L 7.171875 -7.390625 L 7.171875 -1.578125 C 7.171875 -1.421875 7.171875 -1.253906 7.171875 -1.078125 C 7.171875 -0.910156 7.171875 -0.75 7.171875 -0.59375 C 7.179688 -0.445312 7.1875 -0.316406 7.1875 -0.203125 C 7.195312 -0.0976562 7.207031 -0.03125 7.21875 0 L 6.046875 0 C 6.046875 -0.0195312 6.039062 -0.078125 6.03125 -0.171875 C 6.03125 -0.273438 6.023438 -0.390625 6.015625 -0.515625 C 6.015625 -0.648438 6.007812 -0.785156 6 -0.921875 C 6 -1.054688 6 -1.171875 6 -1.265625 L 5.96875 -1.265625 C 5.851562 -1.046875 5.722656 -0.847656 5.578125 -0.671875 C 5.441406 -0.503906 5.28125 -0.359375 5.09375 -0.234375 C 4.90625 -0.117188 4.691406 -0.03125 4.453125 0.03125 C 4.210938 0.101562 3.929688 0.140625 3.609375 0.140625 C 3.203125 0.140625 2.847656 0.0859375 2.546875 -0.015625 C 2.253906 -0.117188 2.007812 -0.273438 1.8125 -0.484375 C 1.625 -0.691406 1.484375 -0.957031 1.390625 -1.28125 C 1.304688 -1.613281 1.265625 -2.007812 1.265625 -2.46875 L 1.265625 -7.390625 Z M 2.5 -7.390625 \"/>\n</symbol>\n<symbol overflow=\"visible\" id=\"glyph0-3\">\n<path style=\"stroke:none;\" d=\"M 1.296875 -6.421875 L 1.296875 -7.390625 L 2.46875 -7.390625 L 2.859375 -9.328125 L 3.671875 -9.328125 L 3.671875 -7.390625 L 6.625 -7.390625 L 6.625 -6.421875 L 3.671875 -6.421875 L 3.671875 -1.96875 C 3.671875 -1.601562 3.769531 -1.332031 3.96875 -1.15625 C 4.164062 -0.988281 4.484375 -0.90625 4.921875 -0.90625 C 5.109375 -0.90625 5.296875 -0.910156 5.484375 -0.921875 C 5.679688 -0.941406 5.867188 -0.960938 6.046875 -0.984375 C 6.222656 -1.015625 6.390625 -1.039062 6.546875 -1.0625 C 6.703125 -1.09375 6.835938 -1.117188 6.953125 -1.140625 L 6.953125 -0.203125 C 6.847656 -0.179688 6.71875 -0.148438 6.5625 -0.109375 C 6.40625 -0.078125 6.226562 -0.0390625 6.03125 0 C 5.832031 0.03125 5.613281 0.0546875 5.375 0.078125 C 5.144531 0.0976562 4.90625 0.109375 4.65625 0.109375 C 3.925781 0.109375 3.375 -0.046875 3 -0.359375 C 2.632812 -0.671875 2.453125 -1.164062 2.453125 -1.84375 L 2.453125 -6.421875 Z M 1.296875 -6.421875 \"/>\n</symbol>\n<symbol overflow=\"visible\" id=\"glyph0-4\">\n<path style=\"stroke:none;\" d=\"M 5.03125 -0.96875 L 7.625 -0.96875 L 7.625 0 L 0.921875 0 L 0.921875 -0.96875 L 3.796875 -0.96875 L 3.796875 -9.171875 L 1.828125 -9.171875 L 1.828125 -10.140625 L 5.03125 -10.140625 Z M 5.03125 -0.96875 \"/>\n</symbol>\n<symbol overflow=\"visible\" id=\"glyph0-5\">\n<path style=\"stroke:none;\" d=\"M 7.5 -3.703125 C 7.5 -3.054688 7.421875 -2.492188 7.265625 -2.015625 C 7.117188 -1.535156 6.898438 -1.132812 6.609375 -0.8125 C 6.328125 -0.488281 5.976562 -0.25 5.5625 -0.09375 C 5.144531 0.0625 4.675781 0.140625 4.15625 0.140625 C 3.664062 0.140625 3.21875 0.0625 2.8125 -0.09375 C 2.40625 -0.25 2.0625 -0.484375 1.78125 -0.796875 C 1.5 -1.117188 1.28125 -1.519531 1.125 -2 C 0.96875 -2.488281 0.890625 -3.054688 0.890625 -3.703125 C 0.890625 -4.972656 1.175781 -5.925781 1.75 -6.5625 C 2.332031 -7.207031 3.148438 -7.53125 4.203125 -7.53125 C 5.316406 -7.53125 6.144531 -7.210938 6.6875 -6.578125 C 7.226562 -5.953125 7.5 -4.992188 7.5 -3.703125 Z M 6.203125 -3.703125 C 6.203125 -4.273438 6.148438 -4.75 6.046875 -5.125 C 5.953125 -5.5 5.816406 -5.796875 5.640625 -6.015625 C 5.472656 -6.242188 5.265625 -6.398438 5.015625 -6.484375 C 4.773438 -6.578125 4.507812 -6.625 4.21875 -6.625 C 3.925781 -6.625 3.65625 -6.578125 3.40625 -6.484375 C 3.15625 -6.390625 2.9375 -6.226562 2.75 -6 C 2.570312 -5.78125 2.429688 -5.484375 2.328125 -5.109375 C 2.234375 -4.734375 2.1875 -4.265625 2.1875 -3.703125 C 2.1875 -3.128906 2.238281 -2.65625 2.34375 -2.28125 C 2.445312 -1.90625 2.585938 -1.601562 2.765625 -1.375 C 2.953125 -1.15625 3.164062 -1 3.40625 -0.90625 C 3.644531 -0.8125 3.894531 -0.765625 4.15625 -0.765625 C 4.445312 -0.765625 4.71875 -0.8125 4.96875 -0.90625 C 5.226562 -1 5.445312 -1.15625 5.625 -1.375 C 5.8125 -1.59375 5.953125 -1.890625 6.046875 -2.265625 C 6.148438 -2.648438 6.203125 -3.128906 6.203125 -3.703125 Z M 6.203125 -3.703125 \"/>\n</symbol>\n<symbol overflow=\"visible\" id=\"glyph0-6\">\n<path style=\"stroke:none;\" d=\"M 6.25 0 L 3.75 -3.40625 L 2.84375 -2.734375 L 2.84375 0 L 1.609375 0 L 1.609375 -10.140625 L 2.84375 -10.140625 L 2.84375 -3.8125 L 6.09375 -7.390625 L 7.53125 -7.390625 L 4.53125 -4.21875 L 7.6875 0 Z M 6.25 0 \"/>\n</symbol>\n<symbol overflow=\"visible\" id=\"glyph0-7\">\n<path style=\"stroke:none;\" d=\"M 5.984375 0 L 5.984375 -4.265625 L 2.40625 -4.265625 L 2.40625 0 L 1.109375 0 L 1.109375 -9.21875 L 2.40625 -9.21875 L 2.40625 -5.359375 L 5.984375 -5.359375 L 5.984375 -9.21875 L 7.28125 -9.21875 L 7.28125 0 Z M 5.984375 0 \"/>\n</symbol>\n<symbol overflow=\"visible\" id=\"glyph0-8\">\n<path style=\"stroke:none;\" d=\"M 3.625 0 L 3.625 -4.6875 C 3.625 -5.050781 3.609375 -5.351562 3.578125 -5.59375 C 3.554688 -5.832031 3.515625 -6.023438 3.453125 -6.171875 C 3.390625 -6.328125 3.304688 -6.429688 3.203125 -6.484375 C 3.109375 -6.546875 2.988281 -6.578125 2.84375 -6.578125 C 2.695312 -6.578125 2.5625 -6.519531 2.4375 -6.40625 C 2.320312 -6.289062 2.222656 -6.125 2.140625 -5.90625 C 2.054688 -5.695312 1.988281 -5.441406 1.9375 -5.140625 C 1.894531 -4.847656 1.875 -4.519531 1.875 -4.15625 L 1.875 0 L 0.71875 0 L 0.71875 -5.8125 C 0.71875 -5.96875 0.71875 -6.128906 0.71875 -6.296875 C 0.71875 -6.472656 0.710938 -6.632812 0.703125 -6.78125 C 0.703125 -6.9375 0.695312 -7.066406 0.6875 -7.171875 C 0.6875 -7.285156 0.679688 -7.359375 0.671875 -7.390625 L 1.703125 -7.390625 C 1.703125 -7.367188 1.703125 -7.3125 1.703125 -7.21875 C 1.710938 -7.125 1.71875 -7.015625 1.71875 -6.890625 C 1.726562 -6.773438 1.734375 -6.65625 1.734375 -6.53125 C 1.734375 -6.40625 1.734375 -6.296875 1.734375 -6.203125 L 1.75 -6.203125 C 1.8125 -6.378906 1.878906 -6.546875 1.953125 -6.703125 C 2.035156 -6.867188 2.132812 -7.015625 2.25 -7.140625 C 2.375 -7.265625 2.515625 -7.359375 2.671875 -7.421875 C 2.828125 -7.492188 3.015625 -7.53125 3.234375 -7.53125 C 3.628906 -7.53125 3.925781 -7.421875 4.125 -7.203125 C 4.320312 -6.984375 4.460938 -6.644531 4.546875 -6.1875 L 4.5625 -6.1875 C 4.644531 -6.40625 4.734375 -6.597656 4.828125 -6.765625 C 4.929688 -6.929688 5.046875 -7.070312 5.171875 -7.1875 C 5.296875 -7.300781 5.441406 -7.382812 5.609375 -7.4375 C 5.773438 -7.5 5.96875 -7.53125 6.1875 -7.53125 C 6.457031 -7.53125 6.6875 -7.476562 6.875 -7.375 C 7.070312 -7.28125 7.226562 -7.128906 7.34375 -6.921875 C 7.46875 -6.710938 7.554688 -6.441406 7.609375 -6.109375 C 7.660156 -5.785156 7.6875 -5.390625 7.6875 -4.921875 L 7.6875 0 L 6.53125 0 L 6.53125 -4.6875 C 6.53125 -5.050781 6.515625 -5.351562 6.484375 -5.59375 C 6.460938 -5.832031 6.421875 -6.023438 6.359375 -6.171875 C 6.296875 -6.328125 6.210938 -6.429688 6.109375 -6.484375 C 6.015625 -6.546875 5.894531 -6.578125 5.75 -6.578125 C 5.457031 -6.578125 5.222656 -6.382812 5.046875 -6 C 4.867188 -5.625 4.78125 -5.050781 4.78125 -4.28125 L 4.78125 0 Z M 3.625 0 \"/>\n</symbol>\n<symbol overflow=\"visible\" id=\"glyph0-9\">\n<path style=\"stroke:none;\" d=\"M 5.09375 -0.96875 L 7.6875 -0.96875 L 7.6875 0 L 0.984375 0 L 0.984375 -0.96875 L 3.859375 -0.96875 L 3.859375 -6.421875 L 1.6875 -6.421875 L 1.6875 -7.390625 L 5.09375 -7.390625 Z M 3.71875 -8.828125 L 3.71875 -10.140625 L 5.09375 -10.140625 L 5.09375 -8.828125 Z M 3.71875 -8.828125 \"/>\n</symbol>\n<symbol overflow=\"visible\" id=\"glyph0-10\">\n<path style=\"stroke:none;\" d=\"M 5.890625 -1.1875 C 5.671875 -0.707031 5.375 -0.359375 5 -0.140625 C 4.632812 0.0664062 4.175781 0.171875 3.625 0.171875 C 2.707031 0.171875 2.03125 -0.140625 1.59375 -0.765625 C 1.15625 -1.398438 0.9375 -2.359375 0.9375 -3.640625 C 0.9375 -6.210938 1.832031 -7.5 3.625 -7.5 C 4.175781 -7.5 4.632812 -7.398438 5 -7.203125 C 5.375 -7.015625 5.675781 -6.695312 5.90625 -6.25 C 5.90625 -6.269531 5.90625 -6.328125 5.90625 -6.421875 C 5.90625 -6.515625 5.90625 -6.617188 5.90625 -6.734375 C 5.90625 -6.847656 5.90625 -6.957031 5.90625 -7.0625 C 5.90625 -7.164062 5.90625 -7.238281 5.90625 -7.28125 L 5.90625 -10.140625 L 7.125 -10.140625 L 7.125 -1.53125 C 7.125 -1.351562 7.125 -1.179688 7.125 -1.015625 C 7.132812 -0.847656 7.140625 -0.695312 7.140625 -0.5625 C 7.148438 -0.425781 7.15625 -0.304688 7.15625 -0.203125 C 7.164062 -0.109375 7.171875 -0.0390625 7.171875 0 L 6 0 C 5.988281 -0.0195312 5.976562 -0.0703125 5.96875 -0.15625 C 5.96875 -0.238281 5.960938 -0.332031 5.953125 -0.4375 C 5.941406 -0.550781 5.929688 -0.675781 5.921875 -0.8125 C 5.921875 -0.945312 5.921875 -1.070312 5.921875 -1.1875 Z M 2.21875 -3.671875 C 2.21875 -3.160156 2.25 -2.722656 2.3125 -2.359375 C 2.375 -1.992188 2.472656 -1.691406 2.609375 -1.453125 C 2.753906 -1.222656 2.9375 -1.050781 3.15625 -0.9375 C 3.375 -0.820312 3.632812 -0.765625 3.9375 -0.765625 C 4.257812 -0.765625 4.539062 -0.816406 4.78125 -0.921875 C 5.019531 -1.035156 5.222656 -1.210938 5.390625 -1.453125 C 5.554688 -1.691406 5.679688 -2.003906 5.765625 -2.390625 C 5.859375 -2.773438 5.90625 -3.238281 5.90625 -3.78125 C 5.90625 -4.3125 5.859375 -4.753906 5.765625 -5.109375 C 5.679688 -5.472656 5.554688 -5.765625 5.390625 -5.984375 C 5.234375 -6.203125 5.035156 -6.359375 4.796875 -6.453125 C 4.554688 -6.546875 4.273438 -6.59375 3.953125 -6.59375 C 3.660156 -6.59375 3.40625 -6.539062 3.1875 -6.4375 C 2.96875 -6.332031 2.785156 -6.160156 2.640625 -5.921875 C 2.503906 -5.691406 2.398438 -5.390625 2.328125 -5.015625 C 2.253906 -4.648438 2.21875 -4.203125 2.21875 -3.671875 Z M 2.21875 -3.671875 \"/>\n</symbol>\n<symbol overflow=\"visible\" id=\"glyph0-11\">\n<path style=\"stroke:none;\" d=\"M 4.8125 0 C 4.644531 0.445312 4.46875 0.847656 4.28125 1.203125 C 4.101562 1.566406 3.898438 1.875 3.671875 2.125 C 3.453125 2.375 3.207031 2.566406 2.9375 2.703125 C 2.664062 2.835938 2.351562 2.90625 2 2.90625 C 1.84375 2.90625 1.695312 2.898438 1.5625 2.890625 C 1.4375 2.878906 1.300781 2.859375 1.15625 2.828125 L 1.15625 1.90625 C 1.238281 1.914062 1.332031 1.925781 1.4375 1.9375 C 1.550781 1.945312 1.644531 1.953125 1.71875 1.953125 C 2.082031 1.953125 2.421875 1.816406 2.734375 1.546875 C 3.054688 1.273438 3.328125 0.847656 3.546875 0.265625 L 3.671875 -0.078125 L 0.453125 -7.390625 L 1.765625 -7.390625 L 3.5625 -3.015625 C 3.613281 -2.890625 3.675781 -2.734375 3.75 -2.546875 C 3.820312 -2.367188 3.890625 -2.191406 3.953125 -2.015625 C 4.023438 -1.835938 4.085938 -1.675781 4.140625 -1.53125 C 4.191406 -1.394531 4.222656 -1.304688 4.234375 -1.265625 C 4.253906 -1.316406 4.289062 -1.410156 4.34375 -1.546875 C 4.394531 -1.691406 4.453125 -1.847656 4.515625 -2.015625 C 4.585938 -2.191406 4.65625 -2.367188 4.71875 -2.546875 C 4.789062 -2.722656 4.859375 -2.878906 4.921875 -3.015625 L 6.640625 -7.390625 L 7.9375 -7.390625 Z M 4.8125 0 \"/>\n</symbol>\n<symbol overflow=\"visible\" id=\"glyph0-12\">\n<path style=\"stroke:none;\" d=\"M 7.65625 -6.453125 C 7.65625 -6.078125 7.585938 -5.710938 7.453125 -5.359375 C 7.316406 -5.003906 7.109375 -4.6875 6.828125 -4.40625 C 6.554688 -4.132812 6.210938 -3.914062 5.796875 -3.75 C 5.378906 -3.59375 4.890625 -3.515625 4.328125 -3.515625 L 2.40625 -3.515625 L 2.40625 0 L 1.109375 0 L 1.109375 -9.21875 L 4.25 -9.21875 C 4.820312 -9.21875 5.316406 -9.148438 5.734375 -9.015625 C 6.160156 -8.890625 6.515625 -8.703125 6.796875 -8.453125 C 7.078125 -8.210938 7.289062 -7.921875 7.4375 -7.578125 C 7.582031 -7.242188 7.65625 -6.867188 7.65625 -6.453125 Z M 6.34375 -6.4375 C 6.34375 -7.007812 6.15625 -7.441406 5.78125 -7.734375 C 5.40625 -8.023438 4.84375 -8.171875 4.09375 -8.171875 L 2.40625 -8.171875 L 2.40625 -4.546875 L 4.15625 -4.546875 C 4.519531 -4.546875 4.835938 -4.59375 5.109375 -4.6875 C 5.390625 -4.789062 5.617188 -4.925781 5.796875 -5.09375 C 5.984375 -5.257812 6.117188 -5.457031 6.203125 -5.6875 C 6.296875 -5.925781 6.34375 -6.175781 6.34375 -6.4375 Z M 6.34375 -6.4375 \"/>\n</symbol>\n<symbol overflow=\"visible\" id=\"glyph0-13\">\n<path style=\"stroke:none;\" d=\"M 7.53125 -0.765625 C 7.59375 -0.765625 7.65625 -0.765625 7.71875 -0.765625 C 7.789062 -0.773438 7.863281 -0.789062 7.9375 -0.8125 L 7.9375 -0.046875 C 7.78125 -0.00390625 7.625 0.0195312 7.46875 0.03125 C 7.3125 0.0507812 7.148438 0.0625 6.984375 0.0625 C 6.742188 0.0625 6.539062 0.0351562 6.375 -0.015625 C 6.207031 -0.078125 6.070312 -0.171875 5.96875 -0.296875 C 5.863281 -0.429688 5.785156 -0.585938 5.734375 -0.765625 C 5.679688 -0.953125 5.648438 -1.171875 5.640625 -1.421875 L 5.59375 -1.421875 C 5.46875 -1.179688 5.328125 -0.960938 5.171875 -0.765625 C 5.015625 -0.578125 4.832031 -0.414062 4.625 -0.28125 C 4.425781 -0.144531 4.195312 -0.0390625 3.9375 0.03125 C 3.6875 0.101562 3.390625 0.140625 3.046875 0.140625 C 2.328125 0.140625 1.785156 -0.0546875 1.421875 -0.453125 C 1.054688 -0.847656 0.875 -1.382812 0.875 -2.0625 C 0.875 -2.550781 0.960938 -2.953125 1.140625 -3.265625 C 1.328125 -3.578125 1.566406 -3.820312 1.859375 -4 C 2.148438 -4.175781 2.476562 -4.300781 2.84375 -4.375 C 3.21875 -4.445312 3.597656 -4.484375 3.984375 -4.484375 L 5.59375 -4.515625 L 5.59375 -4.921875 C 5.59375 -5.222656 5.5625 -5.476562 5.5 -5.6875 C 5.4375 -5.90625 5.34375 -6.078125 5.21875 -6.203125 C 5.09375 -6.335938 4.929688 -6.4375 4.734375 -6.5 C 4.546875 -6.5625 4.328125 -6.59375 4.078125 -6.59375 C 3.847656 -6.59375 3.640625 -6.578125 3.453125 -6.546875 C 3.265625 -6.515625 3.101562 -6.453125 2.96875 -6.359375 C 2.84375 -6.273438 2.738281 -6.15625 2.65625 -6 C 2.570312 -5.84375 2.515625 -5.648438 2.484375 -5.421875 L 1.203125 -5.53125 C 1.242188 -5.820312 1.328125 -6.085938 1.453125 -6.328125 C 1.578125 -6.578125 1.753906 -6.789062 1.984375 -6.96875 C 2.210938 -7.144531 2.5 -7.28125 2.84375 -7.375 C 3.1875 -7.476562 3.601562 -7.53125 4.09375 -7.53125 C 5.007812 -7.53125 5.695312 -7.316406 6.15625 -6.890625 C 6.613281 -6.460938 6.84375 -5.847656 6.84375 -5.046875 L 6.84375 -1.859375 C 6.84375 -1.492188 6.890625 -1.21875 6.984375 -1.03125 C 7.078125 -0.851562 7.257812 -0.765625 7.53125 -0.765625 Z M 3.359375 -0.796875 C 3.742188 -0.796875 4.070312 -0.867188 4.34375 -1.015625 C 4.625 -1.160156 4.851562 -1.34375 5.03125 -1.5625 C 5.21875 -1.78125 5.359375 -2.019531 5.453125 -2.28125 C 5.546875 -2.550781 5.59375 -2.804688 5.59375 -3.046875 L 5.59375 -3.65625 L 4.296875 -3.625 C 4.046875 -3.613281 3.789062 -3.59375 3.53125 -3.5625 C 3.28125 -3.53125 3.050781 -3.457031 2.84375 -3.34375 C 2.644531 -3.238281 2.484375 -3.082031 2.359375 -2.875 C 2.234375 -2.664062 2.171875 -2.390625 2.171875 -2.046875 C 2.171875 -1.671875 2.269531 -1.367188 2.46875 -1.140625 C 2.675781 -0.910156 2.972656 -0.796875 3.359375 -0.796875 Z M 3.359375 -0.796875 \"/>\n</symbol>\n<symbol overflow=\"visible\" id=\"glyph0-14\">\n<path style=\"stroke:none;\" d=\"M 4.84375 -8.15625 L 4.84375 0 L 3.546875 0 L 3.546875 -8.15625 L 0.515625 -8.15625 L 0.515625 -9.21875 L 7.875 -9.21875 L 7.875 -8.15625 Z M 4.84375 -8.15625 \"/>\n</symbol>\n<symbol overflow=\"visible\" id=\"glyph0-15\">\n<path style=\"stroke:none;\" d=\"M 2.203125 -3.4375 C 2.203125 -3.050781 2.242188 -2.691406 2.328125 -2.359375 C 2.421875 -2.035156 2.550781 -1.753906 2.71875 -1.515625 C 2.894531 -1.285156 3.109375 -1.101562 3.359375 -0.96875 C 3.617188 -0.84375 3.921875 -0.78125 4.265625 -0.78125 C 4.515625 -0.78125 4.742188 -0.804688 4.953125 -0.859375 C 5.160156 -0.921875 5.347656 -1.003906 5.515625 -1.109375 C 5.691406 -1.210938 5.835938 -1.332031 5.953125 -1.46875 C 6.066406 -1.601562 6.148438 -1.753906 6.203125 -1.921875 L 7.28125 -1.609375 C 7.207031 -1.410156 7.097656 -1.207031 6.953125 -1 C 6.804688 -0.789062 6.613281 -0.601562 6.375 -0.4375 C 6.132812 -0.269531 5.835938 -0.128906 5.484375 -0.015625 C 5.140625 0.0859375 4.734375 0.140625 4.265625 0.140625 C 3.734375 0.140625 3.257812 0.0546875 2.84375 -0.109375 C 2.4375 -0.273438 2.085938 -0.519531 1.796875 -0.84375 C 1.515625 -1.164062 1.296875 -1.566406 1.140625 -2.046875 C 0.984375 -2.535156 0.90625 -3.101562 0.90625 -3.75 C 0.90625 -4.457031 0.992188 -5.050781 1.171875 -5.53125 C 1.359375 -6.019531 1.601562 -6.410156 1.90625 -6.703125 C 2.207031 -7.003906 2.554688 -7.21875 2.953125 -7.34375 C 3.359375 -7.46875 3.78125 -7.53125 4.21875 -7.53125 C 4.8125 -7.53125 5.3125 -7.429688 5.71875 -7.234375 C 6.132812 -7.046875 6.472656 -6.78125 6.734375 -6.4375 C 6.992188 -6.09375 7.179688 -5.679688 7.296875 -5.203125 C 7.421875 -4.722656 7.484375 -4.191406 7.484375 -3.609375 L 7.484375 -3.4375 Z M 4.234375 -6.625 C 4.023438 -6.625 3.804688 -6.585938 3.578125 -6.515625 C 3.347656 -6.453125 3.132812 -6.335938 2.9375 -6.171875 C 2.738281 -6.003906 2.570312 -5.773438 2.4375 -5.484375 C 2.300781 -5.191406 2.226562 -4.820312 2.21875 -4.375 L 6.203125 -4.375 C 6.171875 -4.8125 6.09375 -5.171875 5.96875 -5.453125 C 5.851562 -5.742188 5.707031 -5.972656 5.53125 -6.140625 C 5.351562 -6.316406 5.148438 -6.441406 4.921875 -6.515625 C 4.703125 -6.585938 4.472656 -6.625 4.234375 -6.625 Z M 4.234375 -6.625 \"/>\n</symbol>\n<symbol overflow=\"visible\" id=\"glyph0-16\">\n<path style=\"stroke:none;\" d=\"M 5.9375 0 L 5.9375 -4.75 C 5.9375 -5.113281 5.894531 -5.410156 5.8125 -5.640625 C 5.738281 -5.878906 5.632812 -6.066406 5.5 -6.203125 C 5.375 -6.347656 5.21875 -6.445312 5.03125 -6.5 C 4.851562 -6.550781 4.65625 -6.578125 4.4375 -6.578125 C 4.164062 -6.578125 3.910156 -6.523438 3.671875 -6.421875 C 3.441406 -6.328125 3.238281 -6.179688 3.0625 -5.984375 C 2.882812 -5.785156 2.742188 -5.546875 2.640625 -5.265625 C 2.546875 -4.984375 2.5 -4.65625 2.5 -4.28125 L 2.5 0 L 1.265625 0 L 1.265625 -5.8125 C 1.265625 -5.96875 1.265625 -6.128906 1.265625 -6.296875 C 1.265625 -6.472656 1.257812 -6.632812 1.25 -6.78125 C 1.25 -6.9375 1.242188 -7.066406 1.234375 -7.171875 C 1.234375 -7.285156 1.226562 -7.359375 1.21875 -7.390625 L 2.390625 -7.390625 C 2.390625 -7.367188 2.390625 -7.304688 2.390625 -7.203125 C 2.398438 -7.109375 2.40625 -6.992188 2.40625 -6.859375 C 2.414062 -6.734375 2.421875 -6.601562 2.421875 -6.46875 C 2.429688 -6.332031 2.4375 -6.21875 2.4375 -6.125 L 2.46875 -6.125 C 2.570312 -6.34375 2.695312 -6.535156 2.84375 -6.703125 C 2.988281 -6.878906 3.160156 -7.023438 3.359375 -7.140625 C 3.554688 -7.265625 3.773438 -7.359375 4.015625 -7.421875 C 4.253906 -7.492188 4.523438 -7.53125 4.828125 -7.53125 C 5.203125 -7.53125 5.535156 -7.476562 5.828125 -7.375 C 6.117188 -7.28125 6.363281 -7.128906 6.5625 -6.921875 C 6.757812 -6.710938 6.910156 -6.441406 7.015625 -6.109375 C 7.117188 -5.785156 7.171875 -5.390625 7.171875 -4.921875 L 7.171875 0 Z M 5.9375 0 \"/>\n</symbol>\n<symbol overflow=\"visible\" id=\"glyph0-17\">\n<path style=\"stroke:none;\" d=\"M 7.25 -2.109375 C 7.25 -1.765625 7.179688 -1.453125 7.046875 -1.171875 C 6.910156 -0.898438 6.710938 -0.664062 6.453125 -0.46875 C 6.203125 -0.269531 5.890625 -0.117188 5.515625 -0.015625 C 5.148438 0.0859375 4.726562 0.140625 4.25 0.140625 C 3.820312 0.140625 3.4375 0.109375 3.09375 0.046875 C 2.75 -0.015625 2.445312 -0.113281 2.1875 -0.25 C 1.925781 -0.394531 1.707031 -0.582031 1.53125 -0.8125 C 1.351562 -1.050781 1.222656 -1.347656 1.140625 -1.703125 L 2.234375 -1.90625 C 2.285156 -1.65625 2.367188 -1.457031 2.484375 -1.3125 C 2.609375 -1.164062 2.753906 -1.050781 2.921875 -0.96875 C 3.097656 -0.894531 3.296875 -0.84375 3.515625 -0.8125 C 3.742188 -0.789062 3.988281 -0.78125 4.25 -0.78125 C 4.507812 -0.78125 4.75 -0.796875 4.96875 -0.828125 C 5.195312 -0.867188 5.394531 -0.9375 5.5625 -1.03125 C 5.726562 -1.125 5.859375 -1.242188 5.953125 -1.390625 C 6.046875 -1.546875 6.09375 -1.734375 6.09375 -1.953125 C 6.09375 -2.179688 6.035156 -2.363281 5.921875 -2.5 C 5.804688 -2.632812 5.644531 -2.75 5.4375 -2.84375 C 5.238281 -2.945312 5 -3.03125 4.71875 -3.09375 C 4.445312 -3.164062 4.148438 -3.242188 3.828125 -3.328125 C 3.535156 -3.410156 3.242188 -3.492188 2.953125 -3.578125 C 2.671875 -3.671875 2.414062 -3.789062 2.1875 -3.9375 C 1.96875 -4.082031 1.785156 -4.269531 1.640625 -4.5 C 1.503906 -4.726562 1.4375 -5.019531 1.4375 -5.375 C 1.4375 -6.039062 1.675781 -6.5625 2.15625 -6.9375 C 2.644531 -7.320312 3.347656 -7.515625 4.265625 -7.515625 C 4.617188 -7.515625 4.953125 -7.476562 5.265625 -7.40625 C 5.585938 -7.34375 5.867188 -7.238281 6.109375 -7.09375 C 6.359375 -6.957031 6.566406 -6.773438 6.734375 -6.546875 C 6.898438 -6.316406 7.015625 -6.046875 7.078125 -5.734375 L 5.96875 -5.59375 C 5.9375 -5.800781 5.867188 -5.96875 5.765625 -6.09375 C 5.660156 -6.226562 5.53125 -6.332031 5.375 -6.40625 C 5.21875 -6.476562 5.046875 -6.523438 4.859375 -6.546875 C 4.671875 -6.578125 4.472656 -6.59375 4.265625 -6.59375 C 3.140625 -6.59375 2.578125 -6.25 2.578125 -5.5625 C 2.578125 -5.351562 2.625 -5.179688 2.71875 -5.046875 C 2.820312 -4.921875 2.960938 -4.8125 3.140625 -4.71875 C 3.316406 -4.632812 3.53125 -4.5625 3.78125 -4.5 C 4.03125 -4.445312 4.300781 -4.378906 4.59375 -4.296875 C 4.882812 -4.222656 5.1875 -4.140625 5.5 -4.046875 C 5.8125 -3.953125 6.097656 -3.820312 6.359375 -3.65625 C 6.617188 -3.5 6.832031 -3.296875 7 -3.046875 C 7.164062 -2.804688 7.25 -2.492188 7.25 -2.109375 Z M 7.25 -2.109375 \"/>\n</symbol>\n<symbol overflow=\"visible\" id=\"glyph0-18\">\n<path style=\"stroke:none;\" d=\"M 0.796875 -5.859375 L 0.796875 -6.859375 L 7.59375 -6.859375 L 7.59375 -5.859375 Z M 0.796875 -2.359375 L 0.796875 -3.359375 L 7.59375 -3.359375 L 7.59375 -2.359375 Z M 0.796875 -2.359375 \"/>\n</symbol>\n<symbol overflow=\"visible\" id=\"glyph0-19\">\n<path style=\"stroke:none;\" d=\"M 5.71875 0 L 2.15625 -7.71875 C 2.175781 -7.53125 2.195312 -7.332031 2.21875 -7.125 C 2.226562 -6.945312 2.238281 -6.753906 2.25 -6.546875 C 2.257812 -6.347656 2.265625 -6.160156 2.265625 -5.984375 L 2.265625 0 L 1.109375 0 L 1.109375 -9.21875 L 2.625 -9.21875 L 6.234375 -1.4375 C 6.210938 -1.625 6.191406 -1.820312 6.171875 -2.03125 C 6.148438 -2.207031 6.132812 -2.40625 6.125 -2.625 C 6.113281 -2.851562 6.109375 -3.082031 6.109375 -3.3125 L 6.109375 -9.21875 L 7.28125 -9.21875 L 7.28125 0 Z M 5.71875 0 \"/>\n</symbol>\n<symbol overflow=\"visible\" id=\"glyph0-20\">\n<path style=\"stroke:none;\" d=\"M 4.84375 -4 L 4.84375 0 L 3.5625 0 L 3.5625 -4 L 0.25 -9.21875 L 1.640625 -9.21875 L 4.203125 -5.046875 L 6.75 -9.21875 L 8.15625 -9.21875 Z M 4.84375 -4 \"/>\n</symbol>\n<symbol overflow=\"visible\" id=\"glyph0-21\">\n<path style=\"stroke:none;\" d=\"M 6.953125 0 L 5.53125 0 L 4.828125 -2.640625 C 4.804688 -2.734375 4.78125 -2.835938 4.75 -2.953125 C 4.71875 -3.066406 4.679688 -3.191406 4.640625 -3.328125 C 4.609375 -3.460938 4.570312 -3.601562 4.53125 -3.75 C 4.5 -3.894531 4.46875 -4.035156 4.4375 -4.171875 C 4.363281 -4.492188 4.289062 -4.828125 4.21875 -5.171875 C 4.132812 -4.816406 4.050781 -4.476562 3.96875 -4.15625 C 3.9375 -4.019531 3.90625 -3.878906 3.875 -3.734375 C 3.84375 -3.597656 3.804688 -3.460938 3.765625 -3.328125 C 3.734375 -3.191406 3.703125 -3.066406 3.671875 -2.953125 C 3.640625 -2.835938 3.613281 -2.734375 3.59375 -2.640625 L 2.859375 0 L 1.4375 0 L 0 -9.21875 L 1.296875 -9.21875 L 2.03125 -3.515625 C 2.070312 -3.210938 2.101562 -2.921875 2.125 -2.640625 C 2.15625 -2.359375 2.179688 -2.109375 2.203125 -1.890625 C 2.222656 -1.628906 2.242188 -1.382812 2.265625 -1.15625 C 2.335938 -1.46875 2.410156 -1.773438 2.484375 -2.078125 C 2.515625 -2.210938 2.546875 -2.347656 2.578125 -2.484375 C 2.609375 -2.617188 2.640625 -2.753906 2.671875 -2.890625 C 2.710938 -3.035156 2.75 -3.171875 2.78125 -3.296875 C 2.8125 -3.421875 2.835938 -3.535156 2.859375 -3.640625 L 3.609375 -6.359375 L 4.8125 -6.359375 L 5.546875 -3.640625 C 5.578125 -3.535156 5.609375 -3.421875 5.640625 -3.296875 C 5.671875 -3.171875 5.703125 -3.039062 5.734375 -2.90625 C 5.773438 -2.769531 5.8125 -2.628906 5.84375 -2.484375 C 5.875 -2.347656 5.90625 -2.210938 5.9375 -2.078125 C 6.007812 -1.773438 6.082031 -1.46875 6.15625 -1.15625 C 6.15625 -1.15625 6.160156 -1.226562 6.171875 -1.375 C 6.191406 -1.53125 6.210938 -1.722656 6.234375 -1.953125 C 6.253906 -2.191406 6.273438 -2.445312 6.296875 -2.71875 C 6.328125 -3 6.359375 -3.265625 6.390625 -3.515625 L 7.109375 -9.21875 L 8.390625 -9.21875 Z M 6.953125 0 \"/>\n</symbol>\n<symbol overflow=\"visible\" id=\"glyph1-0\">\n<path style=\"stroke:none;\" d=\"M 0.40625 0 L 0.40625 -8 L 3.59375 -8 L 3.59375 0 Z M 0.796875 -0.40625 L 3.1875 -0.40625 L 3.1875 -7.59375 L 0.796875 -7.59375 Z M 0.796875 -0.40625 \"/>\n</symbol>\n<symbol overflow=\"visible\" id=\"glyph1-1\">\n<path style=\"stroke:none;\" d=\"M 6.21875 -1.8125 C 6.21875 -1.507812 6.15625 -1.238281 6.03125 -1 C 5.914062 -0.769531 5.75 -0.570312 5.53125 -0.40625 C 5.3125 -0.238281 5.039062 -0.109375 4.71875 -0.015625 C 4.40625 0.078125 4.046875 0.125 3.640625 0.125 C 3.273438 0.125 2.941406 0.09375 2.640625 0.03125 C 2.347656 -0.0195312 2.085938 -0.101562 1.859375 -0.21875 C 1.640625 -0.34375 1.453125 -0.503906 1.296875 -0.703125 C 1.148438 -0.910156 1.046875 -1.160156 0.984375 -1.453125 L 1.90625 -1.640625 C 1.957031 -1.421875 2.035156 -1.25 2.140625 -1.125 C 2.242188 -1 2.367188 -0.898438 2.515625 -0.828125 C 2.660156 -0.765625 2.828125 -0.722656 3.015625 -0.703125 C 3.210938 -0.679688 3.421875 -0.671875 3.640625 -0.671875 C 3.867188 -0.671875 4.078125 -0.6875 4.265625 -0.71875 C 4.460938 -0.75 4.628906 -0.804688 4.765625 -0.890625 C 4.910156 -0.972656 5.019531 -1.078125 5.09375 -1.203125 C 5.175781 -1.328125 5.21875 -1.484375 5.21875 -1.671875 C 5.21875 -1.867188 5.164062 -2.023438 5.0625 -2.140625 C 4.96875 -2.265625 4.832031 -2.363281 4.65625 -2.4375 C 4.488281 -2.519531 4.285156 -2.59375 4.046875 -2.65625 C 3.816406 -2.71875 3.5625 -2.785156 3.28125 -2.859375 C 3.03125 -2.921875 2.78125 -2.988281 2.53125 -3.0625 C 2.289062 -3.144531 2.070312 -3.25 1.875 -3.375 C 1.6875 -3.5 1.53125 -3.660156 1.40625 -3.859375 C 1.289062 -4.054688 1.234375 -4.304688 1.234375 -4.609375 C 1.234375 -5.179688 1.4375 -5.628906 1.84375 -5.953125 C 2.257812 -6.273438 2.863281 -6.4375 3.65625 -6.4375 C 3.957031 -6.4375 4.242188 -6.40625 4.515625 -6.34375 C 4.785156 -6.289062 5.023438 -6.203125 5.234375 -6.078125 C 5.453125 -5.960938 5.628906 -5.804688 5.765625 -5.609375 C 5.910156 -5.421875 6.007812 -5.191406 6.0625 -4.921875 L 5.109375 -4.796875 C 5.085938 -4.972656 5.03125 -5.113281 4.9375 -5.21875 C 4.851562 -5.332031 4.742188 -5.421875 4.609375 -5.484375 C 4.472656 -5.546875 4.320312 -5.585938 4.15625 -5.609375 C 4 -5.640625 3.832031 -5.65625 3.65625 -5.65625 C 2.695312 -5.65625 2.21875 -5.359375 2.21875 -4.765625 C 2.21875 -4.585938 2.257812 -4.441406 2.34375 -4.328125 C 2.425781 -4.222656 2.539062 -4.128906 2.6875 -4.046875 C 2.84375 -3.972656 3.023438 -3.910156 3.234375 -3.859375 C 3.453125 -3.804688 3.6875 -3.75 3.9375 -3.6875 C 4.1875 -3.625 4.445312 -3.550781 4.71875 -3.46875 C 4.988281 -3.382812 5.234375 -3.273438 5.453125 -3.140625 C 5.671875 -3.003906 5.851562 -2.828125 6 -2.609375 C 6.144531 -2.398438 6.21875 -2.132812 6.21875 -1.8125 Z M 6.21875 -1.8125 \"/>\n</symbol>\n<symbol overflow=\"visible\" id=\"glyph1-2\">\n<path style=\"stroke:none;\" d=\"M 2.140625 -6.34375 L 2.140625 -2.328125 C 2.140625 -2.015625 2.160156 -1.753906 2.203125 -1.546875 C 2.253906 -1.335938 2.328125 -1.171875 2.421875 -1.046875 C 2.523438 -0.921875 2.660156 -0.832031 2.828125 -0.78125 C 2.992188 -0.726562 3.203125 -0.703125 3.453125 -0.703125 C 3.703125 -0.703125 3.925781 -0.742188 4.125 -0.828125 C 4.332031 -0.921875 4.503906 -1.046875 4.640625 -1.203125 C 4.785156 -1.367188 4.894531 -1.570312 4.96875 -1.8125 C 5.050781 -2.0625 5.09375 -2.347656 5.09375 -2.671875 L 5.09375 -6.34375 L 6.140625 -6.34375 L 6.140625 -1.359375 C 6.140625 -1.222656 6.140625 -1.082031 6.140625 -0.9375 C 6.148438 -0.789062 6.15625 -0.648438 6.15625 -0.515625 C 6.164062 -0.390625 6.171875 -0.28125 6.171875 -0.1875 C 6.171875 -0.09375 6.175781 -0.03125 6.1875 0 L 5.1875 0 C 5.1875 -0.0195312 5.179688 -0.0703125 5.171875 -0.15625 C 5.171875 -0.238281 5.164062 -0.335938 5.15625 -0.453125 C 5.15625 -0.566406 5.148438 -0.679688 5.140625 -0.796875 C 5.140625 -0.910156 5.140625 -1.003906 5.140625 -1.078125 L 5.125 -1.078125 C 5.019531 -0.898438 4.90625 -0.734375 4.78125 -0.578125 C 4.664062 -0.429688 4.523438 -0.304688 4.359375 -0.203125 C 4.203125 -0.0976562 4.019531 -0.0195312 3.8125 0.03125 C 3.601562 0.09375 3.363281 0.125 3.09375 0.125 C 2.738281 0.125 2.4375 0.0820312 2.1875 0 C 1.9375 -0.09375 1.726562 -0.226562 1.5625 -0.40625 C 1.394531 -0.59375 1.269531 -0.828125 1.1875 -1.109375 C 1.113281 -1.390625 1.078125 -1.722656 1.078125 -2.109375 L 1.078125 -6.34375 Z M 2.140625 -6.34375 \"/>\n</symbol>\n<symbol overflow=\"visible\" id=\"glyph1-3\">\n<path style=\"stroke:none;\" d=\"M 5.09375 0 L 5.09375 -4.078125 C 5.09375 -4.390625 5.054688 -4.644531 4.984375 -4.84375 C 4.921875 -5.039062 4.832031 -5.195312 4.71875 -5.3125 C 4.601562 -5.4375 4.46875 -5.519531 4.3125 -5.5625 C 4.15625 -5.613281 3.984375 -5.640625 3.796875 -5.640625 C 3.566406 -5.640625 3.347656 -5.59375 3.140625 -5.5 C 2.941406 -5.414062 2.765625 -5.289062 2.609375 -5.125 C 2.460938 -4.957031 2.347656 -4.753906 2.265625 -4.515625 C 2.179688 -4.273438 2.140625 -3.992188 2.140625 -3.671875 L 2.140625 0 L 1.078125 0 L 1.078125 -4.984375 C 1.078125 -5.117188 1.078125 -5.257812 1.078125 -5.40625 C 1.078125 -5.550781 1.070312 -5.6875 1.0625 -5.8125 C 1.0625 -5.945312 1.0625 -6.0625 1.0625 -6.15625 C 1.0625 -6.25 1.054688 -6.3125 1.046875 -6.34375 L 2.046875 -6.34375 C 2.046875 -6.320312 2.046875 -6.265625 2.046875 -6.171875 C 2.054688 -6.085938 2.0625 -5.988281 2.0625 -5.875 C 2.070312 -5.769531 2.078125 -5.660156 2.078125 -5.546875 C 2.085938 -5.429688 2.09375 -5.332031 2.09375 -5.25 L 2.109375 -5.25 C 2.203125 -5.4375 2.3125 -5.601562 2.4375 -5.75 C 2.5625 -5.90625 2.707031 -6.03125 2.875 -6.125 C 3.039062 -6.226562 3.226562 -6.304688 3.4375 -6.359375 C 3.644531 -6.421875 3.878906 -6.453125 4.140625 -6.453125 C 4.460938 -6.453125 4.75 -6.410156 5 -6.328125 C 5.25 -6.242188 5.457031 -6.109375 5.625 -5.921875 C 5.800781 -5.742188 5.929688 -5.515625 6.015625 -5.234375 C 6.097656 -4.953125 6.140625 -4.613281 6.140625 -4.21875 L 6.140625 0 Z M 5.09375 0 \"/>\n</symbol>\n<symbol overflow=\"visible\" id=\"glyph1-4\">\n<path style=\"stroke:none;\" d=\"M 4.125 0 C 3.988281 0.382812 3.84375 0.726562 3.6875 1.03125 C 3.53125 1.34375 3.351562 1.601562 3.15625 1.8125 C 2.96875 2.03125 2.753906 2.195312 2.515625 2.3125 C 2.285156 2.425781 2.019531 2.484375 1.71875 2.484375 C 1.582031 2.484375 1.457031 2.476562 1.34375 2.46875 C 1.226562 2.46875 1.109375 2.453125 0.984375 2.421875 L 0.984375 1.640625 C 1.054688 1.648438 1.140625 1.65625 1.234375 1.65625 C 1.328125 1.664062 1.410156 1.671875 1.484375 1.671875 C 1.785156 1.671875 2.070312 1.554688 2.34375 1.328125 C 2.613281 1.097656 2.84375 0.726562 3.03125 0.21875 L 3.140625 -0.0625 L 0.390625 -6.34375 L 1.515625 -6.34375 L 3.0625 -2.578125 C 3.101562 -2.472656 3.15625 -2.34375 3.21875 -2.1875 C 3.28125 -2.03125 3.335938 -1.875 3.390625 -1.71875 C 3.453125 -1.570312 3.503906 -1.4375 3.546875 -1.3125 C 3.597656 -1.195312 3.628906 -1.125 3.640625 -1.09375 C 3.648438 -1.132812 3.675781 -1.210938 3.71875 -1.328125 C 3.757812 -1.453125 3.8125 -1.585938 3.875 -1.734375 C 3.9375 -1.878906 3.992188 -2.03125 4.046875 -2.1875 C 4.109375 -2.34375 4.164062 -2.472656 4.21875 -2.578125 L 5.6875 -6.34375 L 6.796875 -6.34375 Z M 4.125 0 \"/>\n</symbol>\n<symbol overflow=\"visible\" id=\"glyph1-5\">\n<path style=\"stroke:none;\" d=\"M 1.078125 -8.703125 L 2.140625 -8.703125 L 2.140625 -6.40625 C 2.140625 -6.21875 2.132812 -6.023438 2.125 -5.828125 C 2.113281 -5.628906 2.101562 -5.4375 2.09375 -5.25 L 2.109375 -5.25 C 2.203125 -5.4375 2.3125 -5.601562 2.4375 -5.75 C 2.5625 -5.90625 2.703125 -6.03125 2.859375 -6.125 C 3.023438 -6.226562 3.207031 -6.304688 3.40625 -6.359375 C 3.613281 -6.421875 3.84375 -6.453125 4.09375 -6.453125 C 4.414062 -6.453125 4.703125 -6.410156 4.953125 -6.328125 C 5.210938 -6.242188 5.429688 -6.109375 5.609375 -5.921875 C 5.785156 -5.742188 5.914062 -5.515625 6 -5.234375 C 6.09375 -4.953125 6.140625 -4.613281 6.140625 -4.21875 L 6.140625 0 L 5.09375 0 L 5.09375 -4.078125 C 5.09375 -4.390625 5.054688 -4.644531 4.984375 -4.84375 C 4.921875 -5.039062 4.832031 -5.195312 4.71875 -5.3125 C 4.601562 -5.4375 4.46875 -5.519531 4.3125 -5.5625 C 4.15625 -5.613281 3.984375 -5.640625 3.796875 -5.640625 C 3.566406 -5.640625 3.347656 -5.59375 3.140625 -5.5 C 2.941406 -5.414062 2.765625 -5.289062 2.609375 -5.125 C 2.460938 -4.957031 2.347656 -4.753906 2.265625 -4.515625 C 2.179688 -4.273438 2.140625 -3.992188 2.140625 -3.671875 L 2.140625 0 L 1.078125 0 Z M 1.078125 -8.703125 \"/>\n</symbol>\n<symbol overflow=\"visible\" id=\"glyph1-6\">\n<path style=\"stroke:none;\" d=\"M 4.359375 -0.828125 L 6.59375 -0.828125 L 6.59375 0 L 0.84375 0 L 0.84375 -0.828125 L 3.3125 -0.828125 L 3.3125 -5.515625 L 1.4375 -5.515625 L 1.4375 -6.34375 L 4.359375 -6.34375 Z M 3.1875 -7.578125 L 3.1875 -8.703125 L 4.359375 -8.703125 L 4.359375 -7.578125 Z M 3.1875 -7.578125 \"/>\n</symbol>\n<symbol overflow=\"visible\" id=\"glyph1-7\">\n<path style=\"stroke:none;\" d=\"M 3.609375 2.484375 C 3.253906 2.484375 2.941406 2.445312 2.671875 2.375 C 2.410156 2.300781 2.179688 2.191406 1.984375 2.046875 C 1.785156 1.910156 1.628906 1.742188 1.515625 1.546875 C 1.398438 1.359375 1.316406 1.148438 1.265625 0.921875 L 2.34375 0.78125 C 2.40625 1.070312 2.546875 1.296875 2.765625 1.453125 C 2.984375 1.609375 3.273438 1.6875 3.640625 1.6875 C 3.859375 1.6875 4.054688 1.648438 4.234375 1.578125 C 4.410156 1.515625 4.5625 1.410156 4.6875 1.265625 C 4.820312 1.117188 4.921875 0.925781 4.984375 0.6875 C 5.054688 0.457031 5.09375 0.175781 5.09375 -0.15625 L 5.09375 -1.296875 L 5.078125 -1.296875 C 5.003906 -1.140625 4.910156 -0.984375 4.796875 -0.828125 C 4.679688 -0.679688 4.539062 -0.550781 4.375 -0.4375 C 4.21875 -0.332031 4.03125 -0.242188 3.8125 -0.171875 C 3.601562 -0.109375 3.359375 -0.078125 3.078125 -0.078125 C 2.671875 -0.078125 2.328125 -0.140625 2.046875 -0.265625 C 1.765625 -0.390625 1.535156 -0.582031 1.359375 -0.84375 C 1.179688 -1.113281 1.050781 -1.441406 0.96875 -1.828125 C 0.882812 -2.222656 0.84375 -2.6875 0.84375 -3.21875 C 0.84375 -3.726562 0.882812 -4.179688 0.96875 -4.578125 C 1.050781 -4.984375 1.179688 -5.320312 1.359375 -5.59375 C 1.546875 -5.863281 1.785156 -6.070312 2.078125 -6.21875 C 2.378906 -6.363281 2.75 -6.4375 3.1875 -6.4375 C 3.625 -6.4375 4.003906 -6.332031 4.328125 -6.125 C 4.660156 -5.925781 4.914062 -5.632812 5.09375 -5.25 L 5.109375 -5.25 C 5.109375 -5.351562 5.109375 -5.460938 5.109375 -5.578125 C 5.117188 -5.703125 5.125 -5.816406 5.125 -5.921875 C 5.132812 -6.035156 5.144531 -6.128906 5.15625 -6.203125 C 5.164062 -6.285156 5.171875 -6.332031 5.171875 -6.34375 L 6.171875 -6.34375 C 6.171875 -6.300781 6.164062 -6.238281 6.15625 -6.15625 C 6.15625 -6.070312 6.148438 -5.972656 6.140625 -5.859375 C 6.140625 -5.742188 6.140625 -5.613281 6.140625 -5.46875 C 6.140625 -5.320312 6.140625 -5.175781 6.140625 -5.03125 L 6.140625 -0.1875 C 6.140625 0.695312 5.929688 1.363281 5.515625 1.8125 C 5.109375 2.257812 4.472656 2.484375 3.609375 2.484375 Z M 5.09375 -3.234375 C 5.09375 -3.671875 5.046875 -4.039062 4.953125 -4.34375 C 4.859375 -4.65625 4.734375 -4.90625 4.578125 -5.09375 C 4.421875 -5.289062 4.242188 -5.429688 4.046875 -5.515625 C 3.847656 -5.609375 3.648438 -5.65625 3.453125 -5.65625 C 3.179688 -5.65625 2.953125 -5.609375 2.765625 -5.515625 C 2.578125 -5.429688 2.421875 -5.289062 2.296875 -5.09375 C 2.171875 -4.90625 2.078125 -4.65625 2.015625 -4.34375 C 1.953125 -4.039062 1.921875 -3.671875 1.921875 -3.234375 C 1.921875 -2.773438 1.953125 -2.390625 2.015625 -2.078125 C 2.078125 -1.773438 2.164062 -1.53125 2.28125 -1.34375 C 2.40625 -1.164062 2.5625 -1.035156 2.75 -0.953125 C 2.945312 -0.878906 3.171875 -0.84375 3.421875 -0.84375 C 3.628906 -0.84375 3.832031 -0.882812 4.03125 -0.96875 C 4.238281 -1.0625 4.421875 -1.203125 4.578125 -1.390625 C 4.734375 -1.578125 4.859375 -1.820312 4.953125 -2.125 C 5.046875 -2.425781 5.09375 -2.796875 5.09375 -3.234375 Z M 5.09375 -3.234375 \"/>\n</symbol>\n<symbol overflow=\"visible\" id=\"glyph1-8\">\n<path style=\"stroke:none;\" d=\"M 6.421875 -3.171875 C 6.421875 -2.617188 6.351562 -2.132812 6.21875 -1.71875 C 6.09375 -1.3125 5.90625 -0.96875 5.65625 -0.6875 C 5.414062 -0.414062 5.117188 -0.210938 4.765625 -0.078125 C 4.410156 0.0546875 4.007812 0.125 3.5625 0.125 C 3.144531 0.125 2.757812 0.0546875 2.40625 -0.078125 C 2.0625 -0.210938 1.765625 -0.414062 1.515625 -0.6875 C 1.273438 -0.96875 1.085938 -1.3125 0.953125 -1.71875 C 0.828125 -2.132812 0.765625 -2.617188 0.765625 -3.171875 C 0.765625 -4.265625 1.007812 -5.082031 1.5 -5.625 C 2 -6.175781 2.703125 -6.453125 3.609375 -6.453125 C 4.554688 -6.453125 5.257812 -6.179688 5.71875 -5.640625 C 6.1875 -5.097656 6.421875 -4.273438 6.421875 -3.171875 Z M 5.328125 -3.171875 C 5.328125 -3.671875 5.28125 -4.078125 5.1875 -4.390625 C 5.101562 -4.710938 4.988281 -4.96875 4.84375 -5.15625 C 4.695312 -5.351562 4.519531 -5.488281 4.3125 -5.5625 C 4.101562 -5.632812 3.875 -5.671875 3.625 -5.671875 C 3.363281 -5.671875 3.125 -5.628906 2.90625 -5.546875 C 2.695312 -5.472656 2.515625 -5.335938 2.359375 -5.140625 C 2.210938 -4.953125 2.09375 -4.695312 2 -4.375 C 1.914062 -4.050781 1.875 -3.648438 1.875 -3.171875 C 1.875 -2.679688 1.914062 -2.273438 2 -1.953125 C 2.09375 -1.628906 2.21875 -1.367188 2.375 -1.171875 C 2.53125 -0.984375 2.707031 -0.847656 2.90625 -0.765625 C 3.113281 -0.691406 3.332031 -0.65625 3.5625 -0.65625 C 3.8125 -0.65625 4.046875 -0.691406 4.265625 -0.765625 C 4.484375 -0.847656 4.671875 -0.984375 4.828125 -1.171875 C 4.984375 -1.367188 5.101562 -1.628906 5.1875 -1.953125 C 5.28125 -2.273438 5.328125 -2.679688 5.328125 -3.171875 Z M 5.328125 -3.171875 \"/>\n</symbol>\n<symbol overflow=\"visible\" id=\"glyph1-9\">\n<path style=\"stroke:none;\" d=\"M 6.125 -5.375 C 5.9375 -5.40625 5.742188 -5.429688 5.546875 -5.453125 C 5.347656 -5.472656 5.125 -5.484375 4.875 -5.484375 C 4.550781 -5.484375 4.257812 -5.414062 4 -5.28125 C 3.738281 -5.15625 3.515625 -4.976562 3.328125 -4.75 C 3.148438 -4.519531 3.015625 -4.253906 2.921875 -3.953125 C 2.828125 -3.648438 2.78125 -3.328125 2.78125 -2.984375 L 2.78125 0 L 1.71875 0 L 1.71875 -4.109375 C 1.71875 -4.328125 1.707031 -4.546875 1.6875 -4.765625 C 1.664062 -4.992188 1.640625 -5.207031 1.609375 -5.40625 C 1.578125 -5.613281 1.539062 -5.796875 1.5 -5.953125 C 1.46875 -6.117188 1.441406 -6.25 1.421875 -6.34375 L 2.421875 -6.34375 C 2.453125 -6.25 2.476562 -6.140625 2.5 -6.015625 C 2.53125 -5.898438 2.554688 -5.773438 2.578125 -5.640625 C 2.609375 -5.503906 2.632812 -5.367188 2.65625 -5.234375 C 2.675781 -5.109375 2.691406 -4.988281 2.703125 -4.875 L 2.734375 -4.875 C 2.835938 -5.113281 2.953125 -5.332031 3.078125 -5.53125 C 3.203125 -5.726562 3.34375 -5.894531 3.5 -6.03125 C 3.664062 -6.164062 3.863281 -6.269531 4.09375 -6.34375 C 4.320312 -6.414062 4.597656 -6.453125 4.921875 -6.453125 C 5.140625 -6.453125 5.351562 -6.441406 5.5625 -6.421875 C 5.769531 -6.410156 5.957031 -6.390625 6.125 -6.359375 Z M 6.125 -5.375 \"/>\n</symbol>\n<symbol overflow=\"visible\" id=\"glyph1-10\">\n<path style=\"stroke:none;\" d=\"M 3.109375 0 L 3.109375 -4.015625 C 3.109375 -4.328125 3.097656 -4.585938 3.078125 -4.796875 C 3.054688 -5.003906 3.019531 -5.171875 2.96875 -5.296875 C 2.914062 -5.421875 2.84375 -5.507812 2.75 -5.5625 C 2.664062 -5.613281 2.5625 -5.640625 2.4375 -5.640625 C 2.3125 -5.640625 2.195312 -5.585938 2.09375 -5.484375 C 2 -5.390625 1.910156 -5.25 1.828125 -5.0625 C 1.753906 -4.882812 1.695312 -4.664062 1.65625 -4.40625 C 1.625 -4.15625 1.609375 -3.875 1.609375 -3.5625 L 1.609375 0 L 0.609375 0 L 0.609375 -4.984375 C 0.609375 -5.117188 0.609375 -5.257812 0.609375 -5.40625 C 0.609375 -5.550781 0.601562 -5.6875 0.59375 -5.8125 C 0.59375 -5.945312 0.59375 -6.0625 0.59375 -6.15625 C 0.59375 -6.25 0.585938 -6.3125 0.578125 -6.34375 L 1.453125 -6.34375 C 1.453125 -6.320312 1.453125 -6.269531 1.453125 -6.1875 C 1.460938 -6.113281 1.46875 -6.023438 1.46875 -5.921875 C 1.476562 -5.816406 1.484375 -5.707031 1.484375 -5.59375 C 1.484375 -5.488281 1.484375 -5.394531 1.484375 -5.3125 L 1.5 -5.3125 C 1.550781 -5.46875 1.609375 -5.613281 1.671875 -5.75 C 1.742188 -5.882812 1.832031 -6.003906 1.9375 -6.109375 C 2.039062 -6.222656 2.160156 -6.304688 2.296875 -6.359375 C 2.429688 -6.421875 2.585938 -6.453125 2.765625 -6.453125 C 3.109375 -6.453125 3.363281 -6.359375 3.53125 -6.171875 C 3.707031 -5.984375 3.832031 -5.695312 3.90625 -5.3125 L 3.921875 -5.3125 C 3.984375 -5.488281 4.054688 -5.648438 4.140625 -5.796875 C 4.222656 -5.941406 4.316406 -6.0625 4.421875 -6.15625 C 4.535156 -6.257812 4.660156 -6.332031 4.796875 -6.375 C 4.941406 -6.425781 5.109375 -6.453125 5.296875 -6.453125 C 5.535156 -6.453125 5.734375 -6.410156 5.890625 -6.328125 C 6.054688 -6.242188 6.191406 -6.109375 6.296875 -5.921875 C 6.398438 -5.742188 6.472656 -5.515625 6.515625 -5.234375 C 6.566406 -4.953125 6.59375 -4.613281 6.59375 -4.21875 L 6.59375 0 L 5.609375 0 L 5.609375 -4.015625 C 5.609375 -4.328125 5.59375 -4.585938 5.5625 -4.796875 C 5.539062 -5.003906 5.503906 -5.171875 5.453125 -5.296875 C 5.398438 -5.421875 5.332031 -5.507812 5.25 -5.5625 C 5.164062 -5.613281 5.0625 -5.640625 4.9375 -5.640625 C 4.675781 -5.640625 4.46875 -5.472656 4.3125 -5.140625 C 4.164062 -4.816406 4.09375 -4.328125 4.09375 -3.671875 L 4.09375 0 Z M 3.109375 0 \"/>\n</symbol>\n<symbol overflow=\"visible\" id=\"glyph1-11\">\n<path style=\"stroke:none;\" d=\"M 6.453125 -0.65625 C 6.515625 -0.65625 6.570312 -0.65625 6.625 -0.65625 C 6.6875 -0.664062 6.742188 -0.675781 6.796875 -0.6875 L 6.796875 -0.03125 C 6.660156 0 6.523438 0.0195312 6.390625 0.03125 C 6.265625 0.0507812 6.128906 0.0625 5.984375 0.0625 C 5.785156 0.0625 5.613281 0.0351562 5.46875 -0.015625 C 5.320312 -0.0664062 5.203125 -0.144531 5.109375 -0.25 C 5.023438 -0.363281 4.957031 -0.5 4.90625 -0.65625 C 4.863281 -0.8125 4.835938 -1 4.828125 -1.21875 L 4.796875 -1.21875 C 4.679688 -1.007812 4.554688 -0.820312 4.421875 -0.65625 C 4.296875 -0.5 4.144531 -0.363281 3.96875 -0.25 C 3.800781 -0.132812 3.601562 -0.046875 3.375 0.015625 C 3.15625 0.0859375 2.898438 0.125 2.609375 0.125 C 1.992188 0.125 1.53125 -0.0390625 1.21875 -0.375 C 0.90625 -0.71875 0.75 -1.179688 0.75 -1.765625 C 0.75 -2.179688 0.828125 -2.523438 0.984375 -2.796875 C 1.140625 -3.066406 1.34375 -3.273438 1.59375 -3.421875 C 1.84375 -3.578125 2.125 -3.6875 2.4375 -3.75 C 2.757812 -3.8125 3.082031 -3.84375 3.40625 -3.84375 L 4.796875 -3.875 L 4.796875 -4.21875 C 4.796875 -4.476562 4.769531 -4.695312 4.71875 -4.875 C 4.664062 -5.0625 4.582031 -5.210938 4.46875 -5.328125 C 4.363281 -5.441406 4.226562 -5.523438 4.0625 -5.578125 C 3.90625 -5.628906 3.71875 -5.65625 3.5 -5.65625 C 3.300781 -5.65625 3.117188 -5.640625 2.953125 -5.609375 C 2.796875 -5.578125 2.660156 -5.523438 2.546875 -5.453125 C 2.441406 -5.378906 2.351562 -5.273438 2.28125 -5.140625 C 2.207031 -5.015625 2.160156 -4.847656 2.140625 -4.640625 L 1.03125 -4.75 C 1.070312 -5 1.144531 -5.226562 1.25 -5.4375 C 1.351562 -5.644531 1.503906 -5.820312 1.703125 -5.96875 C 1.898438 -6.125 2.144531 -6.242188 2.4375 -6.328125 C 2.738281 -6.410156 3.097656 -6.453125 3.515625 -6.453125 C 4.296875 -6.453125 4.878906 -6.269531 5.265625 -5.90625 C 5.660156 -5.539062 5.859375 -5.015625 5.859375 -4.328125 L 5.859375 -1.59375 C 5.859375 -1.28125 5.898438 -1.046875 5.984375 -0.890625 C 6.066406 -0.734375 6.222656 -0.65625 6.453125 -0.65625 Z M 2.890625 -0.6875 C 3.210938 -0.6875 3.488281 -0.75 3.71875 -0.875 C 3.957031 -1 4.15625 -1.15625 4.3125 -1.34375 C 4.476562 -1.53125 4.597656 -1.734375 4.671875 -1.953125 C 4.753906 -2.179688 4.796875 -2.398438 4.796875 -2.609375 L 4.796875 -3.125 L 3.6875 -3.109375 C 3.46875 -3.097656 3.25 -3.078125 3.03125 -3.046875 C 2.8125 -3.023438 2.613281 -2.96875 2.4375 -2.875 C 2.269531 -2.78125 2.128906 -2.644531 2.015625 -2.46875 C 1.910156 -2.289062 1.859375 -2.050781 1.859375 -1.75 C 1.859375 -1.425781 1.941406 -1.164062 2.109375 -0.96875 C 2.285156 -0.78125 2.546875 -0.6875 2.890625 -0.6875 Z M 2.890625 -0.6875 \"/>\n</symbol>\n<symbol overflow=\"visible\" id=\"glyph1-12\">\n<path style=\"stroke:none;\" d=\"M 4.3125 -0.828125 L 6.546875 -0.828125 L 6.546875 0 L 0.78125 0 L 0.78125 -0.828125 L 3.265625 -0.828125 L 3.265625 -7.859375 L 1.5625 -7.859375 L 1.5625 -8.703125 L 4.3125 -8.703125 Z M 4.3125 -0.828125 \"/>\n</symbol>\n<symbol overflow=\"visible\" id=\"glyph1-13\">\n<path style=\"stroke:none;\" d=\"M 4.1875 0 L 2.9375 0 L 0.40625 -6.34375 L 1.59375 -6.34375 L 3.15625 -2.21875 C 3.1875 -2.132812 3.21875 -2.03125 3.25 -1.90625 C 3.289062 -1.78125 3.328125 -1.648438 3.359375 -1.515625 C 3.398438 -1.378906 3.4375 -1.25 3.46875 -1.125 C 3.507812 -1.007812 3.539062 -0.910156 3.5625 -0.828125 C 3.582031 -0.910156 3.609375 -1.007812 3.640625 -1.125 C 3.679688 -1.25 3.722656 -1.375 3.765625 -1.5 C 3.804688 -1.632812 3.847656 -1.765625 3.890625 -1.890625 C 3.929688 -2.015625 3.96875 -2.117188 4 -2.203125 L 5.609375 -6.34375 L 6.796875 -6.34375 Z M 4.1875 0 \"/>\n</symbol>\n<symbol overflow=\"visible\" id=\"glyph1-14\">\n<path style=\"stroke:none;\" d=\"M 1.890625 -2.953125 C 1.890625 -2.617188 1.925781 -2.3125 2 -2.03125 C 2.070312 -1.75 2.179688 -1.507812 2.328125 -1.3125 C 2.484375 -1.113281 2.671875 -0.957031 2.890625 -0.84375 C 3.109375 -0.726562 3.363281 -0.671875 3.65625 -0.671875 C 3.863281 -0.671875 4.054688 -0.695312 4.234375 -0.75 C 4.421875 -0.800781 4.585938 -0.867188 4.734375 -0.953125 C 4.878906 -1.035156 5 -1.132812 5.09375 -1.25 C 5.195312 -1.375 5.269531 -1.503906 5.3125 -1.640625 L 6.234375 -1.390625 C 6.171875 -1.210938 6.078125 -1.035156 5.953125 -0.859375 C 5.828125 -0.679688 5.660156 -0.519531 5.453125 -0.375 C 5.253906 -0.226562 5.003906 -0.109375 4.703125 -0.015625 C 4.410156 0.078125 4.0625 0.125 3.65625 0.125 C 3.207031 0.125 2.800781 0.0507812 2.4375 -0.09375 C 2.082031 -0.238281 1.78125 -0.445312 1.53125 -0.71875 C 1.289062 -1 1.101562 -1.347656 0.96875 -1.765625 C 0.84375 -2.179688 0.78125 -2.664062 0.78125 -3.21875 C 0.78125 -3.820312 0.859375 -4.332031 1.015625 -4.75 C 1.171875 -5.164062 1.378906 -5.5 1.640625 -5.75 C 1.898438 -6 2.195312 -6.175781 2.53125 -6.28125 C 2.875 -6.394531 3.234375 -6.453125 3.609375 -6.453125 C 4.128906 -6.453125 4.5625 -6.367188 4.90625 -6.203125 C 5.257812 -6.046875 5.546875 -5.816406 5.765625 -5.515625 C 5.992188 -5.222656 6.15625 -4.867188 6.25 -4.453125 C 6.351562 -4.046875 6.40625 -3.59375 6.40625 -3.09375 L 6.40625 -2.953125 Z M 3.625 -5.671875 C 3.445312 -5.671875 3.257812 -5.644531 3.0625 -5.59375 C 2.863281 -5.539062 2.679688 -5.441406 2.515625 -5.296875 C 2.347656 -5.148438 2.207031 -4.953125 2.09375 -4.703125 C 1.976562 -4.453125 1.914062 -4.132812 1.90625 -3.75 L 5.328125 -3.75 C 5.296875 -4.125 5.226562 -4.429688 5.125 -4.671875 C 5.019531 -4.921875 4.890625 -5.117188 4.734375 -5.265625 C 4.585938 -5.410156 4.414062 -5.515625 4.21875 -5.578125 C 4.03125 -5.640625 3.832031 -5.671875 3.625 -5.671875 Z M 3.625 -5.671875 \"/>\n</symbol>\n<symbol overflow=\"visible\" id=\"glyph1-15\">\n<path style=\"stroke:none;\" d=\"M 0.765625 -3.171875 C 0.765625 -3.804688 0.847656 -4.332031 1.015625 -4.75 C 1.179688 -5.175781 1.398438 -5.515625 1.671875 -5.765625 C 1.953125 -6.015625 2.265625 -6.191406 2.609375 -6.296875 C 2.960938 -6.398438 3.328125 -6.453125 3.703125 -6.453125 C 4.085938 -6.453125 4.429688 -6.40625 4.734375 -6.3125 C 5.035156 -6.21875 5.289062 -6.082031 5.5 -5.90625 C 5.71875 -5.738281 5.894531 -5.539062 6.03125 -5.3125 C 6.164062 -5.082031 6.257812 -4.832031 6.3125 -4.5625 L 5.1875 -4.484375 C 5.125 -4.835938 4.96875 -5.113281 4.71875 -5.3125 C 4.46875 -5.519531 4.113281 -5.625 3.65625 -5.625 C 3.320312 -5.625 3.039062 -5.570312 2.8125 -5.46875 C 2.582031 -5.363281 2.394531 -5.207031 2.25 -5 C 2.113281 -4.789062 2.015625 -4.535156 1.953125 -4.234375 C 1.898438 -3.929688 1.875 -3.585938 1.875 -3.203125 C 1.875 -2.804688 1.898438 -2.453125 1.953125 -2.140625 C 2.015625 -1.835938 2.113281 -1.578125 2.25 -1.359375 C 2.394531 -1.140625 2.582031 -0.972656 2.8125 -0.859375 C 3.039062 -0.753906 3.320312 -0.703125 3.65625 -0.703125 C 4.070312 -0.703125 4.414062 -0.800781 4.6875 -1 C 4.96875 -1.207031 5.144531 -1.523438 5.21875 -1.953125 L 6.328125 -1.890625 C 6.296875 -1.628906 6.210938 -1.375 6.078125 -1.125 C 5.941406 -0.882812 5.757812 -0.671875 5.53125 -0.484375 C 5.3125 -0.304688 5.046875 -0.160156 4.734375 -0.046875 C 4.429688 0.0664062 4.085938 0.125 3.703125 0.125 C 3.160156 0.125 2.703125 0.0390625 2.328125 -0.125 C 1.960938 -0.300781 1.660156 -0.535156 1.421875 -0.828125 C 1.191406 -1.117188 1.023438 -1.460938 0.921875 -1.859375 C 0.816406 -2.265625 0.765625 -2.703125 0.765625 -3.171875 Z M 0.765625 -3.171875 \"/>\n</symbol>\n<symbol overflow=\"visible\" id=\"glyph1-16\">\n<path style=\"stroke:none;\" d=\"M 1.109375 -5.515625 L 1.109375 -6.34375 L 2.109375 -6.34375 L 2.453125 -8 L 3.15625 -8 L 3.15625 -6.34375 L 5.6875 -6.34375 L 5.6875 -5.515625 L 3.15625 -5.515625 L 3.15625 -1.6875 C 3.15625 -1.375 3.238281 -1.144531 3.40625 -1 C 3.570312 -0.851562 3.84375 -0.78125 4.21875 -0.78125 C 4.375 -0.78125 4.535156 -0.785156 4.703125 -0.796875 C 4.867188 -0.816406 5.03125 -0.832031 5.1875 -0.84375 C 5.34375 -0.863281 5.484375 -0.882812 5.609375 -0.90625 C 5.742188 -0.9375 5.859375 -0.960938 5.953125 -0.984375 L 5.953125 -0.171875 C 5.867188 -0.148438 5.757812 -0.125 5.625 -0.09375 C 5.488281 -0.0625 5.332031 -0.03125 5.15625 0 C 4.988281 0.0195312 4.804688 0.0390625 4.609375 0.0625 C 4.410156 0.0820312 4.207031 0.09375 4 0.09375 C 3.363281 0.09375 2.882812 -0.0351562 2.5625 -0.296875 C 2.25 -0.566406 2.09375 -0.992188 2.09375 -1.578125 L 2.09375 -5.515625 Z M 1.109375 -5.515625 \"/>\n</symbol>\n<symbol overflow=\"visible\" id=\"glyph1-17\">\n<path style=\"stroke:none;\" d=\"M 3.40625 -5.515625 L 3.40625 0 L 2.34375 0 L 2.34375 -5.515625 L 0.8125 -5.515625 L 0.8125 -6.34375 L 2.34375 -6.34375 L 2.34375 -6.484375 C 2.34375 -6.878906 2.382812 -7.21875 2.46875 -7.5 C 2.5625 -7.78125 2.703125 -8.007812 2.890625 -8.1875 C 3.085938 -8.363281 3.34375 -8.492188 3.65625 -8.578125 C 3.96875 -8.660156 4.347656 -8.703125 4.796875 -8.703125 C 4.910156 -8.703125 5.046875 -8.695312 5.203125 -8.6875 C 5.359375 -8.675781 5.515625 -8.664062 5.671875 -8.65625 C 5.828125 -8.644531 5.972656 -8.628906 6.109375 -8.609375 C 6.242188 -8.597656 6.351562 -8.585938 6.4375 -8.578125 L 6.4375 -7.71875 C 6.363281 -7.726562 6.253906 -7.738281 6.109375 -7.75 C 5.972656 -7.769531 5.828125 -7.785156 5.671875 -7.796875 C 5.523438 -7.804688 5.378906 -7.8125 5.234375 -7.8125 C 5.097656 -7.820312 4.992188 -7.828125 4.921875 -7.828125 C 4.660156 -7.828125 4.429688 -7.804688 4.234375 -7.765625 C 4.046875 -7.722656 3.890625 -7.648438 3.765625 -7.546875 C 3.640625 -7.441406 3.546875 -7.296875 3.484375 -7.109375 C 3.429688 -6.929688 3.40625 -6.695312 3.40625 -6.40625 L 3.40625 -6.34375 L 6.28125 -6.34375 L 6.28125 -5.515625 Z M 3.40625 -5.515625 \"/>\n</symbol>\n</g>\n</defs>\n<g id=\"surface2\">\n<rect x=\"0\" y=\"0\" width=\"600\" height=\"600\" style=\"fill:rgb(100%,100%,100%);fill-opacity:1;stroke:none;\"/>\n<path style=\"fill:none;stroke-width:1;stroke-linecap:butt;stroke-linejoin:miter;stroke:rgb(26.666667%,26.666667%,26.666667%);stroke-opacity:1;stroke-miterlimit:10;\" d=\"M 201.429688 70 L 201.429688 275.734375 \"/>\n<path style=\" stroke:none;fill-rule:nonzero;fill:rgb(26.666667%,26.666667%,26.666667%);fill-opacity:1;\" d=\"M 201.429688 290 L 196.792969 275.734375 L 206.0625 275.734375 L 201.429688 290 \"/>\n<path style=\"fill:none;stroke-width:1;stroke-linecap:butt;stroke-linejoin:miter;stroke:rgb(26.666667%,26.666667%,26.666667%);stroke-opacity:1;stroke-miterlimit:10;\" d=\"M 201.429688 300 L 142.378906 506.667969 \"/>\n<path style=\" stroke:none;fill-rule:nonzero;fill:rgb(26.666667%,26.666667%,26.666667%);fill-opacity:1;\" d=\"M 138.460938 520.382812 L 137.921875 505.394531 L 146.835938 507.941406 L 138.460938 520.382812 \"/>\n<path style=\"fill:none;stroke-width:1;stroke-linecap:butt;stroke-linejoin:miter;stroke:rgb(26.666667%,26.666667%,26.666667%);stroke-opacity:1;stroke-miterlimit:10;\" d=\"M 201.429688 300 L 260.476562 506.667969 \"/>\n<path style=\" stroke:none;fill-rule:nonzero;fill:rgb(26.666667%,26.666667%,26.666667%);fill-opacity:1;\" d=\"M 264.394531 520.382812 L 256.019531 507.941406 L 264.933594 505.394531 L 264.394531 520.382812 \"/>\n<path style=\"fill:none;stroke-width:1;stroke-linecap:butt;stroke-linejoin:miter;stroke:rgb(26.666667%,26.666667%,26.666667%);stroke-opacity:1;stroke-miterlimit:10;\" d=\"M 201.429688 70 L 82.039062 278.929688 \"/>\n<path style=\" stroke:none;fill-rule:nonzero;fill:rgb(26.666667%,26.666667%,26.666667%);fill-opacity:1;\" d=\"M 74.960938 291.316406 L 78.015625 276.632812 L 86.0625 281.230469 L 74.960938 291.316406 \"/>\n<path style=\"fill:none;stroke-width:1;stroke-linecap:butt;stroke-linejoin:miter;stroke:rgb(26.666667%,26.666667%,26.666667%);stroke-opacity:1;stroke-miterlimit:10;\" d=\"M 201.429688 70 L 446.023438 284.019531 \"/>\n<path style=\" stroke:none;fill-rule:nonzero;fill:rgb(26.666667%,26.666667%,26.666667%);fill-opacity:1;\" d=\"M 456.761719 293.414062 L 442.972656 287.507812 L 449.074219 280.53125 L 456.761719 293.414062 \"/>\n<path style=\"fill:none;stroke-width:1;stroke-linecap:butt;stroke-linejoin:miter;stroke:rgb(26.666667%,26.666667%,26.666667%);stroke-opacity:1;stroke-miterlimit:10;\" d=\"M 464.285156 300 L 405.238281 506.667969 \"/>\n<path style=\" stroke:none;fill-rule:nonzero;fill:rgb(26.666667%,26.666667%,26.666667%);fill-opacity:1;\" d=\"M 401.320312 520.382812 L 400.78125 505.394531 L 409.695312 507.941406 L 401.320312 520.382812 \"/>\n<path style=\"fill:none;stroke-width:1;stroke-linecap:butt;stroke-linejoin:miter;stroke:rgb(26.666667%,26.666667%,26.666667%);stroke-opacity:1;stroke-miterlimit:10;\" d=\"M 464.285156 300 L 523.332031 506.667969 \"/>\n<path style=\" stroke:none;fill-rule:nonzero;fill:rgb(26.666667%,26.666667%,26.666667%);fill-opacity:1;\" d=\"M 527.253906 520.382812 L 518.875 507.941406 L 527.789062 505.394531 L 527.253906 520.382812 \"/>\n<path style=\"fill-rule:nonzero;fill:rgb(49.803922%,100%,83.137255%);fill-opacity:1;stroke-width:1;stroke-linecap:butt;stroke-linejoin:miter;stroke:rgb(0%,0%,0%);stroke-opacity:1;stroke-miterlimit:10;\" d=\"M 211.429688 70 C 211.429688 75.523438 206.953125 80 201.429688 80 C 195.90625 80 191.429688 75.523438 191.429688 70 C 191.429688 64.476562 195.90625 60 201.429688 60 C 206.953125 60 211.429688 64.476562 211.429688 70 \"/>\n<path style=\"fill-rule:nonzero;fill:rgb(49.803922%,100%,83.137255%);fill-opacity:1;stroke-width:1;stroke-linecap:butt;stroke-linejoin:miter;stroke:rgb(0%,0%,0%);stroke-opacity:1;stroke-miterlimit:10;\" d=\"M 211.429688 300 C 211.429688 305.523438 206.953125 310 201.429688 310 C 195.90625 310 191.429688 305.523438 191.429688 300 C 191.429688 294.476562 195.90625 290 201.429688 290 C 206.953125 290 211.429688 294.476562 211.429688 300 \"/>\n<path style=\"fill-rule:nonzero;fill:rgb(100%,64.705882%,0%);fill-opacity:1;stroke-width:1;stroke-linecap:butt;stroke-linejoin:miter;stroke:rgb(0%,0%,0%);stroke-opacity:1;stroke-miterlimit:10;\" d=\"M 145.714844 530 C 145.714844 535.523438 141.238281 540 135.714844 540 C 130.191406 540 125.714844 535.523438 125.714844 530 C 125.714844 524.476562 130.191406 520 135.714844 520 C 141.238281 520 145.714844 524.476562 145.714844 530 \"/>\n<path style=\"fill-rule:nonzero;fill:rgb(100%,64.705882%,0%);fill-opacity:1;stroke-width:1;stroke-linecap:butt;stroke-linejoin:miter;stroke:rgb(0%,0%,0%);stroke-opacity:1;stroke-miterlimit:10;\" d=\"M 277.144531 530 C 277.144531 535.523438 272.664062 540 267.144531 540 C 261.621094 540 257.144531 535.523438 257.144531 530 C 257.144531 524.476562 261.621094 520 267.144531 520 C 272.664062 520 277.144531 524.476562 277.144531 530 \"/>\n<path style=\"fill-rule:nonzero;fill:rgb(100%,64.705882%,0%);fill-opacity:1;stroke-width:1;stroke-linecap:butt;stroke-linejoin:miter;stroke:rgb(0%,0%,0%);stroke-opacity:1;stroke-miterlimit:10;\" d=\"M 80 300 C 80 305.523438 75.523438 310 70 310 C 64.476562 310 60 305.523438 60 300 C 60 294.476562 64.476562 290 70 290 C 75.523438 290 80 294.476562 80 300 \"/>\n<path style=\"fill-rule:nonzero;fill:rgb(49.803922%,100%,83.137255%);fill-opacity:1;stroke-width:1;stroke-linecap:butt;stroke-linejoin:miter;stroke:rgb(0%,0%,0%);stroke-opacity:1;stroke-miterlimit:10;\" d=\"M 474.285156 300 C 474.285156 305.523438 469.808594 310 464.285156 310 C 458.761719 310 454.285156 305.523438 454.285156 300 C 454.285156 294.476562 458.761719 290 464.285156 290 C 469.808594 290 474.285156 294.476562 474.285156 300 \"/>\n<path style=\"fill-rule:nonzero;fill:rgb(100%,64.705882%,0%);fill-opacity:1;stroke-width:1;stroke-linecap:butt;stroke-linejoin:miter;stroke:rgb(0%,0%,0%);stroke-opacity:1;stroke-miterlimit:10;\" d=\"M 408.570312 530 C 408.570312 535.523438 404.09375 540 398.570312 540 C 393.046875 540 388.570312 535.523438 388.570312 530 C 388.570312 524.476562 393.046875 520 398.570312 520 C 404.09375 520 408.570312 524.476562 408.570312 530 \"/>\n<path style=\"fill-rule:nonzero;fill:rgb(100%,64.705882%,0%);fill-opacity:1;stroke-width:1;stroke-linecap:butt;stroke-linejoin:miter;stroke:rgb(0%,0%,0%);stroke-opacity:1;stroke-miterlimit:10;\" d=\"M 540 530 C 540 535.523438 535.523438 540 530 540 C 524.476562 540 520 535.523438 520 530 C 520 524.476562 524.476562 520 530 520 C 535.523438 520 540 524.476562 540 530 \"/>\n<g style=\"fill:rgb(0%,0%,0%);fill-opacity:1;\">\n  <use xlink:href=\"#glyph0-1\" x=\"172.03125\" y=\"77.175781\"/>\n  <use xlink:href=\"#glyph0-2\" x=\"180.432617\" y=\"77.175781\"/>\n  <use xlink:href=\"#glyph0-3\" x=\"188.833984\" y=\"77.175781\"/>\n  <use xlink:href=\"#glyph0-4\" x=\"197.235352\" y=\"77.175781\"/>\n  <use xlink:href=\"#glyph0-5\" x=\"205.636719\" y=\"77.175781\"/>\n  <use xlink:href=\"#glyph0-5\" x=\"214.038086\" y=\"77.175781\"/>\n  <use xlink:href=\"#glyph0-6\" x=\"222.439453\" y=\"77.175781\"/>\n</g>\n<g style=\"fill:rgb(0%,0%,0%);fill-opacity:1;\">\n  <use xlink:href=\"#glyph0-7\" x=\"167.5\" y=\"307.175781\"/>\n  <use xlink:href=\"#glyph0-2\" x=\"175.901367\" y=\"307.175781\"/>\n  <use xlink:href=\"#glyph0-8\" x=\"184.302734\" y=\"307.175781\"/>\n  <use xlink:href=\"#glyph0-9\" x=\"192.704102\" y=\"307.175781\"/>\n  <use xlink:href=\"#glyph0-10\" x=\"201.105469\" y=\"307.175781\"/>\n  <use xlink:href=\"#glyph0-9\" x=\"209.506836\" y=\"307.175781\"/>\n  <use xlink:href=\"#glyph0-3\" x=\"217.908203\" y=\"307.175781\"/>\n  <use xlink:href=\"#glyph0-11\" x=\"226.30957\" y=\"307.175781\"/>\n</g>\n<g style=\"fill:rgb(0%,0%,0%);fill-opacity:1;\">\n  <use xlink:href=\"#glyph0-12\" x=\"89.355469\" y=\"529.246094\"/>\n  <use xlink:href=\"#glyph0-4\" x=\"97.756836\" y=\"529.246094\"/>\n  <use xlink:href=\"#glyph0-13\" x=\"106.158203\" y=\"529.246094\"/>\n  <use xlink:href=\"#glyph0-11\" x=\"114.55957\" y=\"529.246094\"/>\n  <use xlink:href=\"#glyph0-14\" x=\"122.960938\" y=\"529.246094\"/>\n  <use xlink:href=\"#glyph0-15\" x=\"131.362305\" y=\"529.246094\"/>\n  <use xlink:href=\"#glyph0-16\" x=\"139.763672\" y=\"529.246094\"/>\n  <use xlink:href=\"#glyph0-16\" x=\"148.165039\" y=\"529.246094\"/>\n  <use xlink:href=\"#glyph0-9\" x=\"156.566406\" y=\"529.246094\"/>\n  <use xlink:href=\"#glyph0-17\" x=\"164.967773\" y=\"529.246094\"/>\n  <use xlink:href=\"#glyph0-18\" x=\"173.369141\" y=\"529.246094\"/>\n</g>\n<g style=\"fill:rgb(0%,0%,0%);fill-opacity:1;\">\n  <use xlink:href=\"#glyph0-19\" x=\"127.210938\" y=\"545.105469\"/>\n  <use xlink:href=\"#glyph0-5\" x=\"135.612305\" y=\"545.105469\"/>\n</g>\n<g style=\"fill:rgb(0%,0%,0%);fill-opacity:1;\">\n  <use xlink:href=\"#glyph0-12\" x=\"220.785156\" y=\"529.246094\"/>\n  <use xlink:href=\"#glyph0-4\" x=\"229.186523\" y=\"529.246094\"/>\n  <use xlink:href=\"#glyph0-13\" x=\"237.587891\" y=\"529.246094\"/>\n  <use xlink:href=\"#glyph0-11\" x=\"245.989258\" y=\"529.246094\"/>\n  <use xlink:href=\"#glyph0-14\" x=\"254.390625\" y=\"529.246094\"/>\n  <use xlink:href=\"#glyph0-15\" x=\"262.791992\" y=\"529.246094\"/>\n  <use xlink:href=\"#glyph0-16\" x=\"271.193359\" y=\"529.246094\"/>\n  <use xlink:href=\"#glyph0-16\" x=\"279.594727\" y=\"529.246094\"/>\n  <use xlink:href=\"#glyph0-9\" x=\"287.996094\" y=\"529.246094\"/>\n  <use xlink:href=\"#glyph0-17\" x=\"296.397461\" y=\"529.246094\"/>\n  <use xlink:href=\"#glyph0-18\" x=\"304.798828\" y=\"529.246094\"/>\n</g>\n<g style=\"fill:rgb(0%,0%,0%);fill-opacity:1;\">\n  <use xlink:href=\"#glyph0-20\" x=\"254.996094\" y=\"545.105469\"/>\n  <use xlink:href=\"#glyph0-15\" x=\"263.397461\" y=\"545.105469\"/>\n  <use xlink:href=\"#glyph0-17\" x=\"271.798828\" y=\"545.105469\"/>\n</g>\n<g style=\"fill:rgb(0%,0%,0%);fill-opacity:1;\">\n  <use xlink:href=\"#glyph0-12\" x=\"23.640625\" y=\"299.246094\"/>\n  <use xlink:href=\"#glyph0-4\" x=\"32.041992\" y=\"299.246094\"/>\n  <use xlink:href=\"#glyph0-13\" x=\"40.443359\" y=\"299.246094\"/>\n  <use xlink:href=\"#glyph0-11\" x=\"48.844727\" y=\"299.246094\"/>\n  <use xlink:href=\"#glyph0-14\" x=\"57.246094\" y=\"299.246094\"/>\n  <use xlink:href=\"#glyph0-15\" x=\"65.647461\" y=\"299.246094\"/>\n  <use xlink:href=\"#glyph0-16\" x=\"74.048828\" y=\"299.246094\"/>\n  <use xlink:href=\"#glyph0-16\" x=\"82.450195\" y=\"299.246094\"/>\n  <use xlink:href=\"#glyph0-9\" x=\"90.851562\" y=\"299.246094\"/>\n  <use xlink:href=\"#glyph0-17\" x=\"99.25293\" y=\"299.246094\"/>\n  <use xlink:href=\"#glyph0-18\" x=\"107.654297\" y=\"299.246094\"/>\n</g>\n<g style=\"fill:rgb(0%,0%,0%);fill-opacity:1;\">\n  <use xlink:href=\"#glyph0-20\" x=\"57.851562\" y=\"315.105469\"/>\n  <use xlink:href=\"#glyph0-15\" x=\"66.25293\" y=\"315.105469\"/>\n  <use xlink:href=\"#glyph0-17\" x=\"74.654297\" y=\"315.105469\"/>\n</g>\n<g style=\"fill:rgb(0%,0%,0%);fill-opacity:1;\">\n  <use xlink:href=\"#glyph0-21\" x=\"443.515625\" y=\"307.175781\"/>\n  <use xlink:href=\"#glyph0-9\" x=\"451.916992\" y=\"307.175781\"/>\n  <use xlink:href=\"#glyph0-16\" x=\"460.318359\" y=\"307.175781\"/>\n  <use xlink:href=\"#glyph0-10\" x=\"468.719727\" y=\"307.175781\"/>\n  <use xlink:href=\"#glyph0-11\" x=\"477.121094\" y=\"307.175781\"/>\n</g>\n<g style=\"fill:rgb(0%,0%,0%);fill-opacity:1;\">\n  <use xlink:href=\"#glyph0-12\" x=\"352.214844\" y=\"529.246094\"/>\n  <use xlink:href=\"#glyph0-4\" x=\"360.616211\" y=\"529.246094\"/>\n  <use xlink:href=\"#glyph0-13\" x=\"369.017578\" y=\"529.246094\"/>\n  <use xlink:href=\"#glyph0-11\" x=\"377.418945\" y=\"529.246094\"/>\n  <use xlink:href=\"#glyph0-14\" x=\"385.820312\" y=\"529.246094\"/>\n  <use xlink:href=\"#glyph0-15\" x=\"394.22168\" y=\"529.246094\"/>\n  <use xlink:href=\"#glyph0-16\" x=\"402.623047\" y=\"529.246094\"/>\n  <use xlink:href=\"#glyph0-16\" x=\"411.024414\" y=\"529.246094\"/>\n  <use xlink:href=\"#glyph0-9\" x=\"419.425781\" y=\"529.246094\"/>\n  <use xlink:href=\"#glyph0-17\" x=\"427.827148\" y=\"529.246094\"/>\n  <use xlink:href=\"#glyph0-18\" x=\"436.228516\" y=\"529.246094\"/>\n</g>\n<g style=\"fill:rgb(0%,0%,0%);fill-opacity:1;\">\n  <use xlink:href=\"#glyph0-20\" x=\"386.425781\" y=\"545.105469\"/>\n  <use xlink:href=\"#glyph0-15\" x=\"394.827148\" y=\"545.105469\"/>\n  <use xlink:href=\"#glyph0-17\" x=\"403.228516\" y=\"545.105469\"/>\n</g>\n<g style=\"fill:rgb(0%,0%,0%);fill-opacity:1;\">\n  <use xlink:href=\"#glyph0-12\" x=\"483.640625\" y=\"529.246094\"/>\n  <use xlink:href=\"#glyph0-4\" x=\"492.041992\" y=\"529.246094\"/>\n  <use xlink:href=\"#glyph0-13\" x=\"500.443359\" y=\"529.246094\"/>\n  <use xlink:href=\"#glyph0-11\" x=\"508.844727\" y=\"529.246094\"/>\n  <use xlink:href=\"#glyph0-14\" x=\"517.246094\" y=\"529.246094\"/>\n  <use xlink:href=\"#glyph0-15\" x=\"525.647461\" y=\"529.246094\"/>\n  <use xlink:href=\"#glyph0-16\" x=\"534.048828\" y=\"529.246094\"/>\n  <use xlink:href=\"#glyph0-16\" x=\"542.450195\" y=\"529.246094\"/>\n  <use xlink:href=\"#glyph0-9\" x=\"550.851562\" y=\"529.246094\"/>\n  <use xlink:href=\"#glyph0-17\" x=\"559.25293\" y=\"529.246094\"/>\n  <use xlink:href=\"#glyph0-18\" x=\"567.654297\" y=\"529.246094\"/>\n</g>\n<g style=\"fill:rgb(0%,0%,0%);fill-opacity:1;\">\n  <use xlink:href=\"#glyph0-19\" x=\"521.496094\" y=\"545.105469\"/>\n  <use xlink:href=\"#glyph0-5\" x=\"529.897461\" y=\"545.105469\"/>\n</g>\n<g style=\"fill:rgb(0%,0%,0%);fill-opacity:1;\">\n  <use xlink:href=\"#glyph1-1\" x=\"200.449219\" y=\"190.03125\"/>\n  <use xlink:href=\"#glyph1-2\" x=\"207.650391\" y=\"190.03125\"/>\n  <use xlink:href=\"#glyph1-3\" x=\"214.851562\" y=\"190.03125\"/>\n  <use xlink:href=\"#glyph1-3\" x=\"222.052734\" y=\"190.03125\"/>\n  <use xlink:href=\"#glyph1-4\" x=\"229.253906\" y=\"190.03125\"/>\n</g>\n<g style=\"fill:rgb(0%,0%,0%);fill-opacity:1;\">\n  <use xlink:href=\"#glyph1-5\" x=\"167.488281\" y=\"421.148438\"/>\n  <use xlink:href=\"#glyph1-6\" x=\"174.689453\" y=\"421.148438\"/>\n  <use xlink:href=\"#glyph1-7\" x=\"181.890625\" y=\"421.148438\"/>\n  <use xlink:href=\"#glyph1-5\" x=\"189.091797\" y=\"421.148438\"/>\n</g>\n<g style=\"fill:rgb(0%,0%,0%);fill-opacity:1;\">\n  <use xlink:href=\"#glyph1-3\" x=\"233.238281\" y=\"421.148438\"/>\n  <use xlink:href=\"#glyph1-8\" x=\"240.439453\" y=\"421.148438\"/>\n  <use xlink:href=\"#glyph1-9\" x=\"247.640625\" y=\"421.148438\"/>\n  <use xlink:href=\"#glyph1-10\" x=\"254.841797\" y=\"421.148438\"/>\n  <use xlink:href=\"#glyph1-11\" x=\"262.042969\" y=\"421.148438\"/>\n  <use xlink:href=\"#glyph1-12\" x=\"269.244141\" y=\"421.148438\"/>\n</g>\n<g style=\"fill:rgb(0%,0%,0%);fill-opacity:1;\">\n  <use xlink:href=\"#glyph1-8\" x=\"134.953125\" y=\"190.796875\"/>\n  <use xlink:href=\"#glyph1-13\" x=\"142.154297\" y=\"190.796875\"/>\n  <use xlink:href=\"#glyph1-14\" x=\"149.355469\" y=\"190.796875\"/>\n  <use xlink:href=\"#glyph1-9\" x=\"156.556641\" y=\"190.796875\"/>\n  <use xlink:href=\"#glyph1-15\" x=\"163.757812\" y=\"190.796875\"/>\n  <use xlink:href=\"#glyph1-11\" x=\"170.958984\" y=\"190.796875\"/>\n  <use xlink:href=\"#glyph1-1\" x=\"178.160156\" y=\"190.796875\"/>\n  <use xlink:href=\"#glyph1-16\" x=\"185.361328\" y=\"190.796875\"/>\n</g>\n<g style=\"fill:rgb(0%,0%,0%);fill-opacity:1;\">\n  <use xlink:href=\"#glyph1-9\" x=\"331.4375\" y=\"179.359375\"/>\n  <use xlink:href=\"#glyph1-11\" x=\"338.638672\" y=\"179.359375\"/>\n  <use xlink:href=\"#glyph1-6\" x=\"345.839844\" y=\"179.359375\"/>\n  <use xlink:href=\"#glyph1-3\" x=\"353.041016\" y=\"179.359375\"/>\n  <use xlink:href=\"#glyph1-4\" x=\"360.242188\" y=\"179.359375\"/>\n</g>\n<g style=\"fill:rgb(0%,0%,0%);fill-opacity:1;\">\n  <use xlink:href=\"#glyph1-17\" x=\"430.621094\" y=\"421.148438\"/>\n  <use xlink:href=\"#glyph1-11\" x=\"437.822266\" y=\"421.148438\"/>\n  <use xlink:href=\"#glyph1-12\" x=\"445.023438\" y=\"421.148438\"/>\n  <use xlink:href=\"#glyph1-1\" x=\"452.224609\" y=\"421.148438\"/>\n  <use xlink:href=\"#glyph1-14\" x=\"459.425781\" y=\"421.148438\"/>\n</g>\n<g style=\"fill:rgb(0%,0%,0%);fill-opacity:1;\">\n  <use xlink:href=\"#glyph1-16\" x=\"496.03125\" y=\"420.796875\"/>\n  <use xlink:href=\"#glyph1-9\" x=\"503.232422\" y=\"420.796875\"/>\n  <use xlink:href=\"#glyph1-2\" x=\"510.433594\" y=\"420.796875\"/>\n  <use xlink:href=\"#glyph1-14\" x=\"517.634766\" y=\"420.796875\"/>\n</g>\n</g>\n</svg>\n"
          },
          "metadata": {
            "image/svg+xml": {
              "isolated": true
            }
          },
          "execution_count": 3
        }
      ]
    },
    {
      "cell_type": "markdown",
      "metadata": {
        "id": "Ps3szBVAqNPH"
      },
      "source": [
        "# กิตติกรรมประกาศ\n",
        "ขอบคุณรศ. ดร.สมชาย ประสิทธิ์จูตระกูล ที่ช่วยเหลือและให้คำแนะนำในการออกโจทย์การบ้านนี้\n",
        "\n",
        "# บรรณานุกรม\n",
        "[1] รศ. ดร.ญาใจ ลิ่มปิยะกรณ์. (2553). **การทำเหมืองข้อมูล**. กรุงเทพฯ: ภาควิชาวิศวกรรมคอมพิวเตอร์ จุฬาลงกรณ์มหาวิทยาลัย. \\\\\n",
        "[2] รศ. ดร.ปริญญา สงวนสัตย์. (2562). **Artificial Intelligence with Machine Learning, AI สร้างได้ด้วยแมชชีนเลิร์นนิ่ง**. นนทบุรี: สำนักพิมพ์ ไอดีซี พรีเมียร์."
      ]
    },
    {
      "cell_type": "markdown",
      "metadata": {
        "id": "0eNmO2k4kVDE"
      },
      "source": [
        "#เนื้อหานอกบทเรียน (ไม่เกี่ยวกับการบ้าน, ไม่ออกสอบ 1000%, แก้โค้ดได้ตามสบาย )\n",
        "การทำ decision tree ในด้านสายงาน Machine Learning จริงๆนั้น ไม่นิยมเขียนอัลกอริทึมเองทั้งหมด แต่จะอาศัยบริการจาก library แทน โดยในที่นี่ จะสาธิตการทำ decision tree โดยใช้ library numpy, pandas และ sklearn\n",
        "\n",
        "ขอบคุณโค้ดจาก: https://github.com/Luel-Hagos/Play-Tennis-Implementation-Using-Sklearn-Decision-Tree-Algorithm"
      ]
    },
    {
      "cell_type": "markdown",
      "metadata": {
        "id": "bRz6M9ZFV4WJ"
      },
      "source": [
        "## Load libraries\n",
        "- numpy เป็น library ที่ใช้ในการคำนวณทางคณิตศาสตร์และวิทยาศาสตร์\n",
        "- pandas เป็น library ที่ใช้สำหรับจัดการข้อมูลไฟล์ csv เพื่อให้แสดงออกอยู่ในรูปตาราง\n",
        "- sklearn เป็น เป็น library ที่รวมรวมอัลกอริทึมที่ใช้ในงานด้าน machine learning"
      ]
    },
    {
      "cell_type": "code",
      "metadata": {
        "id": "9oFzXZM4ufuL"
      },
      "source": [
        "import numpy as np #เฉพาะตัวนี้ เดี๋ยวจะได้เรียนแน่นอน\n",
        "import pandas as pd \n",
        "from sklearn import metrics "
      ],
      "execution_count": null,
      "outputs": []
    },
    {
      "cell_type": "markdown",
      "metadata": {
        "id": "TTHTxjfjVzwH"
      },
      "source": [
        "## Import the Dataset"
      ]
    },
    {
      "cell_type": "code",
      "metadata": {
        "colab": {
          "base_uri": "https://localhost:8080/",
          "height": 486
        },
        "id": "7Wd8j6Alu25z",
        "outputId": "43e1eb4d-e6ec-43a6-b067-09db018c66d3"
      },
      "source": [
        "df=pd.read_csv(\"climate_for_tennis.csv\")\n",
        "value=['Outlook','Temperature','Humidity','Windy']\n",
        "df"
      ],
      "execution_count": null,
      "outputs": [
        {
          "output_type": "execute_result",
          "data": {
            "text/html": [
              "<div>\n",
              "<style scoped>\n",
              "    .dataframe tbody tr th:only-of-type {\n",
              "        vertical-align: middle;\n",
              "    }\n",
              "\n",
              "    .dataframe tbody tr th {\n",
              "        vertical-align: top;\n",
              "    }\n",
              "\n",
              "    .dataframe thead th {\n",
              "        text-align: right;\n",
              "    }\n",
              "</style>\n",
              "<table border=\"1\" class=\"dataframe\">\n",
              "  <thead>\n",
              "    <tr style=\"text-align: right;\">\n",
              "      <th></th>\n",
              "      <th>Day</th>\n",
              "      <th>Outlook</th>\n",
              "      <th>Temperature</th>\n",
              "      <th>Humidity</th>\n",
              "      <th>Windy</th>\n",
              "      <th>PlayTennis</th>\n",
              "    </tr>\n",
              "  </thead>\n",
              "  <tbody>\n",
              "    <tr>\n",
              "      <th>0</th>\n",
              "      <td>D1</td>\n",
              "      <td>sunny</td>\n",
              "      <td>hot</td>\n",
              "      <td>high</td>\n",
              "      <td>False</td>\n",
              "      <td>No</td>\n",
              "    </tr>\n",
              "    <tr>\n",
              "      <th>1</th>\n",
              "      <td>D2</td>\n",
              "      <td>sunny</td>\n",
              "      <td>hot</td>\n",
              "      <td>high</td>\n",
              "      <td>True</td>\n",
              "      <td>No</td>\n",
              "    </tr>\n",
              "    <tr>\n",
              "      <th>2</th>\n",
              "      <td>D3</td>\n",
              "      <td>overcast</td>\n",
              "      <td>hot</td>\n",
              "      <td>high</td>\n",
              "      <td>False</td>\n",
              "      <td>Yes</td>\n",
              "    </tr>\n",
              "    <tr>\n",
              "      <th>3</th>\n",
              "      <td>D4</td>\n",
              "      <td>rainy</td>\n",
              "      <td>mild</td>\n",
              "      <td>high</td>\n",
              "      <td>False</td>\n",
              "      <td>Yes</td>\n",
              "    </tr>\n",
              "    <tr>\n",
              "      <th>4</th>\n",
              "      <td>D5</td>\n",
              "      <td>rainy</td>\n",
              "      <td>cool</td>\n",
              "      <td>normal</td>\n",
              "      <td>False</td>\n",
              "      <td>Yes</td>\n",
              "    </tr>\n",
              "    <tr>\n",
              "      <th>5</th>\n",
              "      <td>D6</td>\n",
              "      <td>rainy</td>\n",
              "      <td>cool</td>\n",
              "      <td>normal</td>\n",
              "      <td>True</td>\n",
              "      <td>No</td>\n",
              "    </tr>\n",
              "    <tr>\n",
              "      <th>6</th>\n",
              "      <td>D7</td>\n",
              "      <td>overcast</td>\n",
              "      <td>cool</td>\n",
              "      <td>normal</td>\n",
              "      <td>True</td>\n",
              "      <td>Yes</td>\n",
              "    </tr>\n",
              "    <tr>\n",
              "      <th>7</th>\n",
              "      <td>D8</td>\n",
              "      <td>sunny</td>\n",
              "      <td>mild</td>\n",
              "      <td>high</td>\n",
              "      <td>False</td>\n",
              "      <td>No</td>\n",
              "    </tr>\n",
              "    <tr>\n",
              "      <th>8</th>\n",
              "      <td>D9</td>\n",
              "      <td>sunny</td>\n",
              "      <td>cool</td>\n",
              "      <td>normal</td>\n",
              "      <td>False</td>\n",
              "      <td>Yes</td>\n",
              "    </tr>\n",
              "    <tr>\n",
              "      <th>9</th>\n",
              "      <td>D10</td>\n",
              "      <td>rainy</td>\n",
              "      <td>mild</td>\n",
              "      <td>normal</td>\n",
              "      <td>False</td>\n",
              "      <td>Yes</td>\n",
              "    </tr>\n",
              "    <tr>\n",
              "      <th>10</th>\n",
              "      <td>D11</td>\n",
              "      <td>sunny</td>\n",
              "      <td>mild</td>\n",
              "      <td>normal</td>\n",
              "      <td>True</td>\n",
              "      <td>Yes</td>\n",
              "    </tr>\n",
              "    <tr>\n",
              "      <th>11</th>\n",
              "      <td>D12</td>\n",
              "      <td>overcast</td>\n",
              "      <td>mild</td>\n",
              "      <td>high</td>\n",
              "      <td>True</td>\n",
              "      <td>Yes</td>\n",
              "    </tr>\n",
              "    <tr>\n",
              "      <th>12</th>\n",
              "      <td>D13</td>\n",
              "      <td>overcast</td>\n",
              "      <td>hot</td>\n",
              "      <td>normal</td>\n",
              "      <td>False</td>\n",
              "      <td>Yes</td>\n",
              "    </tr>\n",
              "    <tr>\n",
              "      <th>13</th>\n",
              "      <td>D14</td>\n",
              "      <td>rainy</td>\n",
              "      <td>mild</td>\n",
              "      <td>high</td>\n",
              "      <td>True</td>\n",
              "      <td>No</td>\n",
              "    </tr>\n",
              "  </tbody>\n",
              "</table>\n",
              "</div>"
            ],
            "text/plain": [
              "    Day   Outlook Temperature Humidity  Windy PlayTennis\n",
              "0    D1     sunny         hot     high  False         No\n",
              "1    D2     sunny         hot     high   True         No\n",
              "2    D3  overcast         hot     high  False        Yes\n",
              "3    D4     rainy        mild     high  False        Yes\n",
              "4    D5     rainy        cool   normal  False        Yes\n",
              "5    D6     rainy        cool   normal   True         No\n",
              "6    D7  overcast        cool   normal   True        Yes\n",
              "7    D8     sunny        mild     high  False         No\n",
              "8    D9     sunny        cool   normal  False        Yes\n",
              "9   D10     rainy        mild   normal  False        Yes\n",
              "10  D11     sunny        mild   normal   True        Yes\n",
              "11  D12  overcast        mild     high   True        Yes\n",
              "12  D13  overcast         hot   normal  False        Yes\n",
              "13  D14     rainy        mild     high   True         No"
            ]
          },
          "metadata": {},
          "execution_count": 5
        }
      ]
    },
    {
      "cell_type": "markdown",
      "metadata": {
        "id": "ROA8gHXY6k-A"
      },
      "source": [
        "## Data Analysis"
      ]
    },
    {
      "cell_type": "code",
      "metadata": {
        "colab": {
          "base_uri": "https://localhost:8080/"
        },
        "id": "puTGiRiUu3mS",
        "outputId": "5b5788d8-fe22-44f9-910b-cbb936ed500b"
      },
      "source": [
        "len(df) #จำนวนข้อมูลทดสอบ"
      ],
      "execution_count": null,
      "outputs": [
        {
          "output_type": "execute_result",
          "data": {
            "text/plain": [
              "14"
            ]
          },
          "metadata": {},
          "execution_count": 6
        }
      ]
    },
    {
      "cell_type": "code",
      "metadata": {
        "colab": {
          "base_uri": "https://localhost:8080/"
        },
        "id": "2ScEebw8u5F6",
        "outputId": "10f6cee9-8b0e-4225-f7de-a182aeebfc97"
      },
      "source": [
        "df.shape #บอกจำนวนแถวข้อมูล,หลักของattribute (row,column)"
      ],
      "execution_count": null,
      "outputs": [
        {
          "output_type": "execute_result",
          "data": {
            "text/plain": [
              "(14, 6)"
            ]
          },
          "metadata": {},
          "execution_count": 7
        }
      ]
    },
    {
      "cell_type": "code",
      "metadata": {
        "colab": {
          "base_uri": "https://localhost:8080/",
          "height": 205
        },
        "id": "uXzTNdBCu5QK",
        "outputId": "01114062-1856-4f43-81e7-d38bb6bfb2e6"
      },
      "source": [
        "df.head()  #โชว์ข้อมูลช่วงแรกๆ"
      ],
      "execution_count": null,
      "outputs": [
        {
          "output_type": "execute_result",
          "data": {
            "text/html": [
              "<div>\n",
              "<style scoped>\n",
              "    .dataframe tbody tr th:only-of-type {\n",
              "        vertical-align: middle;\n",
              "    }\n",
              "\n",
              "    .dataframe tbody tr th {\n",
              "        vertical-align: top;\n",
              "    }\n",
              "\n",
              "    .dataframe thead th {\n",
              "        text-align: right;\n",
              "    }\n",
              "</style>\n",
              "<table border=\"1\" class=\"dataframe\">\n",
              "  <thead>\n",
              "    <tr style=\"text-align: right;\">\n",
              "      <th></th>\n",
              "      <th>Day</th>\n",
              "      <th>Outlook</th>\n",
              "      <th>Temperature</th>\n",
              "      <th>Humidity</th>\n",
              "      <th>Windy</th>\n",
              "      <th>PlayTennis</th>\n",
              "    </tr>\n",
              "  </thead>\n",
              "  <tbody>\n",
              "    <tr>\n",
              "      <th>0</th>\n",
              "      <td>D1</td>\n",
              "      <td>sunny</td>\n",
              "      <td>hot</td>\n",
              "      <td>high</td>\n",
              "      <td>False</td>\n",
              "      <td>No</td>\n",
              "    </tr>\n",
              "    <tr>\n",
              "      <th>1</th>\n",
              "      <td>D2</td>\n",
              "      <td>sunny</td>\n",
              "      <td>hot</td>\n",
              "      <td>high</td>\n",
              "      <td>True</td>\n",
              "      <td>No</td>\n",
              "    </tr>\n",
              "    <tr>\n",
              "      <th>2</th>\n",
              "      <td>D3</td>\n",
              "      <td>overcast</td>\n",
              "      <td>hot</td>\n",
              "      <td>high</td>\n",
              "      <td>False</td>\n",
              "      <td>Yes</td>\n",
              "    </tr>\n",
              "    <tr>\n",
              "      <th>3</th>\n",
              "      <td>D4</td>\n",
              "      <td>rainy</td>\n",
              "      <td>mild</td>\n",
              "      <td>high</td>\n",
              "      <td>False</td>\n",
              "      <td>Yes</td>\n",
              "    </tr>\n",
              "    <tr>\n",
              "      <th>4</th>\n",
              "      <td>D5</td>\n",
              "      <td>rainy</td>\n",
              "      <td>cool</td>\n",
              "      <td>normal</td>\n",
              "      <td>False</td>\n",
              "      <td>Yes</td>\n",
              "    </tr>\n",
              "  </tbody>\n",
              "</table>\n",
              "</div>"
            ],
            "text/plain": [
              "  Day   Outlook Temperature Humidity  Windy PlayTennis\n",
              "0  D1     sunny         hot     high  False         No\n",
              "1  D2     sunny         hot     high   True         No\n",
              "2  D3  overcast         hot     high  False        Yes\n",
              "3  D4     rainy        mild     high  False        Yes\n",
              "4  D5     rainy        cool   normal  False        Yes"
            ]
          },
          "metadata": {},
          "execution_count": 8
        }
      ]
    },
    {
      "cell_type": "code",
      "metadata": {
        "colab": {
          "base_uri": "https://localhost:8080/",
          "height": 205
        },
        "id": "cn3cNXPju5ZR",
        "outputId": "fd92a947-8797-4a13-9dcc-4d2417c9cd25"
      },
      "source": [
        "df.tail() #โชว์ข้อมูลช่วงท้ายๆ"
      ],
      "execution_count": null,
      "outputs": [
        {
          "output_type": "execute_result",
          "data": {
            "text/html": [
              "<div>\n",
              "<style scoped>\n",
              "    .dataframe tbody tr th:only-of-type {\n",
              "        vertical-align: middle;\n",
              "    }\n",
              "\n",
              "    .dataframe tbody tr th {\n",
              "        vertical-align: top;\n",
              "    }\n",
              "\n",
              "    .dataframe thead th {\n",
              "        text-align: right;\n",
              "    }\n",
              "</style>\n",
              "<table border=\"1\" class=\"dataframe\">\n",
              "  <thead>\n",
              "    <tr style=\"text-align: right;\">\n",
              "      <th></th>\n",
              "      <th>Day</th>\n",
              "      <th>Outlook</th>\n",
              "      <th>Temperature</th>\n",
              "      <th>Humidity</th>\n",
              "      <th>Windy</th>\n",
              "      <th>PlayTennis</th>\n",
              "    </tr>\n",
              "  </thead>\n",
              "  <tbody>\n",
              "    <tr>\n",
              "      <th>9</th>\n",
              "      <td>D10</td>\n",
              "      <td>rainy</td>\n",
              "      <td>mild</td>\n",
              "      <td>normal</td>\n",
              "      <td>False</td>\n",
              "      <td>Yes</td>\n",
              "    </tr>\n",
              "    <tr>\n",
              "      <th>10</th>\n",
              "      <td>D11</td>\n",
              "      <td>sunny</td>\n",
              "      <td>mild</td>\n",
              "      <td>normal</td>\n",
              "      <td>True</td>\n",
              "      <td>Yes</td>\n",
              "    </tr>\n",
              "    <tr>\n",
              "      <th>11</th>\n",
              "      <td>D12</td>\n",
              "      <td>overcast</td>\n",
              "      <td>mild</td>\n",
              "      <td>high</td>\n",
              "      <td>True</td>\n",
              "      <td>Yes</td>\n",
              "    </tr>\n",
              "    <tr>\n",
              "      <th>12</th>\n",
              "      <td>D13</td>\n",
              "      <td>overcast</td>\n",
              "      <td>hot</td>\n",
              "      <td>normal</td>\n",
              "      <td>False</td>\n",
              "      <td>Yes</td>\n",
              "    </tr>\n",
              "    <tr>\n",
              "      <th>13</th>\n",
              "      <td>D14</td>\n",
              "      <td>rainy</td>\n",
              "      <td>mild</td>\n",
              "      <td>high</td>\n",
              "      <td>True</td>\n",
              "      <td>No</td>\n",
              "    </tr>\n",
              "  </tbody>\n",
              "</table>\n",
              "</div>"
            ],
            "text/plain": [
              "    Day   Outlook Temperature Humidity  Windy PlayTennis\n",
              "9   D10     rainy        mild   normal  False        Yes\n",
              "10  D11     sunny        mild   normal   True        Yes\n",
              "11  D12  overcast        mild     high   True        Yes\n",
              "12  D13  overcast         hot   normal  False        Yes\n",
              "13  D14     rainy        mild     high   True         No"
            ]
          },
          "metadata": {},
          "execution_count": 9
        }
      ]
    },
    {
      "cell_type": "markdown",
      "metadata": {
        "id": "C49t9Kxi6h_g"
      },
      "source": [
        "## Preparing the Data (Data Slicing)"
      ]
    },
    {
      "cell_type": "code",
      "metadata": {
        "colab": {
          "base_uri": "https://localhost:8080/",
          "height": 486
        },
        "id": "h60LCNe9vdPa",
        "outputId": "49789a9c-ee88-4ca5-c9ba-be7ef546ed0b"
      },
      "source": [
        "#ก่อนที่จะนำข้อมูลไป training จะต้องทำการจัดเตรียมข้อมูลก่อน (preprocessing)\n",
        "#เนื่องจาก Machine Learning algorithm ของ sklearn รับเฉพาะข้อมูลประเภทตัวเลข (int, float) เท่านั้น\n",
        "#ดังนั้นจึงต้องแปลงค่าของ attribute ทุกตัวเป็น int \n",
        "from sklearn import preprocessing\n",
        "string_to_int= preprocessing.LabelEncoder()    #เรียกใช้ฟังก์ชั่น LabelEncoder() ของ sklearn \n",
        "df=df.apply(string_to_int.fit_transform)       #แปลงค่า\n",
        "df"
      ],
      "execution_count": null,
      "outputs": [
        {
          "output_type": "execute_result",
          "data": {
            "text/html": [
              "<div>\n",
              "<style scoped>\n",
              "    .dataframe tbody tr th:only-of-type {\n",
              "        vertical-align: middle;\n",
              "    }\n",
              "\n",
              "    .dataframe tbody tr th {\n",
              "        vertical-align: top;\n",
              "    }\n",
              "\n",
              "    .dataframe thead th {\n",
              "        text-align: right;\n",
              "    }\n",
              "</style>\n",
              "<table border=\"1\" class=\"dataframe\">\n",
              "  <thead>\n",
              "    <tr style=\"text-align: right;\">\n",
              "      <th></th>\n",
              "      <th>Day</th>\n",
              "      <th>Outlook</th>\n",
              "      <th>Temperature</th>\n",
              "      <th>Humidity</th>\n",
              "      <th>Windy</th>\n",
              "      <th>PlayTennis</th>\n",
              "    </tr>\n",
              "  </thead>\n",
              "  <tbody>\n",
              "    <tr>\n",
              "      <th>0</th>\n",
              "      <td>0</td>\n",
              "      <td>2</td>\n",
              "      <td>1</td>\n",
              "      <td>0</td>\n",
              "      <td>0</td>\n",
              "      <td>0</td>\n",
              "    </tr>\n",
              "    <tr>\n",
              "      <th>1</th>\n",
              "      <td>6</td>\n",
              "      <td>2</td>\n",
              "      <td>1</td>\n",
              "      <td>0</td>\n",
              "      <td>1</td>\n",
              "      <td>0</td>\n",
              "    </tr>\n",
              "    <tr>\n",
              "      <th>2</th>\n",
              "      <td>7</td>\n",
              "      <td>0</td>\n",
              "      <td>1</td>\n",
              "      <td>0</td>\n",
              "      <td>0</td>\n",
              "      <td>1</td>\n",
              "    </tr>\n",
              "    <tr>\n",
              "      <th>3</th>\n",
              "      <td>8</td>\n",
              "      <td>1</td>\n",
              "      <td>2</td>\n",
              "      <td>0</td>\n",
              "      <td>0</td>\n",
              "      <td>1</td>\n",
              "    </tr>\n",
              "    <tr>\n",
              "      <th>4</th>\n",
              "      <td>9</td>\n",
              "      <td>1</td>\n",
              "      <td>0</td>\n",
              "      <td>1</td>\n",
              "      <td>0</td>\n",
              "      <td>1</td>\n",
              "    </tr>\n",
              "    <tr>\n",
              "      <th>5</th>\n",
              "      <td>10</td>\n",
              "      <td>1</td>\n",
              "      <td>0</td>\n",
              "      <td>1</td>\n",
              "      <td>1</td>\n",
              "      <td>0</td>\n",
              "    </tr>\n",
              "    <tr>\n",
              "      <th>6</th>\n",
              "      <td>11</td>\n",
              "      <td>0</td>\n",
              "      <td>0</td>\n",
              "      <td>1</td>\n",
              "      <td>1</td>\n",
              "      <td>1</td>\n",
              "    </tr>\n",
              "    <tr>\n",
              "      <th>7</th>\n",
              "      <td>12</td>\n",
              "      <td>2</td>\n",
              "      <td>2</td>\n",
              "      <td>0</td>\n",
              "      <td>0</td>\n",
              "      <td>0</td>\n",
              "    </tr>\n",
              "    <tr>\n",
              "      <th>8</th>\n",
              "      <td>13</td>\n",
              "      <td>2</td>\n",
              "      <td>0</td>\n",
              "      <td>1</td>\n",
              "      <td>0</td>\n",
              "      <td>1</td>\n",
              "    </tr>\n",
              "    <tr>\n",
              "      <th>9</th>\n",
              "      <td>1</td>\n",
              "      <td>1</td>\n",
              "      <td>2</td>\n",
              "      <td>1</td>\n",
              "      <td>0</td>\n",
              "      <td>1</td>\n",
              "    </tr>\n",
              "    <tr>\n",
              "      <th>10</th>\n",
              "      <td>2</td>\n",
              "      <td>2</td>\n",
              "      <td>2</td>\n",
              "      <td>1</td>\n",
              "      <td>1</td>\n",
              "      <td>1</td>\n",
              "    </tr>\n",
              "    <tr>\n",
              "      <th>11</th>\n",
              "      <td>3</td>\n",
              "      <td>0</td>\n",
              "      <td>2</td>\n",
              "      <td>0</td>\n",
              "      <td>1</td>\n",
              "      <td>1</td>\n",
              "    </tr>\n",
              "    <tr>\n",
              "      <th>12</th>\n",
              "      <td>4</td>\n",
              "      <td>0</td>\n",
              "      <td>1</td>\n",
              "      <td>1</td>\n",
              "      <td>0</td>\n",
              "      <td>1</td>\n",
              "    </tr>\n",
              "    <tr>\n",
              "      <th>13</th>\n",
              "      <td>5</td>\n",
              "      <td>1</td>\n",
              "      <td>2</td>\n",
              "      <td>0</td>\n",
              "      <td>1</td>\n",
              "      <td>0</td>\n",
              "    </tr>\n",
              "  </tbody>\n",
              "</table>\n",
              "</div>"
            ],
            "text/plain": [
              "    Day  Outlook  Temperature  Humidity  Windy  PlayTennis\n",
              "0     0        2            1         0      0           0\n",
              "1     6        2            1         0      1           0\n",
              "2     7        0            1         0      0           1\n",
              "3     8        1            2         0      0           1\n",
              "4     9        1            0         1      0           1\n",
              "5    10        1            0         1      1           0\n",
              "6    11        0            0         1      1           1\n",
              "7    12        2            2         0      0           0\n",
              "8    13        2            0         1      0           1\n",
              "9     1        1            2         1      0           1\n",
              "10    2        2            2         1      1           1\n",
              "11    3        0            2         0      1           1\n",
              "12    4        0            1         1      0           1\n",
              "13    5        1            2         0      1           0"
            ]
          },
          "metadata": {},
          "execution_count": 10
        }
      ]
    },
    {
      "cell_type": "code",
      "metadata": {
        "id": "6RW9dmSKvm6y"
      },
      "source": [
        "# แบ่งข้อมูลออกเป็น feature กับ target (ในตันฉบับใช้ attribute set กับ label)\n",
        "feature_cols = ['Outlook','Temperature','Humidity','Windy']\n",
        "X = df[feature_cols ]              # เก็บ feature ใน X\n",
        "y = df.PlayTennis                  # เก็บ target ใน y"
      ],
      "execution_count": null,
      "outputs": []
    },
    {
      "cell_type": "code",
      "metadata": {
        "id": "FOxMaKQvv7Db"
      },
      "source": [
        "#ในการทำ machine learning ทั่วไป มักจะทำการแบ่งข้อมูลออกเป็น 2 ชุด นั่นคือ ข้อมูลเพื่อสอนโมเดล (training data) กับ ข้อมูลเพื่อทดสอบโมเดล (testing data)\n",
        "#ต่อไปนี้คือคำสั่งแบ่งข้อมูลโดยใช้ train_test_split ของ sklearn\n",
        "from sklearn.model_selection import train_test_split\n",
        "X_train, X_test, y_train, y_test = train_test_split(X, y, test_size=0.30)"
      ],
      "execution_count": null,
      "outputs": []
    },
    {
      "cell_type": "markdown",
      "metadata": {
        "id": "ZE885Vd36Z0B"
      },
      "source": [
        "## Training and Making Predictions\n",
        "  - DecisionTreeClassifier : https://scikit-learn.org/stable/modules/generated/sklearn.tree.DecisionTreeClassifier.html"
      ]
    },
    {
      "cell_type": "code",
      "metadata": {
        "colab": {
          "base_uri": "https://localhost:8080/"
        },
        "id": "cWlR2yr16GDB",
        "outputId": "393c1040-1dbe-4f7b-8964-e8abbd295441"
      },
      "source": [
        "#ในขั้นตอนฝึกสอน (training) จะทำการ import ตัวโมเดลหรือตัวจำแนกข้อมูล (classifier) จาก sklearn เพื่อนำมาฝึกสอนกับ training data ที่เตรียมไว้\n",
        "from sklearn.tree import DecisionTreeClassifier                             # import the classifier\n",
        "classifier =DecisionTreeClassifier(criterion=\"entropy\", random_state=100)   # สร้าง object classifier\n",
        "classifier.fit(X_train, y_train)                                            # ทำการฝึกสอนโมเดล (fit)  "
      ],
      "execution_count": null,
      "outputs": [
        {
          "output_type": "execute_result",
          "data": {
            "text/plain": [
              "DecisionTreeClassifier(ccp_alpha=0.0, class_weight=None, criterion='entropy',\n",
              "                       max_depth=None, max_features=None, max_leaf_nodes=None,\n",
              "                       min_impurity_decrease=0.0, min_impurity_split=None,\n",
              "                       min_samples_leaf=1, min_samples_split=2,\n",
              "                       min_weight_fraction_leaf=0.0, presort='deprecated',\n",
              "                       random_state=100, splitter='best')"
            ]
          },
          "metadata": {},
          "execution_count": 13
        }
      ]
    },
    {
      "cell_type": "code",
      "metadata": {
        "id": "tCzap42n6GN5"
      },
      "source": [
        "y_pred= classifier.predict(X_test)                 #ทดสอบทำนายผลลัพธ์ด้วย testing data"
      ],
      "execution_count": null,
      "outputs": []
    },
    {
      "cell_type": "code",
      "metadata": {
        "colab": {
          "base_uri": "https://localhost:8080/"
        },
        "id": "n7m8aZRe6GVp",
        "outputId": "f12b8c75-e96a-4f46-e9aa-7040c92fbe48"
      },
      "source": [
        "#วัดค่าความแม่นยำของโมเดลโดยใช้ accuracy_score\n",
        "from sklearn.metrics import accuracy_score          \n",
        "#แสดงผลการเทียบระหว่างผลลัพธ์ที่ทำนาย กับผลลัทธ์จริง\n",
        "print(\"Accuracy:\",metrics.accuracy_score(y_test, y_pred))   \n",
        "#ผลลัพธ์ความแม่นยำเปลี่ยนแปลงได้ ขึ้นกับการแบ่ง training data กับ testing data"
      ],
      "execution_count": null,
      "outputs": [
        {
          "output_type": "stream",
          "name": "stdout",
          "text": [
            "Accuracy: 0.8\n"
          ]
        }
      ]
    },
    {
      "cell_type": "code",
      "metadata": {
        "colab": {
          "base_uri": "https://localhost:8080/",
          "height": 205
        },
        "id": "LBqnwZgo6GdL",
        "outputId": "cc9fae7c-a7f1-4fa3-b6db-ea1823681f7b"
      },
      "source": [
        "data_p=pd.DataFrame({'Actual':y_test, 'Predicted':y_pred})  #โชว์ข้อมูลระหว่างผลลัพธ์ที่ทำนาย กับผลลัทธ์จริง\n",
        "data_p"
      ],
      "execution_count": null,
      "outputs": [
        {
          "output_type": "execute_result",
          "data": {
            "text/html": [
              "<div>\n",
              "<style scoped>\n",
              "    .dataframe tbody tr th:only-of-type {\n",
              "        vertical-align: middle;\n",
              "    }\n",
              "\n",
              "    .dataframe tbody tr th {\n",
              "        vertical-align: top;\n",
              "    }\n",
              "\n",
              "    .dataframe thead th {\n",
              "        text-align: right;\n",
              "    }\n",
              "</style>\n",
              "<table border=\"1\" class=\"dataframe\">\n",
              "  <thead>\n",
              "    <tr style=\"text-align: right;\">\n",
              "      <th></th>\n",
              "      <th>Actual</th>\n",
              "      <th>Predicted</th>\n",
              "    </tr>\n",
              "  </thead>\n",
              "  <tbody>\n",
              "    <tr>\n",
              "      <th>9</th>\n",
              "      <td>1</td>\n",
              "      <td>1</td>\n",
              "    </tr>\n",
              "    <tr>\n",
              "      <th>2</th>\n",
              "      <td>1</td>\n",
              "      <td>1</td>\n",
              "    </tr>\n",
              "    <tr>\n",
              "      <th>4</th>\n",
              "      <td>1</td>\n",
              "      <td>1</td>\n",
              "    </tr>\n",
              "    <tr>\n",
              "      <th>0</th>\n",
              "      <td>0</td>\n",
              "      <td>0</td>\n",
              "    </tr>\n",
              "    <tr>\n",
              "      <th>11</th>\n",
              "      <td>1</td>\n",
              "      <td>0</td>\n",
              "    </tr>\n",
              "  </tbody>\n",
              "</table>\n",
              "</div>"
            ],
            "text/plain": [
              "    Actual  Predicted\n",
              "9        1          1\n",
              "2        1          1\n",
              "4        1          1\n",
              "0        0          0\n",
              "11       1          0"
            ]
          },
          "metadata": {},
          "execution_count": 16
        }
      ]
    },
    {
      "cell_type": "markdown",
      "metadata": {
        "id": "u6HDNu2-6vRn"
      },
      "source": [
        "## Evaluating the Algorithm\n",
        "ในส่วนนี้จะการประเมินผลด้วย confusion_matrix และ classification_report\n",
        "โดย confusion_matrix จะบอกค่าที่ทำนายได้ VS ค่าที่เป็นจริงๆ\n",
        "```\n",
        "[[True Negative, False Positive]\n",
        " [False Negative, True Positive]]\n",
        "```\n",
        "ถ้าให้เปรียบเทียบง่ายๆก็แบบนี้ (จะได้เจออีกทีตอนเรียนสถิติ)\n",
        "\n",
        "![](https://i.redd.it/1rxo44rmhec41.png)\n",
        "\n",
        "ส่วน classification_report เป็นค่าที่ได้จากการคำนวณ 4 ค่าที่ได้กล่าวมาข้างบน\n",
        "หากสนใจในรายละเอียด อ่านต่อได้[ที่นี่](https://medium.com/@cheng3374/%E0%B8%A7%E0%B8%B1%E0%B8%94%E0%B8%9B%E0%B8%A3%E0%B8%B0%E0%B8%AA%E0%B8%B4%E0%B8%97%E0%B8%98%E0%B8%B4%E0%B8%A0%E0%B8%B2%E0%B8%9E-model-%E0%B8%88%E0%B8%B2%E0%B8%81-confusion-matrix-69d391bcd48)\n",
        "\n",
        "\n"
      ]
    },
    {
      "cell_type": "code",
      "metadata": {
        "colab": {
          "base_uri": "https://localhost:8080/"
        },
        "id": "pErXLM1d6Gha",
        "outputId": "fcd614ea-9f82-4563-9b22-9da1e80e0bd9"
      },
      "source": [
        "#การประเมินผลด้วย confusion_matrix และ classification_report\n",
        "from sklearn.metrics import classification_report, confusion_matrix\n",
        "print(confusion_matrix(y_test, y_pred))  \n",
        "print(classification_report(y_test, y_pred))"
      ],
      "execution_count": null,
      "outputs": [
        {
          "output_type": "stream",
          "name": "stdout",
          "text": [
            "[[1 0]\n",
            " [1 3]]\n",
            "              precision    recall  f1-score   support\n",
            "\n",
            "           0       0.50      1.00      0.67         1\n",
            "           1       1.00      0.75      0.86         4\n",
            "\n",
            "    accuracy                           0.80         5\n",
            "   macro avg       0.75      0.88      0.76         5\n",
            "weighted avg       0.90      0.80      0.82         5\n",
            "\n"
          ]
        }
      ]
    },
    {
      "cell_type": "markdown",
      "metadata": {
        "id": "XZ1THsDk7Het"
      },
      "source": [
        "## Visualizing Decision Trees\n",
        "ในส่วนนี้ จะทำการโชว์ข้อมูลออกมาเป็นกราฟต้นไม้\n",
        "โดยที่จะมีความแตกต่างกับ decision tree ที่เราสร้างเพราะ\n",
        "  - มีการแปลงข้อมูลเป็นตัวเลข แล้วใช้ช่วงในการแบ่งข้อมูลแทน\n",
        "  - ข้อมูลบางส่วนถูกแบ่งไปทำ testing data\n",
        " \n",
        "แต่สังเกตเห็นได้ว่า บริเวณ leaf (node ปลายสุด) จะมีค่า entropy เป็นศูนย์ ซึ่งก็เป็นการยืนยันว่าการสร้าง decision tree เป็นการแบ่งข้อมูลให้เป็นระเบียบ เพื่อให้ง่ายต่อการใช้ตัดสินใจนั่นเอง (รูปร่างต้นไม้เปลี่ยนแปลงได้ ขึ้นกับการแบ่ง training data กับ testing data)"
      ]
    },
    {
      "cell_type": "code",
      "metadata": {
        "colab": {
          "base_uri": "https://localhost:8080/",
          "height": 809
        },
        "id": "NEMHy4W37Gzs",
        "outputId": "246a02d6-9ff1-483a-c2c3-d4b65fa283d3"
      },
      "source": [
        "from sklearn.tree import export_graphviz\n",
        "from sklearn.externals.six import StringIO\n",
        "from IPython.display import Image\n",
        "import pydotplus\n",
        "dot_data = StringIO()\n",
        "export_graphviz(classifier, out_file=dot_data,\n",
        "filled=True, rounded=True,\n",
        "special_characters=True,feature_names =value,class_names=['0','1'])\n",
        "graph = pydotplus.graph_from_dot_data(dot_data.getvalue())\n",
        "graph.write_png('Play Tennis.png')\n",
        "Image(graph.create_png())"
      ],
      "execution_count": null,
      "outputs": [
        {
          "output_type": "stream",
          "name": "stderr",
          "text": [
            "/usr/local/lib/python3.7/dist-packages/sklearn/externals/six.py:31: FutureWarning: The module is deprecated in version 0.21 and will be removed in version 0.23 since we've dropped support for Python 2.7. Please rely on the official version of six (https://pypi.org/project/six/).\n",
            "  \"(https://pypi.org/project/six/).\", FutureWarning)\n"
          ]
        },
        {
          "output_type": "execute_result",
          "data": {
            "image/png": "[encoded data removed]",
            "text/plain": [
              "<IPython.core.display.Image object>"
            ]
          },
          "metadata": {},
          "execution_count": 18
        }
      ]
    },
    {
      "cell_type": "markdown",
      "metadata": {
        "id": "Z5XP2Z__G3EG"
      },
      "source": [
        "### แหล่งข้อมูลแนะนำ สำหรับคนต้องการเรียนรู้การสร้าง Decision tree\n",
        "  - GeeksForGeeks : https://www.geeksforgeeks.org/decision-tree-implementation-python/\n",
        "  - ช่อง prasertcbs : https://youtu.be/CrlmjqHXhqI\n",
        "  - ช่อง BorntoDev : https://youtu.be/0nDRcbd8jJA"
      ]
    }
  ]
}