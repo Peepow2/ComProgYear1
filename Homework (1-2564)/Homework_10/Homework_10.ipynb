{
  "nbformat": 4,
  "nbformat_minor": 0,
  "metadata": {
    "colab": {
      "name": "Homework 10.ipynb",
      "provenance": [],
      "collapsed_sections": [],
      "toc_visible": true
    },
    "kernelspec": {
      "name": "python3",
      "display_name": "Python 3"
    },
    "language_info": {
      "name": "python"
    }
  },
  "cells": [
    {
      "cell_type": "markdown",
      "metadata": {
        "id": "hAnRXkDlgrsM"
      },
      "source": [
        "# Homework 10: Super Powerful and Justify Blockchain (40 คะแนน)\n",
        "\n",
        "&emsp;การบ้านในครั้งนี้จะเป็นการเขียนโปรแกรมที่มีการใช้ Nested list และ Nested loop มาประยุกต์ใช้ในการสร้าง Cryptocurrency Blockchain เล็กๆ\n",
        "\n",
        "&emsp;บล็อกเชน ถ้าแปลแบบตรงๆ บล็อก (Block) คือ การเก็บข้อมูลแบบนึงที่เก็บเป็นส่วนๆ และนำมาร้อยต่อกันเรื่อยๆ เหมือนโซ่คล้องกัน (Chain) โดยมีวิธีเข้ารหัสทางคอมพิวเตอร์เพื่อความปลอดภัย ที่ทำให้รู้ว่าข้อมูลถูกเก็บ ณ เวลาใด มีการแก้ไขหรือเปล่า โดยข้อมูลทั้งหมดจะส่งและกระจายเก็บไว้ในคอมพิวเตอร์ทุกเครื่องที่อยู่ในเครือข่าย\n",
        "\n",
        "&emsp;ดังนั้น ข้อมูลที่ถูกเขียนลงไปแล้ว จึงมีความน่าเชือถือเพราะทุกคนในเครือข่ายจะเห็นการเปลี่ยนแปลงพร้อมๆ กัน ถ้าใครอยากจะแก้ไขก็มีทางเดียวคือต้องไปแก้ในเครื่องของทุกคนที่อยู่ในเครือข่ายนั้นๆ เท่านั้น ซึ่งเป็นไปได้ยากมากเมื่อเครือข่ายนั้นๆ ใหญ่พอ\n",
        "\n",
        "&emsp;ดังนั้น เมื่อเรานำเอาบล็อกเชนมาใช้ในเงินดิจิทัล โดยเก็บข้อมูลจำนวนเงินที่ทุกคนมี จำนวนการโอนทุกครั้งของทุกๆ คน เข้าไปในบล็อกแต่ละบล็อกต่อกันไปเรื่อยๆ และกระจายไปให้ทุกคนรับรู้ ก็ทำให้เงินดิจิทัลนั้นมีความโปร่งใส ปลอดภัยจากการแก้ไขโดยคนใดคนหนึ่ง และที่สำคัญเมื่อเรากระจายไปให้ทุกคนแล้ว จึงลดความเสี่ยงว่าระบบจะล่มพร้อมกันทั้งหมดทำให้ข้อมูลที่ถูกเก็บไว้หายไปได้ด้วย\n",
        "\n",
        "> **Quote** คุณวรพจน์ ธาราศิริสกุล (CTO บริษัท เจเวนเจอร์ส จำกัด)"
      ]
    },
    {
      "cell_type": "markdown",
      "metadata": {
        "id": "Wu4ZKUhrjnId"
      },
      "source": [
        "## ข้อกำหนดการบ้าน\n",
        "- มีทั้งหมด 6 ข้อ (Question I, II, III, IV, V, VI)\n",
        "- ห้าม import library อื่นๆเข้ามาใช้ในการบ้านนี้\n",
        "- อนุญาตให้สร้างฟังก์ชันเพิ่มเติมได้ (ต้องเขียนลงใน code cell เดียวกันเท่านั้น)\n",
        "- ไม่อนุญาตให้แก้โค้ดส่วนอื่นของการบ้าน\n",
        "- วิธีการส่งการบ้าน\n",
        "  - ส่งเฉพาะฟังก์ชันที่ให้เขียนในโจทย์เท่านั้น + ฟังก์ชั่นที่เขียนใช้เอง\n",
        "  - ตั้งชื่อแฟ้มโปรแกรม python ที่จะส่ง ให้เป็น \n",
        "hw10_เลขประจำตัวนิสิต.py  เช่น hw10_6430000021.py\n",
        "  - ส่งแฟ้มใน attachment box ของ assignment hw10 ของ mycourseville\n",
        "\n",
        " \n"
      ]
    },
    {
      "cell_type": "markdown",
      "metadata": {
        "id": "rFszQtrdhmn1"
      },
      "source": [
        "## Prerequisite"
      ]
    },
    {
      "cell_type": "code",
      "metadata": {
        "id": "isqYk2nagmwc"
      },
      "source": [
        "# Import library\n",
        "\n",
        "import hashlib\n",
        "import copy"
      ],
      "execution_count": null,
      "outputs": []
    },
    {
      "cell_type": "markdown",
      "metadata": {
        "id": "XE3p_MV3_ZDD"
      },
      "source": [
        "---"
      ]
    },
    {
      "cell_type": "code",
      "metadata": {
        "id": "qo7rjcAxiH62"
      },
      "source": [
        "# Use this function to create a copy of nested list\n",
        "def copy_list(li):\n",
        "    return copy.deepcopy(li)"
      ],
      "execution_count": null,
      "outputs": []
    },
    {
      "cell_type": "markdown",
      "metadata": {
        "id": "hV5mQjqz68s5"
      },
      "source": [
        "> *เนื่องจากมีการใช้ nested list จำนวนมาก ทำให้การ copy list นั้นมักเกิดปัญหาการกลับไปแก้ไขตัวเก่าที่เรา copy list มา ทำให้จำเป็นต้องใช้ฟังก์ชั่นนี้ในการ copy nested list*\n",
        "\n",
        "<br>\n",
        "\n",
        "**วิธีการใช้**\n",
        "```python\n",
        "li = [[1, 2, 3], [4, 5, 6]]\n",
        "copy_li = copy_list(li)\n",
        "```\n",
        "\n",
        "---"
      ]
    },
    {
      "cell_type": "code",
      "metadata": {
        "id": "hEbia82EiNSc"
      },
      "source": [
        "# Hash SHA256\n",
        "def hash_sha256(word):\n",
        "  return hashlib.sha256(str(word).encode('utf-8')).hexdigest()"
      ],
      "execution_count": null,
      "outputs": []
    },
    {
      "cell_type": "markdown",
      "metadata": {
        "id": "kj7kzcPj8XOC"
      },
      "source": [
        "### Hashing - การเข้ารหัส Hash\n",
        "\n",
        "ในการทำงานของ Blockchain นั้นจะมีการเข้ารหัสเพื่อเป็นการยืนยันตัวตน + เพื่อไม่ให้มีใครมาแก้ไขข้อมูลที่ถูก verify แล้ว ในที่นี้จะใช้การเข้ารหัส SHA256 ซึ่งเป็นรหัสที่มีความปลอดภัยระดับหนึ่ง โดยรหัสที่เราจะใช้จะเข้ารหัสออกมาเป็นตัวอักษรผสมตัวเลข 64 ตัว\n",
        "\n",
        "ศึกษาเพิ่มเติม: https://www.movable-type.co.uk/scripts/sha256.html\n",
        "\n",
        "**วิธีการใช้**\n",
        "```python\n",
        "word = \"I want to hash this word\"\n",
        "\n",
        "hash = hash_sha256(word)\n",
        "\n",
        "print(\"hash:\", hash)\n",
        "```\n",
        "\n",
        "Output:\n",
        "```\n",
        "hash: 487b852792e58c7b0ce526546c45c5e3bc3134e6eb9e41b98fd5def469944a29\n",
        "```"
      ]
    },
    {
      "cell_type": "code",
      "metadata": {
        "colab": {
          "base_uri": "https://localhost:8080/"
        },
        "id": "Un5M-Mh8_r9L",
        "outputId": "66e6470f-7808-4b91-c7ef-b5b80a656d0b"
      },
      "source": [
        "word = \"I want to hash this word\"\n",
        "\n",
        "hash = hash_sha256(word)\n",
        "\n",
        "print(\"hash:\", hash)"
      ],
      "execution_count": null,
      "outputs": [
        {
          "output_type": "stream",
          "name": "stdout",
          "text": [
            "hash: 487b852792e58c7b0ce526546c45c5e3bc3134e6eb9e41b98fd5def469944a29\n"
          ]
        }
      ]
    },
    {
      "cell_type": "markdown",
      "metadata": {
        "id": "sURoIGVFANwD"
      },
      "source": [
        "---"
      ]
    },
    {
      "cell_type": "markdown",
      "metadata": {
        "id": "iR8i15FEhFHf"
      },
      "source": [
        "## Part I: Transaction and Transaction List\n",
        "\n",
        "<p>&emsp;ในส่วนแรกที่เราจะมาสร้างคือในส่วนของการส่ง token  จากบัญชีหนึ่งไปสู่อีกบัญชีหนึ่ง เราจะเรียกสิ่งนี้ว่า transaction</p>\n",
        "\n",
        "&emsp;โดยใน 1 transaction จะเก็บเป็น list รูปแบบดังต่อไปนี้\n",
        "\n",
        "```python\n",
        "transaction = [acc_name_from, acc_name_to, amount, timestamp, hash]\n",
        "```\n",
        "\n",
        "<table>\n",
        "  <tr>\n",
        "    <th>Variable (ชื่อตัวแปร)</th>\n",
        "    <th>Type (ชนิดของตัวแปร)</th>\n",
        "    <th>Description (คำอธิบาย)</th>\n",
        "  </tr>\n",
        "  <tr>\n",
        "    <td>acc_name_from</td>\n",
        "    <td>string</td>\n",
        "    <td>รหัสบัญชีของผู้ส่ง</td>\n",
        "  </tr>\n",
        "  <tr>\n",
        "    <td>acc_name_to</td>\n",
        "    <td>string</td>\n",
        "    <td>รหัสบัญชีของผู้รับ</td>\n",
        "  </tr>\n",
        "  <tr>\n",
        "    <td>amount</td>\n",
        "    <td>int</td>\n",
        "    <td>จำนวน token ที่ต้องการส่ง</td>\n",
        "  </tr>\n",
        "  <tr>\n",
        "    <td>timestamp</td>\n",
        "    <td>int</td>\n",
        "    <td>เวลาที่ส่ง</td>\n",
        "  </tr>\n",
        "  <tr>\n",
        "    <td>hash</td>\n",
        "    <td>string</td>\n",
        "    <td>รหัสของ transaction นี้ที่ได้จากการเข้ารหัส (hash) ข้อมูลทั้ง 4 variable</td>\n",
        "  </tr>\n",
        "</table>\n",
        "\n",
        "<font color='red'><b>หมายเหตุ</b> ค่า amount นั้นมากกว่า 0 เสมอ</font>\n"
      ]
    },
    {
      "cell_type": "markdown",
      "metadata": {
        "id": "x1nLSJRe2Va_"
      },
      "source": [
        "เพื่อความง่ายในการอ่าน transaction จะมีฟังก์ชันสำหรับ print transaction มาให้"
      ]
    },
    {
      "cell_type": "code",
      "metadata": {
        "id": "lxytT-Ef2rVV"
      },
      "source": [
        "def print_transaction(transaction):\n",
        "    print(\"acc_name_from:\\t\", transaction[0])\n",
        "    print(\"acc_name_to:\\t\", transaction[1])\n",
        "    print(\"amount:\\t\\t\", transaction[2])\n",
        "    print(\"timestamp:\\t\", transaction[3])\n",
        "    print(\"hash:\\t\\t\", transaction[4])"
      ],
      "execution_count": null,
      "outputs": []
    },
    {
      "cell_type": "markdown",
      "metadata": {
        "id": "sM8ZGjeaAjKL"
      },
      "source": [
        "**วิธีการใช้**\n",
        "\n",
        "```python\n",
        "transaction = [\"A\", \"B\", 100, 1200, \"Some Hashed\"]\n",
        "\n",
        "print_transaction(transaction)\n",
        "```\n",
        "\n",
        "Output:\n",
        "```\n",
        "account_from:     A\n",
        "account_to:       B\n",
        "amount:           100\n",
        "timestamp:        1200\n",
        "hashed:           Some Hashed\n",
        "```\n",
        "\n",
        "---"
      ]
    },
    {
      "cell_type": "markdown",
      "metadata": {
        "id": "zFF9panmJCRe"
      },
      "source": [
        "### การเข้ารหัส Transaction\n",
        "\n",
        "เราจะใช้วิธีการแปลงทุกข้อมูลให้เป็น string แล้วเอาต่อกัน หลังจากนั้นเอาไป `hash_sha256(word)`\n",
        "\n",
        "```python\n",
        "hash = hash_sha256(str(account_from) + str(account_to) + str(amount) + str(timestamp))\n",
        "```"
      ]
    },
    {
      "cell_type": "markdown",
      "metadata": {
        "id": "g_fb5ugH4AQX"
      },
      "source": [
        "**โดย Transaction มีทั้งหมด 2 ประเภท ดังนี้**"
      ]
    },
    {
      "cell_type": "markdown",
      "metadata": {
        "id": "nrwThtYsqMvC"
      },
      "source": [
        "### Transaction Type I: Normal Transaction\n",
        "\n",
        "เป็น transaction ปกติ เป็นการโอนเงินจากบัญชีหนึ่งไปอีกบัญชีหนึ่ง\n",
        "\n",
        "**วิธีการใช้**\n",
        "\n",
        "> A ส่ง token ให้ B 100 token\n",
        "\n",
        "```python\n",
        "create_transaction(\"A\", \"B\", 100, 1200)\n",
        "```"
      ]
    },
    {
      "cell_type": "code",
      "metadata": {
        "id": "B9eO84O8he6W"
      },
      "source": [
        "# Create Normal Transaction\n",
        "def create_transaction(acc_name_from, acc_name_to, amount, timestamp):\n",
        "    hash = hash_sha256(str(acc_name_from) + str(acc_name_to) + str(amount) + str(timestamp))\n",
        "    return [acc_name_from, acc_name_to, amount, timestamp, hash]"
      ],
      "execution_count": null,
      "outputs": []
    },
    {
      "cell_type": "code",
      "metadata": {
        "colab": {
          "base_uri": "https://localhost:8080/"
        },
        "id": "Onr7vyv74QGe",
        "outputId": "89f57353-2eaf-42e9-ff92-f75360febb0f"
      },
      "source": [
        "# Example Normal Transaction\n",
        "\n",
        "print_transaction(create_transaction(\"A\", \"B\", 100, 1200))"
      ],
      "execution_count": null,
      "outputs": [
        {
          "output_type": "stream",
          "name": "stdout",
          "text": [
            "acc_name_from:\t A\n",
            "acc_name_to:\t B\n",
            "amount:\t\t 100\n",
            "timestamp:\t 1200\n",
            "hash:\t\t 86aa3b57232e7f0c1e2a2f8c1a964a18ee613d0066e7a167e806efa9869bc53a\n"
          ]
        }
      ]
    },
    {
      "cell_type": "markdown",
      "metadata": {
        "id": "e6OAYcd0qeUg"
      },
      "source": [
        "### Transaction Type II: Free Money\n",
        "\n",
        "เป็น transaction ที่ admin จะทำการเพิ่มเงินให้บัญชีหนึ่งแบบฟรีๆ โดยบัญชีของ admin จะมีเงินไม่จำกัด โดยใช้รหัสบัญชีว่า\n",
        "\n",
        "```python\n",
        "# เป็นเลข 0 ทั้งหมด 64 ตัว\n",
        "admin_acc_name = \"0\"*64 \n",
        "```\n",
        "\n",
        "**วิธีการใช้**\n",
        "\n",
        "> ให้ token แก่ A 100 token\n",
        "\n",
        "```python\n",
        "free_money(\"A\", 100, 1200)\n",
        "```"
      ]
    },
    {
      "cell_type": "code",
      "metadata": {
        "id": "eC7OKwVCk8OX"
      },
      "source": [
        "# Create Add Money from Admin\n",
        "def free_money(acc_name, amount, timestamp):\n",
        "    return create_transaction(\"0\"*64, acc_name, amount, timestamp)"
      ],
      "execution_count": null,
      "outputs": []
    },
    {
      "cell_type": "code",
      "metadata": {
        "colab": {
          "base_uri": "https://localhost:8080/"
        },
        "id": "s8s_yZZr43AY",
        "outputId": "a0891100-2e8e-4a1b-b843-8067abdf4978"
      },
      "source": [
        "# Example Free Money\n",
        "\n",
        "print_transaction(free_money(\"A\", 100, 1200))"
      ],
      "execution_count": null,
      "outputs": [
        {
          "output_type": "stream",
          "name": "stdout",
          "text": [
            "acc_name_from:\t 0000000000000000000000000000000000000000000000000000000000000000\n",
            "acc_name_to:\t A\n",
            "amount:\t\t 100\n",
            "timestamp:\t 1200\n",
            "hash:\t\t 1d2823259930aab99c73578020d67032da384fcbc2e1c8081d570580ec2a48b2\n"
          ]
        }
      ]
    },
    {
      "cell_type": "markdown",
      "metadata": {
        "id": "FVEQ68uW6gsJ"
      },
      "source": [
        "### Question I: Sorting Transaction\n",
        "\n",
        "> ฟังก์ชั่นนี้จะเป็นการเรียงลำดับ transaction ตาม timestamp จากน้อยไปหามาก\n",
        "\n",
        "*   รับค่า transaction_list: เป็น list of transactions ที่ยังไม่ถูกเรียงลำดับตาม **timestamp**\n",
        "*   ส่งออก list of transactions ที่เรียงลำดับตาม **timestamp** เรียบร้อยแล้ว\n",
        "\n",
        "**ตัวอย่าง**\n",
        "\n",
        "```python\n",
        "# Transaction List\n",
        "\n",
        "A = create_transaction(\"A\", \"B\", 2000, 6)\n",
        "B = create_transaction(\"A\", \"B\", 1000, 8)\n",
        "C = create_transaction(\"C\", \"A\", 3000, 7)\n",
        "\n",
        "txn_list = [A, B, C]\n",
        "```\n",
        "\n",
        "> เรียงลำดับจะได้เป็น A -> C -> B\n",
        "\n",
        "<font color='red'><b>หมายเหตุ 1</b> ห้ามทำการแก้ข้อมูลนำเข้าเป็นอันขาด ถ้าตรวจแล้วพบว่ามีการแก้ไข หักคะแนนในข้อนี้ครึ่งนึง</font>\n",
        "\n",
        "<font color='red'><b>หมายเหตุ 2</b> การันตีว่าทุก transaction ใน transaction list จะไม่มี timestamp ที่ซำ้กัน</font>\n"
      ]
    },
    {
      "cell_type": "code",
      "metadata": {
        "id": "Px4s1DvqlAqW"
      },
      "source": [
        "# (1)\n",
        "# Sorting Transaction by timestamp\n",
        "def sorting_transaction(transaction_list):\n",
        "                \n",
        "    return []"
      ],
      "execution_count": null,
      "outputs": []
    },
    {
      "cell_type": "markdown",
      "metadata": {
        "id": "V-qPNngL6o_h"
      },
      "source": [
        "### Question II: Hash Transaction List\n",
        "\n",
        "> ฟังก์ชั่นนี้จะเป็นการ hash ทุก transaction ออกมาเป็น hash string เดียว เพื่อใช้ในการยืนยัน ให้นำ hash string ของแต่ละ transaction มาต่อกัน แล้วนำไปเข้า `hash_sha256(word)` โดยลำดับการเรียง hash string ของทุก transaction ก่อนเข้า `hash_sha256(word)` ให้เป็นไปตาม **timestamp**\n",
        "\n",
        "*   รับค่า transaction_list: เป็น list of transactions ที่ยังไม่ถูกเรียงลำดับตาม **timestamp**\n",
        "*   ส่งออก hash string ของ transaction_list\n",
        "\n",
        "**ตัวอย่าง**\n",
        "\n",
        "```python\n",
        "# Transaction List\n",
        "\n",
        "A = create_transaction(\"A\", \"B\", 2000, 6)\n",
        "B = create_transaction(\"A\", \"B\", 1000, 8)\n",
        "C = create_transaction(\"C\", \"A\", 3000, 7)\n",
        "\n",
        "txn_list = [A, B, C]\n",
        "```\n",
        "\n",
        "```python\n",
        "print(hash_transaction_list(txn_list))\n",
        "```\n",
        "\n",
        "Output\n",
        "\n",
        "```\n",
        "f09bd57ff45d9b89a7d8b1ec8f2b1d5f8ac2a861e82f968921adc6aee176b13d\n",
        "```\n",
        "\n",
        "\n",
        "<font color='red'><b>หมายเหตุ</b> ห้ามทำการแก้ข้อมูลนำเข้าเป็นอันขาด ถ้าตรวจแล้วพบว่ามีการแก้ไข หักคะแนนในข้อนี้ครึ่งนึง</font>"
      ]
    },
    {
      "cell_type": "code",
      "metadata": {
        "id": "0rFoqYNh0vMu"
      },
      "source": [
        "# (2)\n",
        "# Hash all transaction into one hash string\n",
        "def hash_transaction_list(transaction_list):\n",
        "    \n",
        "    return \"\""
      ],
      "execution_count": null,
      "outputs": []
    },
    {
      "cell_type": "markdown",
      "metadata": {
        "id": "2wQcUKBE6BsB"
      },
      "source": [
        "## Part II: Ledger\n",
        "\n",
        "> Ledger คือ ตารางที่บ่งบอกว่าแต่ละบัญชีนั้นมีเงินเท่าไหร่แล้ว โดยเราจะใช้ list of lists ในการเก็บในรูปแบบดังต่อไปนี้\n",
        "\n",
        "```python\n",
        "account1 = [acc_name1, acc_amount1]\n",
        "account2 - [acc_name2, acc_amount2]\n",
        "\n",
        "ledger = [\n",
        "  account1,\n",
        "  account2,\n",
        "  ...\n",
        "]\n",
        "```\n",
        "\n",
        "**ตัวอย่าง**\n",
        "\n",
        "LedgerA\n",
        "\n",
        "| Account | Amount |\n",
        "|---|---:|\n",
        "|A|2000|\n",
        "|B|3000|\n",
        "|C|4000|\n",
        "\n",
        "```python\n",
        "ledgerA = [\n",
        "  [\"A\", 2000],\n",
        "  [\"B\", 3000],\n",
        "  [\"C\", 4000],\n",
        "]\n",
        "```\n",
        "\n",
        "<font color='red'>ลำดับของข้อมูลใน ledger เป็นอย่างไรก็ได้ เช่น\n",
        "จะเป็น `[ ['A', 2000], ['B', 3000] ]` หรือ `[ ['ฺB', 3000], ['A', 2000] ]` ก็ได้</font>\n",
        "\n"
      ]
    },
    {
      "cell_type": "markdown",
      "metadata": {
        "id": "IA78rZcB6xwj"
      },
      "source": [
        "### Question III: Update Ledger\n",
        "\n",
        "> ฟังก์ชั่นนี้จะเป็นการปรับข้อมูลใน ledger ตาม transaction list ที่เข้ามาโดยการปรับเงินใน ledger จะทำเรียง transaction ตาม **timestamp** จากน้อยไปหามาก\n",
        "\n",
        "* รับเข้า ledger เป็น list of lists ตาม format ที่อธิบายข้างต้น\n",
        "* รับเข้า รับค่า transaction_list: เป็น list of transaction ที่ยังไม่ถูกเรียงลำดับตาม **timestamp**\n",
        "* ส่งออก เป็น [new_ledger, status]\n",
        " * หากทุก transaction สามารถถูกหักได้จาก ledger ตามเวลาใน timestamp ให้ส่ง new_leger มาเป็น ledger ใหม่ที่หลังทำทุก transaction ใน transaction list แล้ว และ status เป็น [True, []]\n",
        " * หากมี transaction ไหนเช็คแล้ว fail เรียงตามเวลาใน timestamp ให้ส่ง new_ledger มาเป็น ledger เดิมที่รับเข้ามา และ status เป็น [False, txn] โดยที่ txn เป็น transaction แรกใน list ที่ทำให้ fail (เรียงลำดับตาม timestamp)\n",
        "\n",
        "> หากเราทำ transaction ใดแล้วไม่สามารถตัดเงินจาก ledger ได้ transaction นั้นจะ **Fail** ทันที\n",
        "\n",
        "> คงมีคำถามว่า \"ไม่สามารถตัดเงิน\" คืออะไร \n",
        "\n",
        "- acc_name_from มีเงินไม่พอให้โอน\n",
        "- acc_name_from ไม่มีใน ledger (ยกเว้น admin '0'*64)\n",
        "\n",
        "> แต่ก็มีบางกรณีเช่นกันที่ถือว่า \"ตัดเงินได้\"\n",
        "\n",
        "- acc_name_to ไม่อยู่ใน ledger ก็ให้เพิ่ม acc_name_to นั้นไปได้เลยตาม amount ที่เพิ่มมาจาก transaction เช่น\n",
        "\n",
        "**ตัวอย่าง 1**\n",
        "\n",
        "```python\n",
        "# Ledger เริ่มต้น\n",
        "\n",
        "ledgerA = [\n",
        "  [\"A\", 2000],\n",
        "  [\"B\", 3000],\n",
        "  [\"C\", 4000],\n",
        "]\n",
        "```\n",
        "\n",
        "```python\n",
        "# Transaction List\n",
        "\n",
        "A = create_transaction(\"A\", \"B\", 2000, 6)\n",
        "B = create_transaction(\"A\", \"B\", 1000, 8)\n",
        "C = create_transaction(\"C\", \"A\", 3000, 7)\n",
        "D = free_money(\"D\", 2000, 10)\n",
        "E = create_transaction(\"D\", \"B\", 1000, 11)\n",
        "F = free_money(\"A\", 2000, 5)\n",
        "\n",
        "txn_list = [A, B, C, D, E, F]\n",
        "```\n",
        "\n",
        "```python\n",
        "# ค่าที่ส่งออกจาก update_ledger\n",
        "\n",
        "[[\n",
        "  [\"A\", 4000],\n",
        "  [\"B\", 7000],\n",
        "  [\"C\", 1000],\n",
        "  [\"D\", 1000]\n",
        "],\n",
        "[True, []],\n",
        "]\n",
        "\n",
        "```\n",
        "\n",
        "**ตัวอย่าง 2**\n",
        "\n",
        "```python\n",
        "# Ledger เริ่มต้น\n",
        "\n",
        "ledgerA = [\n",
        "  [\"A\", 2000],\n",
        "  [\"B\", 3000],\n",
        "  [\"C\", 4000],\n",
        "]\n",
        "```\n",
        "\n",
        "```python\n",
        "# Transaction List\n",
        "\n",
        "A = free_money(\"D\", 4000, 10)\n",
        "B = create_transaction(\"A\", \"B\", 1000, 8)\n",
        "C = create_transaction(\"C\", \"A\", 3000, 7)\n",
        "D = create_transaction(\"D\", \"A\", 3000, 9)\n",
        "\n",
        "txn_list = [A, B, C, D]\n",
        "```\n",
        "\n",
        "```python\n",
        "# ค่าที่ส่งออกจาก update_ledger\n",
        "\n",
        "[[\n",
        "  [\"A\", 2000],\n",
        "  [\"B\", 3000],\n",
        "  [\"C\", 4000]\n",
        "],\n",
        "[False, \n",
        "  ['D',\n",
        " 'A',\n",
        " 3000,\n",
        " 9,\n",
        " '30b08c3a1e7bc6421acfded2cc87f5da86a7b5eecce182f3c7d163e00b89b9a0'\n",
        " ]\n",
        "],\n",
        "]\n",
        "\n",
        "```\n",
        "\n",
        "**ตัวอย่าง 3**\n",
        "\n",
        "```python\n",
        "# Ledger เริ่มต้น\n",
        "\n",
        "ledgerA = [\n",
        "  [\"D\", 2000]\n",
        "]\n",
        "```\n",
        "\n",
        "```python\n",
        "# Transaction List\n",
        "\n",
        "E = create_transaction(\"D\", \"A\", 1000, 11)\n",
        "\n",
        "txn_list = [E]\n",
        "```\n",
        "\n",
        "```python\n",
        "# ค่าที่ส่งออกจาก update_ledger\n",
        "\n",
        "[[\n",
        "  [\"D\", 1000],\n",
        "  [\"A\", 1000]\n",
        "],\n",
        "[True, []]\n",
        "]\n",
        "\n",
        "```\n",
        "\n",
        "<font color='red'><b>หมายเหตุ 1</b> ห้ามทำการแก้ข้อมูลนำเข้าเป็นอันขาด ถ้าตรวจแล้วพบว่ามีการแก้ไข หักคะแนนในข้อนี้ครึ่งนึง</font>\n",
        "\n",
        "<font color='red'><b>หมายเหตุ 2</b> การันตีว่าทุก transaction ใน transaction list จะไม่มี timestamp ที่ซำ้กัน</font>"
      ]
    },
    {
      "cell_type": "code",
      "metadata": {
        "id": "ybYw5MXM0xr3"
      },
      "source": [
        "# (3)\n",
        "# Update the ledger from transaction_list\n",
        "def update_ledger(ledger, transaction_list):\n",
        "    '''\n",
        "    If all transaction are good with this ledger status = [True, []]\n",
        "    If not status = [False, transaction that fail]\n",
        "    Transaction fail to update ledger when they can't money from one pocket to another\n",
        "    '''\n",
        "    \n",
        "    return [[], [True, []]]"
      ],
      "execution_count": null,
      "outputs": []
    },
    {
      "cell_type": "markdown",
      "metadata": {
        "id": "L0wmPoKFhM11"
      },
      "source": [
        "## Part III: Block and Blockchain\n",
        "\n",
        "&emsp;หลังจากเราเขียนระบบ transaction + ledger เรียบร้อย เราก็พร้อมในการสร้าง ฺblock ที่จะมาทำเป็น chain ได้แล้ว โดยใน block ที่เราจะสร้างนั้นจะเก็บเป็น list ดังต่อไปนี้\n",
        "\n",
        "```python\n",
        "block = [transaction_list, nonce, prev_hash, hash]\n",
        "```\n",
        "\n",
        "<table>\n",
        "  <tr>\n",
        "    <th>Variable (ชื่อตัวแปร)</th>\n",
        "    <th>Type (ชนิดของตัวแปร)</th>\n",
        "    <th>Description (คำอธิบาย)</th>\n",
        "  </tr>\n",
        "  <tr>\n",
        "    <td>transaction_list</td>\n",
        "    <td>list of Transaction</td>\n",
        "    <td>list of transactions ทั้งหมดใน block นี้</td>\n",
        "  </tr>\n",
        "  <tr>\n",
        "    <td>nonce</td>\n",
        "    <td>int</td>\n",
        "    <td>ตัวเลขวิเศษที่ช่วยในการ Hash</td>\n",
        "  </tr>\n",
        "  <tr>\n",
        "    <td>prev_hash</td>\n",
        "    <td>string</td>\n",
        "    <td>รหัสของ Block นี้ที่ได้จากการเข้ารหัส (Hash) ของ block ก่อนหน้า</td>\n",
        "  </tr>\n",
        "  <tr>\n",
        "    <td>hash</td>\n",
        "    <td>string</td>\n",
        "    <td>รหัสของ Block นี้ที่ได้จากการเข้ารหัส (Hash) ข้อมูลทั้ง 3 variable</td>\n",
        "  </tr>\n",
        "</table>\n"
      ]
    },
    {
      "cell_type": "markdown",
      "metadata": {
        "id": "N2ONFRGErMwe"
      },
      "source": [
        "&emsp;หากเราจะมาดูการเข้ารหัสของ block นั้นก็ไม่ได้ต่างจาก transaction นัก ก็คือนำทุก variable มาต่อกันแล้วคั่นด้วย `\", \"` แต่ transaction_list นั้นจำเป็นต้องเอาไป hash ด้วยฟังก์ชั่นก่อนหน้าก่อน ค่อยนำ hashed string hash ต่อในนี้\n",
        "\n",
        "```python\n",
        "txs_hash = hash_transaction_list(transaction_list)\n",
        "hashed = hash_sha256(str(txs_hash) + ', ' + str(prev_hash) + ', ' + str(nonce))\n",
        "```"
      ]
    },
    {
      "cell_type": "markdown",
      "metadata": {
        "id": "CRMmuG7w3WsU"
      },
      "source": [
        "### First block of the chain (block แรกสุดบน chain)\n",
        "\n",
        "<font color='red'>block แรกสุดบน chain จะมีค่า prev_hash เป็น 0 ทั้งหมด 64 ตัว</font>\n",
        "\n",
        "```python\n",
        "#ในรูปขอแสดงค่า hash แค่ 8 หลักแรก\n",
        "prev_hash = \"0\"*64\n",
        "```\n",
        "\n",
        "![JARB_3 (3).png](data:image/png;base64,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)"
      ]
    },
    {
      "cell_type": "markdown",
      "metadata": {
        "id": "M-atUMGrtvux"
      },
      "source": [
        "### Create a block\n",
        "\n",
        "> ฟังก์ชั่นนี้จะเป็นการสร้าง block ใหม่ขึ้นมา\n",
        "\n",
        "**วิธีการใช้**\n",
        "```python\n",
        "prev_hash = \"0000_OF_SOME_BLOCK\"\n",
        "\n",
        "block = create_block(transaction_list, prev_hash)\n",
        "```\n",
        "\n",
        "<font color='red'><b>หมายเหตุ 1</b> เป็นเพียงการทดลองสร้าง block เพื่อให้น้องสามารถสร้างข้อมูลตัวอย่างด้วยตนเองได้ ไม่เกี่ยวกับโจทย์ที่จะให้ทำ</font>\n",
        "\n",
        "<font color='red'><b>หมายเหตุ 2</b> กระบวนการสร้าง block นั้นเกินกว่า scope เนื้อหาของเรา จึงไม่ขออธิบายในโจทย์นี้</font>"
      ]
    },
    {
      "cell_type": "code",
      "metadata": {
        "id": "4tSnAb2c1HF2"
      },
      "source": [
        "# Create a new block\n",
        "def create_block(transaction_list, prev_hash):\n",
        "    level = 4 # the bigger number the harder to create\n",
        "    nonce = 0\n",
        "    while True:\n",
        "        hash = hash_sha256(str(hash_transaction_list(transaction_list)) + ', ' + str(prev_hash) + ', ' + str(nonce))\n",
        "        if hash[0:level] == '0'*level:\n",
        "            break\n",
        "        nonce = nonce + 1\n",
        "    return [transaction_list, nonce, prev_hash, hash]"
      ],
      "execution_count": null,
      "outputs": []
    },
    {
      "cell_type": "markdown",
      "metadata": {
        "id": "__qjQ1gUuzQY"
      },
      "source": [
        "### Question IV: Sorting Block\n",
        "\n",
        "> ฟังก์ชั่นนี้จะเป็นการเรียงลำดับ block โดยอิงจากการค่า prev_hash ของ block\n",
        "\n",
        "* รับเข้า block_list เป็น list of blocks ที่ยังไม่ได้ถูกเรียงลำดับ\n",
        "* ส่งออก list of blocks ที่เรียงลำดับแล้ว\n",
        "\n",
        "**ตัวอย่าง**\n",
        "\n",
        "ข้อมูลที่เข้ามา\n",
        "```python\n",
        "# กำหนดให้ txsA, txsB, txsC, txsD, txsE เป็น Transaction list ของแต่ละ Block\n",
        "# ขอแสดงค่า hash แค่ 8 หลักแรก\n",
        "b1 = [txsA, 10382, '0000deb5', '000028b1'] \n",
        "b2 = [txsB, 34392, '000028b1', '000067b2']\n",
        "b3 = [txsC, 92841, '0000a0ef', '000011b3']\n",
        "b4 = [txsD, 75027, '000067b2', '0000a0b4']\n",
        "b5 = [txsE, 8727,  '000011b3', '0000deb5']\n",
        "\n",
        "block_list = [b1, b2, b3, b4, b5]\n",
        "```\n",
        "\n",
        "> ผลการเรียงคือ b3->b5->b1->b2->b4\n",
        "\n",
        "![JARB_3 (2).png](data:image/png;base64,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)\n",
        "\n",
        "<font color='red'><b>หมายเหตุ 1</b> ไม่จำเป็นว่าใน block_list ที่เข้ามาจะมี block แรกของ chain</font>\n",
        "\n",
        "<font color='red'><b>หมายเหตุ 2</b> ห้ามทำการแก้ข้อมูลนำเข้าเป็นอันขาด ถ้าตรวจแล้วพบว่ามีการแก้ไข หักคะแนนในข้อนี้ครึ่งนึง</font>"
      ]
    },
    {
      "cell_type": "code",
      "metadata": {
        "id": "jVGVqRa61I6J"
      },
      "source": [
        "# (4)\n",
        "# Sorting block in to chain\n",
        "def sorting_block(block_list):\n",
        "    \n",
        "    return []"
      ],
      "execution_count": null,
      "outputs": []
    },
    {
      "cell_type": "markdown",
      "metadata": {
        "id": "O_w7tgBZ0bXj"
      },
      "source": [
        "## Part IV: Valid Blockchain\n",
        "\n",
        "&emsp;การที่เราจะสามารถเช็คได้ว่า Blockchain นี้ถูกต้องหรือไม่ ก็ตรงไปตรงมาก็คือต้องเช็คว่า chain นี้เมื่อทำการเช็ค ledger ของแต่ละ block แล้วนั้นสามารถสร้าง ledger สุดท้ายได้ นั้นก็คือ transaction ทุกอันนั้น valid จาก ledger จาก block ก่อนหน้า \n",
        "\n",
        "> ก่อนทำ block แรกบน chain นั้น `ledger = []`\n",
        "\n",
        "**ตัวอย่าง (ใช้เป็นตัวอย่างในข้อ V และ VI ด้วย)**\n",
        "\n",
        "ฺ**Block#1:** Transaction list\n",
        "\n",
        "| From | To | Amount | Timestamp |\n",
        "|---|---|---|---:|\n",
        "|0000000000000000000000000000000000000000000000000000000000000000|A|100|0|\n",
        "|0000000000000000000000000000000000000000000000000000000000000000|B|200|1|\n",
        "|0000000000000000000000000000000000000000000000000000000000000000|C|300|2\n",
        "\n",
        "<font color='red'><b>หมายเหตุ</b> เป็น transaction แบบ free_money</font>\n",
        "\n",
        "Ledger after **Block#1**\n",
        "\n",
        "| Account | Amount |\n",
        "|---|---:|\n",
        "|A|100|\n",
        "|B|200|\n",
        "|C|300|\n",
        "\n",
        "ฺ**Block#2:** Transaction list\n",
        "\n",
        "| From | To | Amount | Timestamp |\n",
        "|---|---|---|---:|\n",
        "|A|B|50|3|\n",
        "|A|C|50|4|\n",
        "|B|C|50|6|\n",
        "\n",
        "Ledger after **Block#2**\n",
        "\n",
        "| Account | Amount |\n",
        "|---|---:|\n",
        "|A|0|\n",
        "|B|200|\n",
        "|C|400|\n",
        "\n",
        "> Chain ที่มี 2 blocks นี้ valid เนื่องจากสามารถสร้าง ledger โดยมีทั้ง 2 ต่อกันได้\n",
        "\n",
        "**Block#3:** Transaction list\n",
        "\n",
        "| From | To | Amount | Timestamp |\n",
        "|---|---|---|---:|\n",
        "|A|B|100|7|\n",
        "|A|C|200|9|\n",
        "|B|C|400|10|\n",
        "\n",
        "> หลังจากเพิ่ม Block#3 เข้าไปใน chain ก็จะทำให้ invalid ทันที เนื่องจากไม่สามารถส่ง token จาก A ไป B ได้ จึงไม่ไม่สามารถสร้าง ledger จาก Block#3 ได้"
      ]
    },
    {
      "cell_type": "markdown",
      "metadata": {
        "id": "GUtFS6Ifu4pv"
      },
      "source": [
        "### Question V: Maximum Valid Block\n",
        "\n",
        "> ฟังก์ชั่นนี้จะเป็นการหาเลข block สุดท้ายที่ Blockchain ยังถูกต้องอยู่ โดยนับเลข block แรกเป็น 1\n",
        "\n",
        "* รับเข้า block_list เป็น list of blocks ที่ยังไม่ได้ถูกเรียงลำดับ\n",
        "* ส่งออก เลข block สุดท้ายที่ Blockchain ยังถูกต้อง (valid)\n",
        "\n",
        "**ข้อมูลจากตัวอย่าง**\n",
        "\n",
        "```python\n",
        "\"\"\"\n",
        "กำหนดให้ block_list เก็บ block ทั้ง 3 ฺblocks จากตัวอย่าง Part IV\n",
        "\"\"\"\n",
        "print(maximum_valid_block(block_list))\n",
        "\n",
        "```\n",
        "\n",
        "Output\n",
        "\n",
        "```\n",
        "2\n",
        "\n",
        "```\n",
        "\n",
        "**Hint: ใช้ update_ledger ให้เป็นประโยชน์**\n",
        "\n",
        "<font color='red'><b>หมายเหตุ 1</b> การันตีว่าใน block_list มี block แรกของ Chain แน่นอน</font>\n",
        "\n",
        "<font color='red'><b>หมายเหตุ 2</b> ถ้าผิดตั้งแต่ block แรก `return 0`</font>\n",
        "\n",
        "<font color='red'><b>หมายเหตุ 3</b> ห้ามทำการแก้ข้อมูลนำเข้าเป็นอันขาด ถ้าตรวจแล้วพบว่ามีการแก้ไข หักคะแนนในข้อนี้ครึ่งนึง</font>"
      ]
    },
    {
      "cell_type": "code",
      "metadata": {
        "id": "M_-M8-UE1ONh"
      },
      "source": [
        "# (5)\n",
        "# Check the chain that transaction is valid to what number block\n",
        "def maximum_valid_block(block_list):\n",
        "\n",
        "    return 0"
      ],
      "execution_count": null,
      "outputs": []
    },
    {
      "cell_type": "markdown",
      "metadata": {
        "id": "OZeVkJwCu9W2"
      },
      "source": [
        "### Question VI: Block Ledger\n",
        "\n",
        "> ฟังก์ชั่นนี้จะเป็นการหา ledger ของ block ตามเลขที่เราต้องการ\n",
        "\n",
        "* รับเข้า block_list เป็น list of blocks ที่ยังไม่ได้ถูกเรียงลำดับ\n",
        "* รับเข้า block_no เป็น เลข block ที่ต้องการหลังจากเรียงลำดับแล้ว\n",
        "* ส่งออก `[ledger, valid_block_no]`\n",
        " * หาก chain นั้น valid มากกว่าหรือเท่ากับ ฺblock หมายเลข `block_no` ให้คืน ledger ที่ทำมาตั้งแต่ block แรกถึง `block_no` และ `valid_block_no = block_no`\n",
        " * หาก chain นั้น valid น้อยกว่า ฺblock หมายเลข `block_no` ให้คืน ledger ของการทำงานตั้งแต่ block แรกจนถึง block สุดท้ายที่ยัง valid อยู่ แล้วส่งเลข block สุดท้ายที่ valid มาใน `valid_block_no`\n",
        "\n",
        "**ข้อมูลจากตัวอย่าง**\n",
        "```python\n",
        "\"\"\"\n",
        "กำหนดให้ block_list เก็บ block ทั้ง 3 ฺblocks จากตัวอย่าง Part IV\n",
        "\"\"\"\n",
        "print(block_ledger(block_list, 0))\n",
        "print(block_ledger(block_list, 1))\n",
        "print(block_ledger(block_list, 2))\n",
        "print(block_ledger(block_list, 3))\n",
        "\n",
        "```\n",
        "\n",
        "Output\n",
        "\n",
        "```\n",
        "[[], 0]\n",
        "[[[\"A\",100],[\"B\",200],[\"C\",300]], 1]\n",
        "[[[\"A\",0],[\"B\",200],[\"C\",400]], 2]\n",
        "[[[\"A\",0],[\"B\",200],[\"C\",400]], 2]\n",
        "\n",
        "```\n",
        "\n",
        "**Hint: ใช้ update_ledger ให้เป็นประโยชน์**\n",
        "\n",
        "<font color='red'><b>หมายเหตุ 1</b> การันตีว่าใน block_list มี block แรกของ chain แน่นอน</font>\n",
        "\n",
        "<font color='red'><b>หมายเหตุ 2</b> ถ้าผิดตั้งแต่ block แรก `return [[], 0]`</font>\n",
        "\n",
        "<font color='red'><b>หมายเหตุ 3</b> ห้ามทำการแก้ข้อมูลนำเข้าเป็นอันขาด ถ้าตรวจแล้วพบว่ามีการแก้ไข หักคะแนนในข้อนี้ครึ่งนึง</font>"
      ]
    },
    {
      "cell_type": "code",
      "metadata": {
        "id": "bNhSIjnj1Ti6"
      },
      "source": [
        "# (6)\n",
        "# check ledger in the block no. if before block no the block is not valid return the ledger to block that valid\n",
        "def block_ledger(block_list, block_no):\n",
        "    \n",
        "    return [[], 0]"
      ],
      "execution_count": null,
      "outputs": []
    },
    {
      "cell_type": "code",
      "metadata": {
        "id": "cEvj5f1Q1k1Q"
      },
      "source": [
        ""
      ],
      "execution_count": null,
      "outputs": []
    }
  ]
}