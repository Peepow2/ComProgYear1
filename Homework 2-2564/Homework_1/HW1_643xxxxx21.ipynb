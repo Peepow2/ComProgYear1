{
  "nbformat": 4,
  "nbformat_minor": 0,
  "metadata": {
    "colab": {
      "name": "HW1_643xxxxx21.ipynb",
      "provenance": [],
      "collapsed_sections": []
    },
    "kernelspec": {
      "name": "python3",
      "display_name": "Python 3"
    },
    "language_info": {
      "name": "python"
    }
  },
  "cells": [
    {
      "cell_type": "markdown",
      "source": [
        "# คำสั่ง\n",
        "\n",
        "**วิดีโออธิบายการบ้านอยู่ที่ https://youtu.be/lcTuxcO5zhQ** \n",
        "\n",
        "ให้นิสิตพิมพ์ข้อความออกทางจอภาพด้วยตัวอักษรภาษาอังกฤษ (ตัวพิมพ์เล็ก ตัวพิมพ์ใหญ่) ตัวเลข เครื่องหมายวรรคตอน (เครื่องหมายวรรคตอนทุกเครื่องหมาย ยกเว้นตัวอักษร Tab (\\t) ช่องว่าง และขึ้นบรรทัดใหม่ (\\n)) ตามเงื่อนไขที่ทุกคนจะได้รับเมื่อทำตามคำสั่งตามลำดับต่อไปนี้\n",
        "\n",
        "1. กรอกรหัสนิสิตด้านล่าง ในช่อง student_id\n",
        "2. กดปุ่ม Execute เซลล์\n",
        "3. นิสิตจะเห็นเงื่อนไขสามบรรทัดที่นิสิตต้องทำตาม"
      ],
      "metadata": {
        "id": "7qyuj-QaTndK"
      }
    },
    {
      "cell_type": "code",
      "source": [
        "import random \n",
        "\n",
        "student_id = 6430000021#@param {type:\"integer\"}\n",
        "\n",
        "random.seed(student_id)\n",
        "w=random.randint(40,60)\n",
        "print('จำนวนตัวอักษรในแต่ละบรรทัด {} ตัว'.format(w))\n",
        "print('จำนวนบรรทัด {} บรรทัด'.format(int(w/(random.random()*0.7+1.3))))\n",
        "print('ใช้ตัวอักษรที่แตกต่างกัน {} ตัว'.format(random.randint(10,20)))\n"
      ],
      "metadata": {
        "cellView": "form",
        "id": "klQggH4FfTxD",
        "colab": {
          "base_uri": "https://localhost:8080/"
        },
        "outputId": "bbfd66b7-6e97-4ac7-a5a9-ba7552985ac0"
      },
      "execution_count": null,
      "outputs": [
        {
          "output_type": "stream",
          "name": "stdout",
          "text": [
            "จำนวนตัวอักษรในแต่ละบรรทัด 49 ตัว\n",
            "จำนวนบรรทัด 31 บรรทัด\n",
            "ใช้ตัวอักษรที่แตกต่างกัน 14 ตัว\n"
          ]
        }
      ]
    },
    {
      "cell_type": "markdown",
      "source": [
        "# สิ่งที่นิสิตต้องทำ\n",
        "\n",
        "1. เลือก Menu File->Save a copy in Drive \n",
        "2. ตั้งชื่อ Notebook เป็น HW1_xxxxxxxxxx.ipynb (แทน xxxxxxxxxx ด้วยรหัสนิสิต)\n",
        "3. เขียนโปรแกรมในเซลล์ด้านล่าง \n",
        "4. ทดสอบด้วยการ Execute เซลล์ ด้านล่าง\n",
        "5. เลือก Menu File->Download->Download .ipynb \n",
        "6. นิสิตจะมีไฟล์ HW1_xxxxxxxxx.ipynb ในเครื่องตนเอง \n",
        "7. ส่งไฟล์ในข้อ 6 ใน MyCourseVille ก่อนวันที่ 19 มกราคม 2565 เวลา 23:59 น.\n"
      ],
      "metadata": {
        "id": "5W89i9dHh3Dd"
      }
    },
    {
      "cell_type": "code",
      "source": [
        "# เขียนโปรแกรมในเซลล์นี้เท่านั้น ห้ามแก้ไข/ลบบรรทัดนี้\n",
        "\n",
        "print(\"+-----------------------------------------------+\")\n",
        "print(\"|rYVLYgrL19XWL1WYNM99MNWXN9NgWMWgWW1WWNNggWMYgLW|\")\n",
        "print(\"|XgMYLr9VgYXX1MVgr1MNXXVMrMrgLY9gYLYXMWrrYgNV1rN|\")\n",
        "print(\"|NXL9r1LLY1LWLN9NXYWWr1Y91LN9LMM1XgNr1WX1L9LWLNV|\")\n",
        "print(\"|LL19MMXXW9XMN1WXMVggVMN1LgNL9gNMWW1NX99VWXrNLVX|\")\n",
        "print(\"|9rgLWYLXgrLLXYXXrVM9g1rWNrMV1XVNNWWg1NrgV1LrLLL|\")\n",
        "print(\"|9Y19grgrMXrLWXgrWYLVMLX91X1grgLYMXYrrWWVMNX9YVW|\")\n",
        "print(\"|9V9LXgN11NL11VNXYYrrXrMM19M999rW91WWrVML9gVNVYL|\")\n",
        "print(\"|VLW1L11rXNWMLXMXMMNYWMNXN1YYN9NL9WgNg11Y9XNLXYr|\")\n",
        "print(\"|YWXXrWLX9YL19NLrXWVYYMYrMLVLWLXWMgYgX1gXLXV9rWW|\")\n",
        "print(\"|gVg1rrgVYL9VXrr1VgWNY9MLrLL1YYY1r19W1LgXLggWXY1|\")\n",
        "print(\"|XYY9XXYrNMNrVN9YgVM99LVNYNYWr9XMYrW9LNr1V11W9WW|\")\n",
        "print(\"|rYXNYMWL91919LLL1rXWWYYVV1N9LWMg9VNLNXWLY11L19L|\")\n",
        "print(\"|NXN1rY1VYg1Y9rMW9VVNLr11rLVNgNNWNLMW9YrYXr99YLN|\")\n",
        "print(\"|LrXL9g1g1Y1LLNYVWW1YNrL1WX1MNMLVgL11X1XYr1V9WMr|\")\n",
        "print(\"|rXrrN1M1V19LVVX1VVNWN19Y9WLWLYL9WgY199rLMX91N9L|\")\n",
        "print(\"|M1M1gVVN1WLWYrYL111LWgVg11gYr1X9gYYVrV9rYNYLN9N|\")\n",
        "print(\"|XXrYg1VM9YrNgrrYXYYMVrLVMVgL9rLLYWrNX1rgL9XrLLr|\")\n",
        "print(\"|1NrVVVL1YV1r1VWNVWMNLXgrLMXVY1W1MY1YYWXYVXNX1NV|\")\n",
        "print(\"|MNWVLXY9NN199r991MgVrWXXM9gMgXV1LYgYXMW1LV9VgXY|\")\n",
        "print(\"|NMM1rVg1VV9WYYXNWXLXgYYNgM1XLMNWrWYLYMrrWW1Xg1r|\")\n",
        "print(\"|V9L9YNLWr9g1gMMNWYYMLYMVLgr9MMLWgNYNLN9NWLWLMgW|\")\n",
        "print(\"|YgMLXVV9VLYLgYrXrLYVNVrYY1VV9r9YrMXLWNLNM1rMWNV|\")\n",
        "print(\"|X19NYYWMNgg99LYLMMV9N1WN19MWYL9gMW9LM1YLXXgWVM9|\")\n",
        "print(\"|rgL1gNNW1gVYr9NWXgM91rNWNXL1M1VNNWW9rNWXWYMNVrW|\")\n",
        "print(\"|rVX9NNWgVNLL9XXg11MXMVrNNXrNMrVMrLL9VNL1W9Y1g9L|\")\n",
        "print(\"|XNWWr99XWYX9YXVYVN9V1rNV9grY19gYXL9YWXLL1VNWr91|\")\n",
        "print(\"|rVYgMrrXWLVL1M9MgWLXLgWXYMgNrV9gX1grgNXVNg1VVrN|\")\n",
        "print(\"|MWYgg1NVrWggWNMMYYXgMYY1MgL1NNXYVrrN9grLYVNXVNL|\")\n",
        "print(\"|WYYVLrNW1WL91Y9YVM1WYY1VrMX1MMXLY9MN9WMVN1199NL|\")\n",
        "print(\"+-----------------------------------------------+\")\n",
        "\n",
        "\n",
        "\n",
        "\n",
        "\n",
        "\n"
      ],
      "metadata": {
        "id": "7p0cBl6Yeuqu"
      },
      "execution_count": null,
      "outputs": []
    },
    {
      "cell_type": "markdown",
      "source": [
        "# ตัวอย่างผลลัพธ์ \n",
        "\n",
        "สมมติว่านิสิตได้รับคำสั่งเป็น \n",
        "\n",
        "จำนวนตัวอักษรในแต่ละบรรทัด 43 ตัว \\\\\n",
        "จำนวนบรรทัด 32 บรรทัด \\\\\n",
        "ใช้ตัวอักษรที่แตกต่างกัน 11 ตัว\n",
        "\n",
        "ผลลัพธ์ของนิสิตจากการเขียนโปรแกรมอาจเป็นดังนี้ \n",
        "\n",
        "```\n",
        "+-----------------------------------------+\n",
        "|l3jlv3jH3lv8\\\\H\\m8v338l8Hlj3H3jv8mvvHllvj|\n",
        "|jlH833lv\\Hl\\m\\l3m8\\H8\\H8j\\8jj33H38mHjllv\\|\n",
        "|8lmlm\\3lHlv838jmvvjv\\383mmHHvljj8j3mmHmlj|\n",
        "|H8l3vjv38jm3vmjj3mmm33mHH3j8lHjHlHv\\lvl3m|\n",
        "|mlHjj3mH\\Hvll\\3l8j\\3lHm388l3H\\v38jl3jj3jH|\n",
        "|Hjll3\\H38lvH3vjHmHjm833vHv83m\\\\lm333\\8jv3|\n",
        "|vjjvjj8H3H8jv3v\\3jHjH8j\\j\\\\lv\\jHH8l8Hvm33|\n",
        "|33v83llmjHmv38lmvm3m3Hmmv8v\\l3mHljv3mjjvj|\n",
        "|\\jjl3\\jljHl3lmlv83\\mllmmlmjmHvml3Hm3lvv\\3|\n",
        "|mv8v3j\\38v8\\H\\lHmj3mmm\\Hv\\j8\\H8jvjljH8mlm|\n",
        "|3\\\\\\j33ml8mvj\\3m8lHjv\\3vl8mvH\\ljvjmHH\\\\3v|\n",
        "|l\\HmHmH8Hl8l8Hjj\\jHlv3l3mlHvv3Hvlv8\\mvHvH|\n",
        "|m\\Hm\\H3mH\\\\3\\m838Hll3H3\\mm8m\\8vHvHm3v\\8lH|\n",
        "|vmljvm\\mjH8lHv\\Hlvj8H3vjvv3\\jlmvj88m8jlm\\|\n",
        "|lljHll33\\3Hm8mH88j3jH38HHHm\\llv3\\8mvml3mv|\n",
        "|vvvm3ll3j\\l8vHmvm\\vjj88vjHvm\\jvvv\\m3\\ljlj|\n",
        "|j33\\3HvmvllvH\\\\vmH8\\jlvlll8m8vlllHjvmvmll|\n",
        "|l3mmjvH\\H388jvjl8Hm\\m38H8j\\8Hl8H\\lmvlv3v\\|\n",
        "|H\\\\mjlj3lv38Hm\\j\\H8\\vj3vvljjj83j388\\8vmH3|\n",
        "|Hl\\jm383Hml8lH\\8j8H3Hm\\38jjjv8Hv88\\3v\\lvH|\n",
        "|mv8v3v\\vj8mvmll8ljlj\\3H3jmvl\\8ljmHmvm8j\\3|\n",
        "|H\\\\8lH3j38j\\3\\ljjmHHmv\\Hv\\ljm38mHHHH3vj3v|\n",
        "|ml8mv\\\\jlH88\\\\33mjHjH8\\3vlllH\\\\j8\\vl3m8v3|\n",
        "|3mH8ll8mlmv8H888l\\l3vvjm\\vHjHm\\jvjmml\\3m8|\n",
        "|lmv33HjHHl\\\\83H8vj\\vv\\8\\m8\\vl3jml3H\\l\\HlH|\n",
        "|jv\\v8m\\88vl\\3vH8\\jlH8HHvm83jljmv\\j\\Hl8Hjj|\n",
        "|3llmmj\\8vmlmj\\H3jv\\vjmll\\j\\\\l\\mlH3ml\\mv3v|\n",
        "|jj8jvmjllHvl8\\\\l3llHl\\jHvjH8l\\m\\mvlH3Hjj\\|\n",
        "|Hjmv38vlmv\\l\\v\\llHm\\v\\l33jHm8l8v8lHvH38Hm|\n",
        "|lHHlmlHlHHvvl8v83mm3l8HHHlH3lHvHjvvj3H3lm|\n",
        "+-----------------------------------------+\n",
        "```\n",
        "\n"
      ],
      "metadata": {
        "id": "8dk6x0uBjIs0"
      }
    },
    {
      "cell_type": "markdown",
      "source": [
        "หรือดังนี้\n",
        "\n",
        "\n",
        "\n",
        "```\n",
        "+-----------------------------------------+\n",
        "|PIIWwUPWOOOOOOUzPUPuPWzwUwzuPUuwIwwWuPwII|\n",
        "|wIwIPUWIOOOOOOIzzzUPuPPzwWWPWPuwPIuPzPzww|\n",
        "|wUPWuwPWzwOOOOOOuzIWIIPwUPWwPUzuUzWuPIuWU|\n",
        "|WUuwzuPPuUOOOOOOWPIWPuUwzuzUzwuWzIIwzWWUu|\n",
        "|IwIwPWIzIPOOOOOOUWUwIPzPwzwIIIzIwUPuwzwUu|\n",
        "|IUPIWPzPzUOOOOOOwzUzuwUzwzwWuWzUzPzuzIIuz|\n",
        "|zwuzPIwIOOOOOOIIPPIIUWUPzzWuWwzzPzPWwwzUz|\n",
        "|IUPzPuUzOOOOOOwWWzzUIWUIwPIUuPUwIzWzuwPWz|\n",
        "|PPwuPWwwOOOOOOuWPPWWWwwUzIwUIuWzUwWIuzzwu|\n",
        "|wIzIwUIuOOOOOOwzuIIUzzUuwWzwWUzPuzuWuPIPW|\n",
        "|IzPzwWuzOOOOOOOOOOOOwwIUuWWwzzIzWWuUUWUzw|\n",
        "|IPwIuUwIuIzuWuOOOOOOzWUPwuuUWuWzUzIzwIuwu|\n",
        "|UuzzuUWIzIPWPUOOOOOOzwzIIzzUIwWPUwzwWuuPW|\n",
        "|wWIWUWzIIIwUIzOOOOOOIUUwPUzPUIIuUPzPUWuzz|\n",
        "|PWWWwuUIuPIPuPOOOOOOOOOOOOOPzIzIIIUPzPwIP|\n",
        "|wIPPwwzuPwWPuWPIIuIUOOOOOOzwPUWuwWwwIUuuI|\n",
        "|uwPuPWIwwwPzuwuUUUUUOOOOOOzwPzWIUWuPwuUuU|\n",
        "|WwuzzIwwwUIPUwIuPIuIOOOOOOIzWzzPwuUIWIWUw|\n",
        "|uuuIIWPIUIUzzzPPWUuuOOOOOOuzPWIuWwPUwWuzw|\n",
        "|PIIWIuPUPIUUwwPPIIWuOOOOOOOOOOOOIWuWIwWuI|\n",
        "|WzWPzUwWUIWwzPOOOOOOWIUuUwOOOOOOuIPUPzzwz|\n",
        "|UwPUWUuPzPwWuzOOOOOOwwzPuIOOOOOOIwuuWuzUW|\n",
        "|IwWUwUuWuUwIPzOOOOOOIIPIwIOOOOOOuPuPWzIzW|\n",
        "|IuPuzuUwzwUuWzOOOOOOzUuUwuOOOOOOzUIzzwPUw|\n",
        "|UPUWWIwzuwPuPPOOOOOOUUUUPIOOOOOOzIzzuPuzW|\n",
        "|WwwIwUUWOOOOOOOOOOOOPwzIUwIOOOOOOPWWUIIIU|\n",
        "|zWzWuWPwOOOOOOUIzwUPUWzwuIWOOOOOOIIIUIIPu|\n",
        "|uzIWIWzUOOOOOOWPzIIuUUzWwWPOOOOOOzPWIUIWP|\n",
        "|IPWUuUPWOOOOOOIIuUPWPwIUIWwUzOOOOOOwWzIIW|\n",
        "|uuIuwUIuOOOOOOuUzUuUzWPuWwPuIOOOOOOWPWzPW|\n",
        "+-----------------------------------------+\n",
        "```\n",
        "\n"
      ],
      "metadata": {
        "id": "6WgXbIATl-G9"
      }
    }
  ]
}