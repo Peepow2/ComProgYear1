{
  "nbformat": 4,
  "nbformat_minor": 0,
  "metadata": {
    "colab": {
      "name": "HW2_ตัวช่วยทำการบ้าน.ipynb",
      "provenance": [],
      "collapsed_sections": []
    },
    "kernelspec": {
      "name": "python3",
      "display_name": "Python 3"
    },
    "language_info": {
      "name": "python"
    }
  },
  "cells": [
    {
      "cell_type": "code",
      "execution_count": null,
      "metadata": {
        "id": "tD6-LUeIUMR_"
      },
      "outputs": [],
      "source": [
        "import math \n",
        "def term_k(x,k):\n",
        "    return ((-1) ** k) * (x ** (2*k + 1)) / math.factorial(2*k + 1)\n",
        "\n",
        "def approximated_sin(x, m):\n",
        "    return sum([term_k(x, k) for k in range(0, m+1)])\n",
        "\n",
        "def find_eff(a,b):\n",
        "    return math.sqrt((a-b) ** 2) # abs(a-b)"
      ]
    },
    {
      "cell_type": "code",
      "source": [
        "x = 8 # |x| ที่ต้องการ\n",
        "m = 0 # ค่าที่น้อยที่สุดที่ทำให้ ผิดพลาดไม่เกิน 10**(-6)"
      ],
      "metadata": {
        "id": "xQk0VHYJaHya"
      },
      "execution_count": null,
      "outputs": []
    },
    {
      "cell_type": "code",
      "source": [
        "while find_eff(math.sin(x), approximated_sin(x, m)) >= 10 ** (-6): m += 1;\n",
        "print(\"x =\", x, \"-->\", \"m = \", m);"
      ],
      "metadata": {
        "colab": {
          "base_uri": "https://localhost:8080/"
        },
        "id": "pscwlpXEZ-Bq",
        "outputId": "77413333-87ad-4f68-cab8-dd15eacc2837"
      },
      "execution_count": null,
      "outputs": [
        {
          "output_type": "stream",
          "name": "stdout",
          "text": [
            "x = 8 --> m =  15\n"
          ]
        }
      ]
    }
  ]
}