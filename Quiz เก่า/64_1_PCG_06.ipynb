{
  "nbformat": 4,
  "nbformat_minor": 0,
  "metadata": {
    "colab": {
      "name": "64_1_PCG_06.ipynb",
      "provenance": [],
      "collapsed_sections": []
    },
    "kernelspec": {
      "name": "python3",
      "display_name": "Python 3"
    },
    "language_info": {
      "name": "python"
    }
  },
  "cells": [
    {
      "cell_type": "markdown",
      "source": [
        "# **Mean or Median**\n",
        "\n"
      ],
      "metadata": {
        "id": "I0UJVDk7OJug"
      }
    },
    {
      "cell_type": "markdown",
      "source": [
        "จงเขียนโปรแกรม\n",
        "\n",
        "\n",
        "1.   รับบรรทัดแรกเป็นรายการของจำนวนจริง (คั่นด้วยช่องว่าง)\n",
        "2.   รับบรรทัดที่สองเป็นสตริง\n",
        "      *   ถ้าเป็น mean ให้หาค่าเฉลี่ย\n",
        "      *   ถ้าเป็น median ให้หาค่ามัธยฐาน\n",
        "      *   ถ้าเป็นอย่างอื่น แสดงข้อความ Not a command\n"
      ],
      "metadata": {
        "id": "D3J5jMUyORKX"
      }
    },
    {
      "cell_type": "markdown",
      "source": [
        "### **ตัวอย่าง**"
      ],
      "metadata": {
        "id": "UmtxgcybPeXI"
      }
    },
    {
      "cell_type": "markdown",
      "source": [
        "Input &emsp;&emsp;&emsp;&emsp;&emsp;&ensp;&ensp;Output\n",
        "\n",
        "1 2 3 4 8.0 &emsp;&emsp;&emsp;&ensp; 3.0\\\n",
        "\nmedian\n",
        "\n",
        "1 2 3 4 8.0&emsp;&emsp;&emsp;&emsp;3.6\\\n",
        "mean\n",
        "\n",
        "2.0 5 7 15&emsp;&emsp;&emsp;&emsp; 6.0\\\n",
        "median\n",
        "\n",
        "2.0 5 7 15&emsp;&emsp;&emsp;&emsp; 7.25\\\n",
        "mean\n",
        "\n",
        "2 5 7 15&emsp;&emsp;&emsp;&emsp;&ensp;&ensp;Not a command\\\n",
        "mode "
      ],
      "metadata": {
        "id": "We1I75k4Pk7f"
      }
    },
    {
      "cell_type": "code",
      "source": [
        "# เขียนโค้ดลงใน cell นี้ เท่านั้น ห้ามลบบรรทัดนี้เด็ดขาด\n",
        "\n"
      ],
      "metadata": {
        "id": "Md-fP9fEP5Gf"
      },
      "execution_count": null,
      "outputs": []
    }
  ]
}
